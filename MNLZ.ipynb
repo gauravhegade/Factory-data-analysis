{
 "cells": [
  {
   "cell_type": "code",
   "execution_count": 1,
   "metadata": {},
   "outputs": [
    {
     "name": "stderr",
     "output_type": "stream",
     "text": [
      "c:\\programdata\\anaconda3\\lib\\site-packages\\statsmodels\\tools\\_testing.py:19: FutureWarning: pandas.util.testing is deprecated. Use the functions in the public API at pandas.testing instead.\n",
      "  import pandas.util.testing as tm\n"
     ]
    }
   ],
   "source": [
    "import pandas\n",
    "import os\n",
    "from sklearn.feature_selection import VarianceThreshold\n",
    "from sklearn.cluster import DBSCAN\n",
    "from sklearn.ensemble import IsolationForest, RandomForestClassifier\n",
    "from sklearn.preprocessing import StandardScaler, normalize\n",
    "from sklearn.decomposition import PCA\n",
    "from sklearn.model_selection import train_test_split, StratifiedShuffleSplit\n",
    "from sklearn.metrics import f1_score, accuracy_score, log_loss, plot_roc_curve\n",
    "from sklearn.metrics import precision_recall_fscore_support as all_score\n",
    "from imblearn.over_sampling import ADASYN, RandomOverSampler\n",
    "from imblearn.under_sampling import RandomUnderSampler\n",
    "from imblearn.ensemble import BalancedRandomForestClassifier\n",
    "from imblearn.combine import SMOTETomek\n",
    "import numpy as np\n",
    "import seaborn as sns\n",
    "import matplotlib.pyplot as plt\n",
    "from scipy import stats"
   ]
  },
  {
   "cell_type": "code",
   "execution_count": 2,
   "metadata": {},
   "outputs": [],
   "source": [
    "data = pandas.read_csv(os.path.abspath(os.getcwd()) + '\\\\mnlz\\\\mnlz.csv', encoding = \"UTF-16LE\", low_memory=False)"
   ]
  },
  {
   "cell_type": "code",
   "execution_count": 3,
   "metadata": {},
   "outputs": [
    {
     "data": {
      "text/plain": [
       "(32804, 568)"
      ]
     },
     "execution_count": 3,
     "metadata": {},
     "output_type": "execute_result"
    }
   ],
   "source": [
    "mnlz = data\n",
    "mnlz = mnlz.fillna(0)\n",
    "#mnlz = mnlz.loc[:, (mnlz != 0).any(axis=0)]\n",
    "mnlz.shape"
   ]
  },
  {
   "cell_type": "code",
   "execution_count": 128,
   "metadata": {
    "scrolled": true
   },
   "outputs": [],
   "source": [
    "feature_names = {}\n",
    "for name in list(mnlz):\n",
    "    for i in range(1, 6):\n",
    "        if ('Руч' + str(i)  in name or 'Ручей' + str(i) in name) and \\\n",
    "        'Брак' not in name and mnlz[name].dtype in ['int64', 'float64']:\n",
    "            if i in feature_names.keys():\n",
    "                feature_names[i].append(name)\n",
    "            else:\n",
    "                feature_names[i] = [name]"
   ]
  },
  {
   "cell_type": "code",
   "execution_count": 129,
   "metadata": {},
   "outputs": [],
   "source": [
    "x_mnlz = mnlz.loc[:, feature_names[1]].select_dtypes(include=['int64', 'float64']).values\n",
    "y_mnlz = mnlz[[f'Ручей1_Брак_загот.шт-вес']].values\n",
    "for i in range(2, 6):\n",
    "    y_mnlz = np.concatenate((y_mnlz, mnlz[[f'Ручей{str(i)}_Брак_загот.шт-вес']].values))\n",
    "    x_mnlz = np.concatenate((x_mnlz, mnlz.loc[:, feature_names[i]].select_dtypes(include=['int64', 'float64']).values))"
   ]
  },
  {
   "cell_type": "code",
   "execution_count": 130,
   "metadata": {},
   "outputs": [
    {
     "name": "stdout",
     "output_type": "stream",
     "text": [
      "(164020, 89) (164020, 1)\n"
     ]
    }
   ],
   "source": [
    "print(x_mnlz.shape, y_mnlz.shape)"
   ]
  },
  {
   "cell_type": "code",
   "execution_count": 131,
   "metadata": {},
   "outputs": [],
   "source": [
    "x = x_mnlz"
   ]
  },
  {
   "cell_type": "code",
   "execution_count": 132,
   "metadata": {},
   "outputs": [],
   "source": [
    "#idx = np.argwhere(np.all(x_mnlz[..., :] == 0, axis=0))\n",
    "#x = np.delete(x_mnlz, idx, axis=1)"
   ]
  },
  {
   "cell_type": "code",
   "execution_count": 133,
   "metadata": {},
   "outputs": [
    {
     "data": {
      "text/plain": [
       "((1247, 89), (1247, 1))"
      ]
     },
     "execution_count": 133,
     "metadata": {},
     "output_type": "execute_result"
    }
   ],
   "source": [
    "idx = np.argwhere(np.all(y_mnlz == 0, axis=1))\n",
    "x_defect = np.delete(x, idx, axis=0)\n",
    "y_defect = np.delete(y_mnlz, idx, axis=0)\n",
    "y_defect = np.where(y_defect != 0, 1, 0)\n",
    "x_defect.shape, y_defect.shape"
   ]
  },
  {
   "cell_type": "code",
   "execution_count": 134,
   "metadata": {},
   "outputs": [],
   "source": [
    "idx = np.argwhere(np.all(x == 0, axis=1))\n",
    "x = np.delete(x, idx, axis=0)\n",
    "y = np.delete(y_mnlz, idx, axis=0)"
   ]
  },
  {
   "cell_type": "code",
   "execution_count": 135,
   "metadata": {},
   "outputs": [
    {
     "data": {
      "text/plain": [
       "((147385, 89), (147385, 1))"
      ]
     },
     "execution_count": 135,
     "metadata": {},
     "output_type": "execute_result"
    }
   ],
   "source": [
    "x.shape, y.shape"
   ]
  },
  {
   "cell_type": "code",
   "execution_count": 136,
   "metadata": {},
   "outputs": [
    {
     "data": {
      "text/plain": [
       "{0: 146138, 1: 1247}"
      ]
     },
     "execution_count": 136,
     "metadata": {},
     "output_type": "execute_result"
    }
   ],
   "source": [
    "y = np.where(y != 0, 1, 0)\n",
    "unique, counts = np.unique(y, return_counts=True)\n",
    "count = dict(zip(unique, counts))\n",
    "count"
   ]
  },
  {
   "cell_type": "code",
   "execution_count": 137,
   "metadata": {},
   "outputs": [],
   "source": [
    "number_of_trees = np.linspace(1, 100, num=11, dtype='int')"
   ]
  },
  {
   "cell_type": "code",
   "execution_count": 138,
   "metadata": {},
   "outputs": [],
   "source": [
    "X_train, X_test, y_train, y_test = train_test_split(x, y, test_size=0.2)"
   ]
  },
  {
   "cell_type": "code",
   "execution_count": null,
   "metadata": {},
   "outputs": [],
   "source": [
    "f_scores = []\n",
    "accuraciy_values = []\n",
    "loss_values = []\n",
    "for n in number_of_trees:\n",
    "    clf = RandomForestClassifier(n_estimators=n, n_jobs=-1)\n",
    "    clf.fit(X_train, y_train.ravel())\n",
    "    y_predicted = clf.predict(X_test)\n",
    "    f_scores.append(f1_score(y_test, y_predicted))\n",
    "    accuraciy_values.append(accuracy_score(y_test, y_predicted))\n",
    "    loss_values.append(log_loss(y_test, y_predicted))"
   ]
  },
  {
   "cell_type": "code",
   "execution_count": 140,
   "metadata": {},
   "outputs": [
    {
     "data": {
      "text/plain": [
       "[<matplotlib.lines.Line2D at 0x28d5ab03888>]"
      ]
     },
     "execution_count": 140,
     "metadata": {},
     "output_type": "execute_result"
    },
    {
     "data": {
      "image/png": "[encoded data removed]",
      "text/plain": [
       "<Figure size 432x288 with 1 Axes>"
      ]
     },
     "metadata": {
      "needs_background": "light"
     },
     "output_type": "display_data"
    }
   ],
   "source": [
    "plt.plot(number_of_trees, f_scores)"
   ]
  },
  {
   "cell_type": "code",
   "execution_count": 141,
   "metadata": {},
   "outputs": [
    {
     "data": {
      "text/plain": [
       "[<matplotlib.lines.Line2D at 0x28d5ab66e08>]"
      ]
     },
     "execution_count": 141,
     "metadata": {},
     "output_type": "execute_result"
    },
    {
     "data": {
      "image/png": "[encoded data removed]",
      "text/plain": [
       "<Figure size 432x288 with 1 Axes>"
      ]
     },
     "metadata": {
      "needs_background": "light"
     },
     "output_type": "display_data"
    }
   ],
   "source": [
    "plt.plot(number_of_trees, accuraciy_values)"
   ]
  },
  {
   "cell_type": "code",
   "execution_count": 142,
   "metadata": {},
   "outputs": [
    {
     "data": {
      "text/plain": [
       "[<matplotlib.lines.Line2D at 0x28d5abcacc8>]"
      ]
     },
     "execution_count": 142,
     "metadata": {},
     "output_type": "execute_result"
    },
    {
     "data": {
      "image/png": "[encoded data removed]",
      "text/plain": [
       "<Figure size 432x288 with 1 Axes>"
      ]
     },
     "metadata": {
      "needs_background": "light"
     },
     "output_type": "display_data"
    }
   ],
   "source": [
    "plt.plot(number_of_trees, loss_values)"
   ]
  },
  {
   "cell_type": "code",
   "execution_count": 143,
   "metadata": {},
   "outputs": [
    {
     "data": {
      "text/plain": [
       "{0: 1247, 1: 1247}"
      ]
     },
     "execution_count": 143,
     "metadata": {},
     "output_type": "execute_result"
    }
   ],
   "source": [
    "X_under, y_under = RandomUnderSampler().fit_resample(X=x, y=y)\n",
    "unique, counts = np.unique(y_under, return_counts=True)\n",
    "count = dict(zip(unique, counts))\n",
    "count"
   ]
  },
  {
   "cell_type": "code",
   "execution_count": 144,
   "metadata": {},
   "outputs": [
    {
     "data": {
      "text/plain": [
       "((1247, 89), (1247,))"
      ]
     },
     "execution_count": 144,
     "metadata": {},
     "output_type": "execute_result"
    }
   ],
   "source": [
    "idx = np.argwhere(y_under == 1)\n",
    "x_without_defect = np.delete(X_under, idx, axis=0)\n",
    "y_without_defect = np.delete(y_under, idx, axis=0)\n",
    "y_without_defect = np.where(y_without_defect != 0, 1, 0)\n",
    "x_without_defect.shape, y_without_defect.shape"
   ]
  },
  {
   "cell_type": "code",
   "execution_count": 145,
   "metadata": {},
   "outputs": [
    {
     "data": {
      "text/plain": [
       "{0: 1247}"
      ]
     },
     "execution_count": 145,
     "metadata": {},
     "output_type": "execute_result"
    }
   ],
   "source": [
    "unique, counts = np.unique(y_without_defect, return_counts=True)\n",
    "count = dict(zip(unique, counts))\n",
    "count"
   ]
  },
  {
   "cell_type": "code",
   "execution_count": 146,
   "metadata": {},
   "outputs": [],
   "source": [
    "X_train_under, X_test_under, y_train_under, y_test_under = train_test_split(X_under, y_under, test_size=0.2)"
   ]
  },
  {
   "cell_type": "code",
   "execution_count": null,
   "metadata": {},
   "outputs": [],
   "source": [
    "f_scores_under = []\n",
    "accuraciy_values_under = []\n",
    "loss_values_under = []\n",
    "for n in number_of_trees:\n",
    "    print(n)\n",
    "    clf = RandomForestClassifier(n_estimators=n, n_jobs=-1)\n",
    "    clf.fit(X_train_under, y_train_under.ravel())\n",
    "    y_predicted_under = clf.predict(X_test_under)\n",
    "    f_scores_under.append(f1_score(y_test_under, y_predicted_under))\n",
    "    accuraciy_values_under.append(accuracy_score(y_test_under, y_predicted_under))\n",
    "    loss_values_under.append(log_loss(y_test_under, y_predicted_under))"
   ]
  },
  {
   "cell_type": "code",
   "execution_count": 148,
   "metadata": {},
   "outputs": [
    {
     "data": {
      "text/plain": [
       "[<matplotlib.lines.Line2D at 0x28d5b0cce08>]"
      ]
     },
     "execution_count": 148,
     "metadata": {},
     "output_type": "execute_result"
    },
    {
     "data": {
      "image/png": "[encoded data removed]",
      "text/plain": [
       "<Figure size 432x288 with 1 Axes>"
      ]
     },
     "metadata": {
      "needs_background": "light"
     },
     "output_type": "display_data"
    }
   ],
   "source": [
    "plt.plot(number_of_trees, f_scores_under)"
   ]
  },
  {
   "cell_type": "code",
   "execution_count": 149,
   "metadata": {
    "scrolled": true
   },
   "outputs": [
    {
     "data": {
      "text/plain": [
       "[<matplotlib.lines.Line2D at 0x28d5b12afc8>]"
      ]
     },
     "execution_count": 149,
     "metadata": {},
     "output_type": "execute_result"
    },
    {
     "data": {
      "image/png": "[encoded data removed]",
      "text/plain": [
       "<Figure size 432x288 with 1 Axes>"
      ]
     },
     "metadata": {
      "needs_background": "light"
     },
     "output_type": "display_data"
    }
   ],
   "source": [
    "plt.plot(number_of_trees, accuraciy_values_under)"
   ]
  },
  {
   "cell_type": "code",
   "execution_count": 150,
   "metadata": {},
   "outputs": [
    {
     "data": {
      "text/plain": [
       "[<matplotlib.lines.Line2D at 0x28d5b18ca88>]"
      ]
     },
     "execution_count": 150,
     "metadata": {},
     "output_type": "execute_result"
    },
    {
     "data": {
      "image/png": "[encoded data removed]",
      "text/plain": [
       "<Figure size 432x288 with 1 Axes>"
      ]
     },
     "metadata": {
      "needs_background": "light"
     },
     "output_type": "display_data"
    }
   ],
   "source": [
    "plt.plot(number_of_trees, loss_values_under)"
   ]
  },
  {
   "cell_type": "code",
   "execution_count": 152,
   "metadata": {},
   "outputs": [
    {
     "name": "stdout",
     "output_type": "stream",
     "text": [
      "0.9991974317817015\n",
      "0.9983961507618284\n",
      "(array([0., 1.]), array([0.        , 0.99839615]), array([0.        , 0.99919743]), array([   0, 1247], dtype=int64))\n"
     ]
    },
    {
     "name": "stderr",
     "output_type": "stream",
     "text": [
      "c:\\programdata\\anaconda3\\lib\\site-packages\\sklearn\\metrics\\_classification.py:1272: UndefinedMetricWarning: Recall and F-score are ill-defined and being set to 0.0 in labels with no true samples. Use `zero_division` parameter to control this behavior.\n",
      "  _warn_prf(average, modifier, msg_start, len(result))\n"
     ]
    }
   ],
   "source": [
    "y_predicted_under = clf.predict(x_defect)\n",
    "print(f1_score(y_defect, y_predicted_under))\n",
    "print(accuracy_score(y_defect, y_predicted_under))\n",
    "print(all_score(y_defect, y_predicted_under))"
   ]
  },
  {
   "cell_type": "code",
   "execution_count": 153,
   "metadata": {},
   "outputs": [
    {
     "name": "stdout",
     "output_type": "stream",
     "text": [
      "0.0\n",
      "0.9903769045709703\n",
      "(array([1., 0.]), array([0.9903769, 0.       ]), array([0.99516519, 0.        ]), array([1247,    0], dtype=int64))\n"
     ]
    },
    {
     "name": "stderr",
     "output_type": "stream",
     "text": [
      "c:\\programdata\\anaconda3\\lib\\site-packages\\sklearn\\metrics\\_classification.py:1272: UndefinedMetricWarning: Recall and F-score are ill-defined and being set to 0.0 in labels with no true samples. Use `zero_division` parameter to control this behavior.\n",
      "  _warn_prf(average, modifier, msg_start, len(result))\n"
     ]
    }
   ],
   "source": [
    "y_predicted_under = clf.predict(x_without_defect)\n",
    "print(f1_score(y_without_defect, y_predicted_under))\n",
    "print(accuracy_score(y_without_defect, y_predicted_under))\n",
    "print(all_score(y_without_defect, y_predicted_under))"
   ]
  },
  {
   "cell_type": "code",
   "execution_count": 154,
   "metadata": {},
   "outputs": [
    {
     "data": {
      "text/plain": [
       "array([6.15578079e-03, 6.50054898e-03, 2.67374218e-03, 2.33798045e-04,\n",
       "       1.21381182e-04, 4.32608728e-02, 2.69384843e-02, 8.34579202e-04,\n",
       "       3.86395719e-04, 1.05369243e-03, 3.74460258e-03, 1.11963839e-02,\n",
       "       4.59204612e-03, 3.01222811e-02, 0.00000000e+00, 0.00000000e+00,\n",
       "       0.00000000e+00, 3.79677832e-03, 5.03592445e-03, 6.49898367e-02,\n",
       "       8.74014205e-03, 3.90049001e-03, 1.79365778e-01, 2.74776876e-02,\n",
       "       4.27630296e-03, 1.15568702e-01, 5.96472829e-03, 4.40301650e-03,\n",
       "       2.47227587e-02, 4.95165299e-03, 4.52831402e-03, 4.30707449e-03,\n",
       "       9.94179220e-04, 7.07726422e-04, 7.60340273e-04, 2.46816510e-03,\n",
       "       3.94541492e-03, 4.51804833e-03, 1.68406301e-02, 1.11959083e-02,\n",
       "       6.74187154e-03, 9.09168917e-03, 7.15478408e-03, 6.78318180e-03,\n",
       "       9.33184171e-03, 9.59196307e-03, 4.35730414e-02, 8.18304682e-03,\n",
       "       6.25771462e-03, 4.89623223e-02, 9.19807899e-03, 9.66130010e-03,\n",
       "       4.14742383e-02, 3.39323683e-03, 3.80355175e-03, 2.84755130e-02,\n",
       "       5.95815590e-03, 7.54852017e-03, 1.47691285e-02, 3.19518756e-03,\n",
       "       4.42847856e-03, 1.07833755e-02, 2.17355292e-03, 1.59495326e-03,\n",
       "       2.51851739e-03, 1.34939101e-03, 1.42695817e-03, 1.46142389e-03,\n",
       "       5.68790995e-03, 3.21673719e-03, 3.48061953e-03, 3.42465488e-03,\n",
       "       2.09186786e-03, 5.17347469e-03, 5.39349371e-03, 4.82269622e-03,\n",
       "       2.58208734e-03, 4.71180164e-03, 2.06862369e-03, 2.14812537e-03,\n",
       "       1.67874185e-03, 1.38992537e-03, 1.30976387e-03, 3.57496556e-04,\n",
       "       1.95400575e-04, 0.00000000e+00, 0.00000000e+00, 1.07372884e-04,\n",
       "       0.00000000e+00])"
      ]
     },
     "execution_count": 154,
     "metadata": {},
     "output_type": "execute_result"
    }
   ],
   "source": [
    "clf.feature_importances_"
   ]
  },
  {
   "cell_type": "code",
   "execution_count": 155,
   "metadata": {},
   "outputs": [
    {
     "data": {
      "text/plain": [
       "[('Мин.знач.Скор.разл.Руч1', 0.17936577788746824),\n",
       " ('Мин.знач.Ур.в.крист.Руч1', 0.11556870185569477),\n",
       " ('Мин.значПоз.стер.стоп.Руч1', 0.06498983665628674),\n",
       " ('Мин.зн.Зон1.дав.Руч1', 0.04896232227672393),\n",
       " ('Мин.зн.Зон1.расх.Руч1', 0.043573041354038174),\n",
       " ('Ручей1-длинна_хвоста', 0.04326087280030873),\n",
       " ('Мин.зн.Зон2.расх.Руч1', 0.04147423833566503),\n",
       " ('Мин.значениеВесвпром.ковшеРуч1', 0.030122281062850895),\n",
       " ('Мин.зн.Зон2.дав.Руч1', 0.02847551299263584),\n",
       " ('Ср.знач.Ур.в.крист.Руч1', 0.027477687551825968),\n",
       " ('Ручей1-вес_хвоста', 0.026938484287276045),\n",
       " ('Мин.знач.Кач.крист.Руч1', 0.02472275866214895),\n",
       " ('Ср.знач.Де.t.кр.Руч1', 0.016840630096852074),\n",
       " ('Мин.зн.Зон3.расх.Руч1', 0.014769128467129496),\n",
       " ('Ср.значениеВесв пром.ковшеРуч1', 0.011196383891337314),\n",
       " ('Макс.знач.Де.t.кр.Руч1', 0.011195908277718498),\n",
       " ('Мин.зн.Зон3.дав.Руч1', 0.010783375488448684)]"
      ]
     },
     "execution_count": 155,
     "metadata": {},
     "output_type": "execute_result"
    }
   ],
   "source": [
    "out = []\n",
    "for i, imp in enumerate(clf.feature_importances_):\n",
    "    if imp > 0.01:\n",
    "        out.append((feature_names[1][i], imp))\n",
    "sorted(out, key=lambda tup: tup[1], reverse=True)"
   ]
  },
  {
   "cell_type": "code",
   "execution_count": 156,
   "metadata": {},
   "outputs": [
    {
     "data": {
      "text/html": [
       "<div>\n",
       "<style scoped>\n",
       "    .dataframe tbody tr th:only-of-type {\n",
       "        vertical-align: middle;\n",
       "    }\n",
       "\n",
       "    .dataframe tbody tr th {\n",
       "        vertical-align: top;\n",
       "    }\n",
       "\n",
       "    .dataframe thead th {\n",
       "        text-align: right;\n",
       "    }\n",
       "</style>\n",
       "<table border=\"1\" class=\"dataframe\">\n",
       "  <thead>\n",
       "    <tr style=\"text-align: right;\">\n",
       "      <th></th>\n",
       "      <th>Ручей1_Брак_загот.шт-вес</th>\n",
       "      <th>Мин.знач.Скор.разл.Руч1</th>\n",
       "      <th>Мин.знач.Ур.в.крист.Руч1</th>\n",
       "      <th>Мин.зн.Зон1.расх.Руч1</th>\n",
       "      <th>Мин.значениеВесвпром.ковшеРуч1</th>\n",
       "    </tr>\n",
       "  </thead>\n",
       "  <tbody>\n",
       "    <tr>\n",
       "      <th>Ручей1_Брак_загот.шт-вес</th>\n",
       "      <td>1.000000</td>\n",
       "      <td>-0.151641</td>\n",
       "      <td>-0.266068</td>\n",
       "      <td>-0.058403</td>\n",
       "      <td>-0.088181</td>\n",
       "    </tr>\n",
       "    <tr>\n",
       "      <th>Мин.знач.Скор.разл.Руч1</th>\n",
       "      <td>-0.151641</td>\n",
       "      <td>1.000000</td>\n",
       "      <td>0.437115</td>\n",
       "      <td>0.938658</td>\n",
       "      <td>0.323076</td>\n",
       "    </tr>\n",
       "    <tr>\n",
       "      <th>Мин.знач.Ур.в.крист.Руч1</th>\n",
       "      <td>-0.266068</td>\n",
       "      <td>0.437115</td>\n",
       "      <td>1.000000</td>\n",
       "      <td>0.383804</td>\n",
       "      <td>0.528735</td>\n",
       "    </tr>\n",
       "    <tr>\n",
       "      <th>Мин.зн.Зон1.расх.Руч1</th>\n",
       "      <td>-0.058403</td>\n",
       "      <td>0.938658</td>\n",
       "      <td>0.383804</td>\n",
       "      <td>1.000000</td>\n",
       "      <td>0.321763</td>\n",
       "    </tr>\n",
       "    <tr>\n",
       "      <th>Мин.значениеВесвпром.ковшеРуч1</th>\n",
       "      <td>-0.088181</td>\n",
       "      <td>0.323076</td>\n",
       "      <td>0.528735</td>\n",
       "      <td>0.321763</td>\n",
       "      <td>1.000000</td>\n",
       "    </tr>\n",
       "  </tbody>\n",
       "</table>\n",
       "</div>"
      ],
      "text/plain": [
       "                                Ручей1_Брак_загот.шт-вес  \\\n",
       "Ручей1_Брак_загот.шт-вес                        1.000000   \n",
       "Мин.знач.Скор.разл.Руч1                        -0.151641   \n",
       "Мин.знач.Ур.в.крист.Руч1                       -0.266068   \n",
       "Мин.зн.Зон1.расх.Руч1                          -0.058403   \n",
       "Мин.значениеВесвпром.ковшеРуч1                 -0.088181   \n",
       "\n",
       "                                Мин.знач.Скор.разл.Руч1  \\\n",
       "Ручей1_Брак_загот.шт-вес                      -0.151641   \n",
       "Мин.знач.Скор.разл.Руч1                        1.000000   \n",
       "Мин.знач.Ур.в.крист.Руч1                       0.437115   \n",
       "Мин.зн.Зон1.расх.Руч1                          0.938658   \n",
       "Мин.значениеВесвпром.ковшеРуч1                 0.323076   \n",
       "\n",
       "                                Мин.знач.Ур.в.крист.Руч1  \\\n",
       "Ручей1_Брак_загот.шт-вес                       -0.266068   \n",
       "Мин.знач.Скор.разл.Руч1                         0.437115   \n",
       "Мин.знач.Ур.в.крист.Руч1                        1.000000   \n",
       "Мин.зн.Зон1.расх.Руч1                           0.383804   \n",
       "Мин.значениеВесвпром.ковшеРуч1                  0.528735   \n",
       "\n",
       "                                Мин.зн.Зон1.расх.Руч1  \\\n",
       "Ручей1_Брак_загот.шт-вес                    -0.058403   \n",
       "Мин.знач.Скор.разл.Руч1                      0.938658   \n",
       "Мин.знач.Ур.в.крист.Руч1                     0.383804   \n",
       "Мин.зн.Зон1.расх.Руч1                        1.000000   \n",
       "Мин.значениеВесвпром.ковшеРуч1               0.321763   \n",
       "\n",
       "                                Мин.значениеВесвпром.ковшеРуч1  \n",
       "Ручей1_Брак_загот.шт-вес                             -0.088181  \n",
       "Мин.знач.Скор.разл.Руч1                               0.323076  \n",
       "Мин.знач.Ур.в.крист.Руч1                              0.528735  \n",
       "Мин.зн.Зон1.расх.Руч1                                 0.321763  \n",
       "Мин.значениеВесвпром.ковшеРуч1                        1.000000  "
      ]
     },
     "execution_count": 156,
     "metadata": {},
     "output_type": "execute_result"
    }
   ],
   "source": [
    "mnlz.loc[mnlz['Ручей1_Брак_загот.шт-вес'] != 0, 'Ручей1_Брак_загот.шт-вес'] = 1\n",
    "mnlz['Ручей1_Брак_загот.шт-вес'] = pandas.to_numeric(mnlz['Ручей1_Брак_загот.шт-вес'])\n",
    "mnlz[['Ручей1_Брак_загот.шт-вес', 'Мин.знач.Скор.разл.Руч1', 'Мин.знач.Ур.в.крист.Руч1', 'Мин.зн.Зон1.расх.Руч1', 'Мин.значениеВесвпром.ковшеРуч1']].corr()"
   ]
  },
  {
   "cell_type": "code",
   "execution_count": 157,
   "metadata": {},
   "outputs": [
    {
     "data": {
      "text/html": [
       "<div>\n",
       "<style scoped>\n",
       "    .dataframe tbody tr th:only-of-type {\n",
       "        vertical-align: middle;\n",
       "    }\n",
       "\n",
       "    .dataframe tbody tr th {\n",
       "        vertical-align: top;\n",
       "    }\n",
       "\n",
       "    .dataframe thead th {\n",
       "        text-align: right;\n",
       "    }\n",
       "</style>\n",
       "<table border=\"1\" class=\"dataframe\">\n",
       "  <thead>\n",
       "    <tr style=\"text-align: right;\">\n",
       "      <th></th>\n",
       "      <th>последняя_температура</th>\n",
       "      <th>Температура_1</th>\n",
       "      <th>Температура_2</th>\n",
       "      <th>Температура_3</th>\n",
       "    </tr>\n",
       "  </thead>\n",
       "  <tbody>\n",
       "    <tr>\n",
       "      <th>0</th>\n",
       "      <td>1532.0</td>\n",
       "      <td>06:53:54 1543</td>\n",
       "      <td>06:58:00 1543</td>\n",
       "      <td>07:02:21 1534</td>\n",
       "    </tr>\n",
       "    <tr>\n",
       "      <th>1</th>\n",
       "      <td>1529.0</td>\n",
       "      <td>06:39:59 1549</td>\n",
       "      <td>06:56:52 1549</td>\n",
       "      <td>07:04:37 1549</td>\n",
       "    </tr>\n",
       "    <tr>\n",
       "      <th>2</th>\n",
       "      <td>-273.0</td>\n",
       "      <td>0</td>\n",
       "      <td>0</td>\n",
       "      <td>0</td>\n",
       "    </tr>\n",
       "    <tr>\n",
       "      <th>3</th>\n",
       "      <td>1531.0</td>\n",
       "      <td>08:12:16 1546</td>\n",
       "      <td>08:22:47 1541</td>\n",
       "      <td>08:32:14 1538</td>\n",
       "    </tr>\n",
       "    <tr>\n",
       "      <th>4</th>\n",
       "      <td>1543.0</td>\n",
       "      <td>09:15:04 1548</td>\n",
       "      <td>09:28:11 1547</td>\n",
       "      <td>09:38:31 1552</td>\n",
       "    </tr>\n",
       "    <tr>\n",
       "      <th>5</th>\n",
       "      <td>1546.0</td>\n",
       "      <td>10:42:00 1549</td>\n",
       "      <td>10:53:55 1549</td>\n",
       "      <td>10:54:15 1545</td>\n",
       "    </tr>\n",
       "    <tr>\n",
       "      <th>6</th>\n",
       "      <td>1517.0</td>\n",
       "      <td>17:24:49 1522</td>\n",
       "      <td>17:33:41 1529</td>\n",
       "      <td>17:44:33 1524</td>\n",
       "    </tr>\n",
       "    <tr>\n",
       "      <th>7</th>\n",
       "      <td>1519.0</td>\n",
       "      <td>16:12:15 1525</td>\n",
       "      <td>16:22:57 1525</td>\n",
       "      <td>16:23:13 1528</td>\n",
       "    </tr>\n",
       "    <tr>\n",
       "      <th>8</th>\n",
       "      <td>1511.0</td>\n",
       "      <td>13:50:13 1511</td>\n",
       "      <td>14:01:50 1511</td>\n",
       "      <td>14:13:12 1521</td>\n",
       "    </tr>\n",
       "    <tr>\n",
       "      <th>9</th>\n",
       "      <td>1509.0</td>\n",
       "      <td>15:07:57 1517</td>\n",
       "      <td>15:14:48 1517</td>\n",
       "      <td>15:15:14 1523</td>\n",
       "    </tr>\n",
       "    <tr>\n",
       "      <th>10</th>\n",
       "      <td>1541.0</td>\n",
       "      <td>15:57:17 1546</td>\n",
       "      <td>16:12:15 1547</td>\n",
       "      <td>16:22:12 1547</td>\n",
       "    </tr>\n",
       "    <tr>\n",
       "      <th>11</th>\n",
       "      <td>1536.0</td>\n",
       "      <td>17:18:39 1541</td>\n",
       "      <td>17:19:29 1542</td>\n",
       "      <td>17:29:41 1542</td>\n",
       "    </tr>\n",
       "    <tr>\n",
       "      <th>12</th>\n",
       "      <td>1535.0</td>\n",
       "      <td>18:30:51 1546</td>\n",
       "      <td>18:41:38 1546</td>\n",
       "      <td>18:51:58 1547</td>\n",
       "    </tr>\n",
       "    <tr>\n",
       "      <th>13</th>\n",
       "      <td>1531.0</td>\n",
       "      <td>20:18:00 1533</td>\n",
       "      <td>20:24:42 1533</td>\n",
       "      <td>20:30:13 1531</td>\n",
       "    </tr>\n",
       "    <tr>\n",
       "      <th>14</th>\n",
       "      <td>1536.0</td>\n",
       "      <td>20:41:41 1535</td>\n",
       "      <td>21:00:33 1547</td>\n",
       "      <td>21:01:59 1547</td>\n",
       "    </tr>\n",
       "    <tr>\n",
       "      <th>15</th>\n",
       "      <td>1536.0</td>\n",
       "      <td>21:45:58 1536</td>\n",
       "      <td>22:00:14 1543</td>\n",
       "      <td>22:12:01 1537</td>\n",
       "    </tr>\n",
       "    <tr>\n",
       "      <th>16</th>\n",
       "      <td>1526.0</td>\n",
       "      <td>22:41:33 1536</td>\n",
       "      <td>22:47:14 1539</td>\n",
       "      <td>23:00:05 1539</td>\n",
       "    </tr>\n",
       "    <tr>\n",
       "      <th>17</th>\n",
       "      <td>1538.0</td>\n",
       "      <td>23:45:04 1526</td>\n",
       "      <td>23:45:39 1526</td>\n",
       "      <td>23:51:01 1543</td>\n",
       "    </tr>\n",
       "    <tr>\n",
       "      <th>18</th>\n",
       "      <td>1521.0</td>\n",
       "      <td>00:48:58 1538</td>\n",
       "      <td>01:03:11 1546</td>\n",
       "      <td>01:17:25 1548</td>\n",
       "    </tr>\n",
       "    <tr>\n",
       "      <th>19</th>\n",
       "      <td>1525.0</td>\n",
       "      <td>02:10:47 1531</td>\n",
       "      <td>02:12:17 1529</td>\n",
       "      <td>02:23:14 1529</td>\n",
       "    </tr>\n",
       "    <tr>\n",
       "      <th>20</th>\n",
       "      <td>1517.0</td>\n",
       "      <td>03:33:17 1527</td>\n",
       "      <td>03:51:50 1526</td>\n",
       "      <td>04:03:51 1525</td>\n",
       "    </tr>\n",
       "    <tr>\n",
       "      <th>21</th>\n",
       "      <td>1517.0</td>\n",
       "      <td>02:52:07 1538</td>\n",
       "      <td>02:53:53 1528</td>\n",
       "      <td>03:12:36 1528</td>\n",
       "    </tr>\n",
       "    <tr>\n",
       "      <th>22</th>\n",
       "      <td>1503.0</td>\n",
       "      <td>04:03:46 1509</td>\n",
       "      <td>04:08:57 1517</td>\n",
       "      <td>04:21:39 1517</td>\n",
       "    </tr>\n",
       "    <tr>\n",
       "      <th>23</th>\n",
       "      <td>1506.0</td>\n",
       "      <td>05:17:45 1510</td>\n",
       "      <td>05:30:02 1515</td>\n",
       "      <td>05:45:20 1518</td>\n",
       "    </tr>\n",
       "    <tr>\n",
       "      <th>24</th>\n",
       "      <td>1520.0</td>\n",
       "      <td>05:27:46 1525</td>\n",
       "      <td>05:45:35 1520</td>\n",
       "      <td>05:58:22 1520</td>\n",
       "    </tr>\n",
       "    <tr>\n",
       "      <th>25</th>\n",
       "      <td>1520.0</td>\n",
       "      <td>06:30:21 1522</td>\n",
       "      <td>06:47:04 1523</td>\n",
       "      <td>07:06:08 1523</td>\n",
       "    </tr>\n",
       "    <tr>\n",
       "      <th>26</th>\n",
       "      <td>1520.0</td>\n",
       "      <td>06:17:06 1527</td>\n",
       "      <td>06:38:29 1521</td>\n",
       "      <td>06:59:28 1519</td>\n",
       "    </tr>\n",
       "    <tr>\n",
       "      <th>27</th>\n",
       "      <td>1510.0</td>\n",
       "      <td>07:38:05 1520</td>\n",
       "      <td>07:54:38 1519</td>\n",
       "      <td>08:06:41 1520</td>\n",
       "    </tr>\n",
       "    <tr>\n",
       "      <th>28</th>\n",
       "      <td>1519.0</td>\n",
       "      <td>07:34:55 1523</td>\n",
       "      <td>07:49:28 1522</td>\n",
       "      <td>08:00:22 1517</td>\n",
       "    </tr>\n",
       "    <tr>\n",
       "      <th>29</th>\n",
       "      <td>1515.0</td>\n",
       "      <td>08:40:10 1519</td>\n",
       "      <td>08:53:46 1471</td>\n",
       "      <td>08:56:22 1522</td>\n",
       "    </tr>\n",
       "  </tbody>\n",
       "</table>\n",
       "</div>"
      ],
      "text/plain": [
       "    последняя_температура  Температура_1  Температура_2  Температура_3\n",
       "0                  1532.0  06:53:54 1543  06:58:00 1543  07:02:21 1534\n",
       "1                  1529.0  06:39:59 1549  06:56:52 1549  07:04:37 1549\n",
       "2                  -273.0              0              0              0\n",
       "3                  1531.0  08:12:16 1546  08:22:47 1541  08:32:14 1538\n",
       "4                  1543.0  09:15:04 1548  09:28:11 1547  09:38:31 1552\n",
       "5                  1546.0  10:42:00 1549  10:53:55 1549  10:54:15 1545\n",
       "6                  1517.0  17:24:49 1522  17:33:41 1529  17:44:33 1524\n",
       "7                  1519.0  16:12:15 1525  16:22:57 1525  16:23:13 1528\n",
       "8                  1511.0  13:50:13 1511  14:01:50 1511  14:13:12 1521\n",
       "9                  1509.0  15:07:57 1517  15:14:48 1517  15:15:14 1523\n",
       "10                 1541.0  15:57:17 1546  16:12:15 1547  16:22:12 1547\n",
       "11                 1536.0  17:18:39 1541  17:19:29 1542  17:29:41 1542\n",
       "12                 1535.0  18:30:51 1546  18:41:38 1546  18:51:58 1547\n",
       "13                 1531.0  20:18:00 1533  20:24:42 1533  20:30:13 1531\n",
       "14                 1536.0  20:41:41 1535  21:00:33 1547  21:01:59 1547\n",
       "15                 1536.0  21:45:58 1536  22:00:14 1543  22:12:01 1537\n",
       "16                 1526.0  22:41:33 1536  22:47:14 1539  23:00:05 1539\n",
       "17                 1538.0  23:45:04 1526  23:45:39 1526  23:51:01 1543\n",
       "18                 1521.0  00:48:58 1538  01:03:11 1546  01:17:25 1548\n",
       "19                 1525.0  02:10:47 1531  02:12:17 1529  02:23:14 1529\n",
       "20                 1517.0  03:33:17 1527  03:51:50 1526  04:03:51 1525\n",
       "21                 1517.0  02:52:07 1538  02:53:53 1528  03:12:36 1528\n",
       "22                 1503.0  04:03:46 1509  04:08:57 1517  04:21:39 1517\n",
       "23                 1506.0  05:17:45 1510  05:30:02 1515  05:45:20 1518\n",
       "24                 1520.0  05:27:46 1525  05:45:35 1520  05:58:22 1520\n",
       "25                 1520.0  06:30:21 1522  06:47:04 1523  07:06:08 1523\n",
       "26                 1520.0  06:17:06 1527  06:38:29 1521  06:59:28 1519\n",
       "27                 1510.0  07:38:05 1520  07:54:38 1519  08:06:41 1520\n",
       "28                 1519.0  07:34:55 1523  07:49:28 1522  08:00:22 1517\n",
       "29                 1515.0  08:40:10 1519  08:53:46 1471  08:56:22 1522"
      ]
     },
     "execution_count": 157,
     "metadata": {},
     "output_type": "execute_result"
    }
   ],
   "source": [
    "mnlz[['последняя_температура', 'Температура_1', 'Температура_2', 'Температура_3']].head(30)"
   ]
  },
  {
   "cell_type": "code",
   "execution_count": 4,
   "metadata": {},
   "outputs": [],
   "source": [
    "df = pandas.DataFrame()\n",
    "df[['time1', 'temp1']] = mnlz['Температура_1'].str.split(expand=True)\n",
    "df[['time2', 'temp2']] = mnlz['Температура_2'].str.split(expand=True)\n",
    "df[['time3', 'temp3']] = mnlz['Температура_3'].str.split(expand=True)\n",
    "df['last_temp'] = mnlz['последняя_температура']\n",
    "df = df.fillna(0)"
   ]
  },
  {
   "cell_type": "code",
   "execution_count": 5,
   "metadata": {},
   "outputs": [],
   "source": [
    "df[['temp1', 'temp2', 'temp3']] =  df[['temp1', 'temp2', 'temp3']].astype('float64')"
   ]
  },
  {
   "cell_type": "code",
   "execution_count": 6,
   "metadata": {},
   "outputs": [
    {
     "data": {
      "text/plain": [
       "<matplotlib.axes._subplots.AxesSubplot at 0x28d8d778a88>"
      ]
     },
     "execution_count": 6,
     "metadata": {},
     "output_type": "execute_result"
    },
    {
     "data": {
      "image/png": "[encoded data removed]",
      "text/plain": [
       "<Figure size 432x288 with 1 Axes>"
      ]
     },
     "metadata": {
      "needs_background": "light"
     },
     "output_type": "display_data"
    }
   ],
   "source": [
    "df[['temp1']].plot.kde()"
   ]
  },
  {
   "cell_type": "code",
   "execution_count": 7,
   "metadata": {},
   "outputs": [
    {
     "data": {
      "text/plain": [
       "<matplotlib.axes._subplots.AxesSubplot at 0x28d8d7393c8>"
      ]
     },
     "execution_count": 7,
     "metadata": {},
     "output_type": "execute_result"
    },
    {
     "data": {
      "image/png": "[encoded data removed]",
      "text/plain": [
       "<Figure size 432x288 with 1 Axes>"
      ]
     },
     "metadata": {
      "needs_background": "light"
     },
     "output_type": "display_data"
    }
   ],
   "source": [
    "df[['temp2']].plot.kde()"
   ]
  },
  {
   "cell_type": "code",
   "execution_count": 8,
   "metadata": {},
   "outputs": [
    {
     "data": {
      "text/plain": [
       "<matplotlib.axes._subplots.AxesSubplot at 0x28d8274dc48>"
      ]
     },
     "execution_count": 8,
     "metadata": {},
     "output_type": "execute_result"
    },
    {
     "data": {
      "image/png": "[encoded data removed]",
      "text/plain": [
       "<Figure size 432x288 with 1 Axes>"
      ]
     },
     "metadata": {
      "needs_background": "light"
     },
     "output_type": "display_data"
    }
   ],
   "source": [
    "df[['temp3']].plot.kde()"
   ]
  },
  {
   "cell_type": "code",
   "execution_count": 9,
   "metadata": {},
   "outputs": [
    {
     "name": "stdout",
     "output_type": "stream",
     "text": [
      "(32804, 7)\n",
      "(32553, 7)\n"
     ]
    }
   ],
   "source": [
    "print(df.shape)\n",
    "df = df.drop(df[df['time1'] == 0].index)\n",
    "df = df.drop(df[df['time2'] == 0].index)\n",
    "df = df.drop(df[df['time3'] == 0].index)\n",
    "print(df.shape)"
   ]
  },
  {
   "cell_type": "code",
   "execution_count": 10,
   "metadata": {},
   "outputs": [
    {
     "name": "stdout",
     "output_type": "stream",
     "text": [
      "0       1900-01-01 06:53:54\n",
      "1       1900-01-01 06:39:59\n",
      "3       1900-01-01 08:12:16\n",
      "4       1900-01-01 09:15:04\n",
      "5       1900-01-01 10:42:00\n",
      "                ...        \n",
      "32799   1900-01-01 04:08:02\n",
      "32800   1900-01-01 05:04:46\n",
      "32801   1900-01-01 06:03:35\n",
      "32802   1900-01-01 06:51:02\n",
      "32803   1900-01-01 07:37:00\n",
      "Name: time1, Length: 32553, dtype: datetime64[ns]\n"
     ]
    }
   ],
   "source": [
    "df['time1'] = pandas.to_datetime(df['time1'], format='%H:%M:%S')\n",
    "df['time2'] = pandas.to_datetime(df['time2'], format='%H:%M:%S')\n",
    "df['time3'] = pandas.to_datetime(df['time3'], format='%H:%M:%S')\n",
    "print(df['time1'])"
   ]
  },
  {
   "cell_type": "code",
   "execution_count": 11,
   "metadata": {},
   "outputs": [],
   "source": [
    "from datetime import datetime"
   ]
  },
  {
   "cell_type": "code",
   "execution_count": 12,
   "metadata": {},
   "outputs": [],
   "source": [
    "df_temp1 = df[['time1', 'temp1']].groupby(\"time1\").mean()\n",
    "df_temp2 = df[['time2', 'temp2']].groupby(\"time2\").mean()\n",
    "df_temp3 = df[['time3', 'temp3']].groupby(\"time3\").mean()"
   ]
  },
  {
   "cell_type": "code",
   "execution_count": 13,
   "metadata": {},
   "outputs": [],
   "source": [
    "temp1_values = df_temp1['temp1'].values\n",
    "time1_values = df_temp1.index.values\n",
    "\n",
    "temp2_values = df_temp2['temp2'].values\n",
    "time2_values = df_temp2.index.values\n",
    "\n",
    "temp3_values = df_temp3['temp3'].values\n",
    "time3_values = df_temp3.index.values"
   ]
  },
  {
   "cell_type": "code",
   "execution_count": 14,
   "metadata": {},
   "outputs": [
    {
     "data": {
      "text/plain": [
       "array(['1900-01-01T00:00:00.000000000', '1900-01-01T00:00:02.000000000',\n",
       "       '1900-01-01T00:00:06.000000000', ...,\n",
       "       '1900-01-01T23:59:22.000000000', '1900-01-01T23:59:52.000000000',\n",
       "       '1900-01-01T23:59:54.000000000'], dtype='datetime64[ns]')"
      ]
     },
     "execution_count": 14,
     "metadata": {},
     "output_type": "execute_result"
    }
   ],
   "source": [
    "time1_values"
   ]
  },
  {
   "cell_type": "code",
   "execution_count": 15,
   "metadata": {},
   "outputs": [],
   "source": [
    "from mpl_toolkits.axes_grid1.inset_locator import zoomed_inset_axes\n",
    "from mpl_toolkits.axes_grid1.inset_locator import mark_inset\n",
    "import matplotlib.dates as md"
   ]
  },
  {
   "cell_type": "code",
   "execution_count": 16,
   "metadata": {},
   "outputs": [
    {
     "data": {
      "image/png": "[encoded data removed]",
      "text/plain": [
       "<Figure size 432x288 with 1 Axes>"
      ]
     },
     "metadata": {
      "needs_background": "light"
     },
     "output_type": "display_data"
    },
    {
     "data": {
      "image/png": "[encoded data removed]",
      "text/plain": [
       "<Figure size 432x288 with 1 Axes>"
      ]
     },
     "metadata": {
      "needs_background": "light"
     },
     "output_type": "display_data"
    },
    {
     "data": {
      "image/png": "[encoded data removed]",
      "text/plain": [
       "<Figure size 432x288 with 1 Axes>"
      ]
     },
     "metadata": {
      "needs_background": "light"
     },
     "output_type": "display_data"
    }
   ],
   "source": [
    "import matplotlib.dates as md\n",
    "\n",
    "datenums1=md.date2num(time1_values)\n",
    "ax=plt.gca()\n",
    "xfmt = md.DateFormatter('%H:%M:%S')\n",
    "ax.xaxis.set_major_formatter(xfmt)\n",
    "plt.plot(datenums1, temp1_values)\n",
    "plt.show()\n",
    "\n",
    "datenums2=md.date2num(time2_values)\n",
    "ax=plt.gca()\n",
    "xfmt = md.DateFormatter('%H:%M:%S')\n",
    "ax.xaxis.set_major_formatter(xfmt)\n",
    "plt.plot(datenums2, temp2_values)\n",
    "plt.show()\n",
    "\n",
    "datenums3=md.date2num(time3_values)\n",
    "ax=plt.gca()\n",
    "xfmt = md.DateFormatter('%H:%M:%S')\n",
    "ax.xaxis.set_major_formatter(xfmt)\n",
    "plt.plot(datenums3, temp3_values)\n",
    "plt.show()"
   ]
  },
  {
   "cell_type": "code",
   "execution_count": 17,
   "metadata": {},
   "outputs": [
    {
     "data": {
      "image/png": "[encoded data removed]",
      "text/plain": [
       "<Figure size 432x288 with 1 Axes>"
      ]
     },
     "metadata": {
      "needs_background": "light"
     },
     "output_type": "display_data"
    },
    {
     "data": {
      "image/png": "[encoded data removed]",
      "text/plain": [
       "<Figure size 432x288 with 1 Axes>"
      ]
     },
     "metadata": {
      "needs_background": "light"
     },
     "output_type": "display_data"
    },
    {
     "data": {
      "image/png": "[encoded data removed]",
      "text/plain": [
       "<Figure size 432x288 with 1 Axes>"
      ]
     },
     "metadata": {
      "needs_background": "light"
     },
     "output_type": "display_data"
    }
   ],
   "source": [
    "ax=plt.gca()\n",
    "xfmt = md.DateFormatter('%H:%M:%S')\n",
    "ax.xaxis.set_major_formatter(xfmt)\n",
    "plt.plot(datenums1, temp1_values)\n",
    "plt.ylim(1450, 1600)\n",
    "plt.show()\n",
    "\n",
    "ax=plt.gca()\n",
    "xfmt = md.DateFormatter('%H:%M:%S')\n",
    "ax.xaxis.set_major_formatter(xfmt)\n",
    "plt.plot(datenums2, temp2_values)\n",
    "plt.ylim(1450, 1600)\n",
    "plt.show()\n",
    "\n",
    "ax=plt.gca()\n",
    "xfmt = md.DateFormatter('%H:%M:%S')\n",
    "ax.xaxis.set_major_formatter(xfmt)\n",
    "plt.plot(datenums3, temp3_values)\n",
    "plt.ylim(1450, 1600)\n",
    "plt.show()\n"
   ]
  },
  {
   "cell_type": "code",
   "execution_count": 18,
   "metadata": {},
   "outputs": [
    {
     "data": {
      "image/png": "[encoded data removed]",
      "text/plain": [
       "<Figure size 432x288 with 1 Axes>"
      ]
     },
     "metadata": {
      "needs_background": "light"
     },
     "output_type": "display_data"
    },
    {
     "data": {
      "image/png": "[encoded data removed]",
      "text/plain": [
       "<Figure size 432x288 with 1 Axes>"
      ]
     },
     "metadata": {
      "needs_background": "light"
     },
     "output_type": "display_data"
    },
    {
     "data": {
      "image/png": "[encoded data removed]",
      "text/plain": [
       "<Figure size 432x288 with 1 Axes>"
      ]
     },
     "metadata": {
      "needs_background": "light"
     },
     "output_type": "display_data"
    }
   ],
   "source": [
    "ax=plt.gca()\n",
    "xfmt = md.DateFormatter('%H:%M:%S')\n",
    "ax.xaxis.set_major_formatter(xfmt)\n",
    "plt.plot(datenums1, temp1_values)\n",
    "start_time = datetime(1900, 1, 1, 0, 0, 0)\n",
    "end_time = datetime(1900, 1, 1, 0, 20, 0)\n",
    "plt.xlim(start_time, end_time)\n",
    "plt.ylim(1450, 1600)\n",
    "plt.show()\n",
    "\n",
    "ax=plt.gca()\n",
    "xfmt = md.DateFormatter('%H:%M:%S')\n",
    "ax.xaxis.set_major_formatter(xfmt)\n",
    "plt.plot(datenums2, temp2_values)\n",
    "start_time = datetime(1900, 1, 1, 0, 0, 0)\n",
    "end_time = datetime(1900, 1, 1, 0, 20, 0)\n",
    "plt.xlim(start_time, end_time)\n",
    "plt.ylim(1450, 1600)\n",
    "plt.show()\n",
    "\n",
    "ax=plt.gca()\n",
    "xfmt = md.DateFormatter('%H:%M:%S')\n",
    "ax.xaxis.set_major_formatter(xfmt)\n",
    "plt.plot(datenums3, temp3_values)\n",
    "start_time = datetime(1900, 1, 1, 0, 0, 0)\n",
    "end_time = datetime(1900, 1, 1, 0, 20, 0)\n",
    "plt.xlim(start_time, end_time)\n",
    "plt.ylim(1450, 1600)\n",
    "plt.show()"
   ]
  },
  {
   "cell_type": "code",
   "execution_count": 40,
   "metadata": {},
   "outputs": [
    {
     "data": {
      "text/html": [
       "<div>\n",
       "<style scoped>\n",
       "    .dataframe tbody tr th:only-of-type {\n",
       "        vertical-align: middle;\n",
       "    }\n",
       "\n",
       "    .dataframe tbody tr th {\n",
       "        vertical-align: top;\n",
       "    }\n",
       "\n",
       "    .dataframe thead th {\n",
       "        text-align: right;\n",
       "    }\n",
       "</style>\n",
       "<table border=\"1\" class=\"dataframe\">\n",
       "  <thead>\n",
       "    <tr style=\"text-align: right;\">\n",
       "      <th></th>\n",
       "      <th>time1</th>\n",
       "      <th>temp1</th>\n",
       "      <th>time2</th>\n",
       "      <th>temp2</th>\n",
       "      <th>time3</th>\n",
       "      <th>temp3</th>\n",
       "      <th>last_temp</th>\n",
       "    </tr>\n",
       "  </thead>\n",
       "  <tbody>\n",
       "    <tr>\n",
       "      <th>876</th>\n",
       "      <td>04:14:57</td>\n",
       "      <td>1546.0</td>\n",
       "      <td>04:32:20</td>\n",
       "      <td>1546.0</td>\n",
       "      <td>04:56:00</td>\n",
       "      <td>1698.0</td>\n",
       "      <td>1550.00000</td>\n",
       "    </tr>\n",
       "    <tr>\n",
       "      <th>2309</th>\n",
       "      <td>02:51:33</td>\n",
       "      <td>1649.0</td>\n",
       "      <td>02:54:19</td>\n",
       "      <td>1546.0</td>\n",
       "      <td>03:04:56</td>\n",
       "      <td>1536.0</td>\n",
       "      <td>1544.00000</td>\n",
       "    </tr>\n",
       "    <tr>\n",
       "      <th>2844</th>\n",
       "      <td>19:26:15</td>\n",
       "      <td>1698.0</td>\n",
       "      <td>19:26:30</td>\n",
       "      <td>1578.0</td>\n",
       "      <td>19:29:46</td>\n",
       "      <td>1512.0</td>\n",
       "      <td>1508.00000</td>\n",
       "    </tr>\n",
       "    <tr>\n",
       "      <th>5260</th>\n",
       "      <td>02:48:51</td>\n",
       "      <td>1529.0</td>\n",
       "      <td>03:03:51</td>\n",
       "      <td>1529.0</td>\n",
       "      <td>03:11:52</td>\n",
       "      <td>1526.0</td>\n",
       "      <td>-273.00000</td>\n",
       "    </tr>\n",
       "    <tr>\n",
       "      <th>6645</th>\n",
       "      <td>02:10:30</td>\n",
       "      <td>1532.0</td>\n",
       "      <td>02:12:21</td>\n",
       "      <td>1532.0</td>\n",
       "      <td>02:13:01</td>\n",
       "      <td>1548.0</td>\n",
       "      <td>1649.00000</td>\n",
       "    </tr>\n",
       "    <tr>\n",
       "      <th>6646</th>\n",
       "      <td>03:24:54</td>\n",
       "      <td>1649.0</td>\n",
       "      <td>03:25:14</td>\n",
       "      <td>1532.0</td>\n",
       "      <td>03:31:00</td>\n",
       "      <td>1544.0</td>\n",
       "      <td>1538.00000</td>\n",
       "    </tr>\n",
       "    <tr>\n",
       "      <th>9816</th>\n",
       "      <td>02:53:07</td>\n",
       "      <td>1698.0</td>\n",
       "      <td>02:53:22</td>\n",
       "      <td>1698.0</td>\n",
       "      <td>02:55:28</td>\n",
       "      <td>1698.0</td>\n",
       "      <td>1508.00000</td>\n",
       "    </tr>\n",
       "    <tr>\n",
       "      <th>9816</th>\n",
       "      <td>02:53:07</td>\n",
       "      <td>1698.0</td>\n",
       "      <td>02:53:22</td>\n",
       "      <td>1698.0</td>\n",
       "      <td>02:55:28</td>\n",
       "      <td>1698.0</td>\n",
       "      <td>1508.00000</td>\n",
       "    </tr>\n",
       "    <tr>\n",
       "      <th>9816</th>\n",
       "      <td>02:53:07</td>\n",
       "      <td>1698.0</td>\n",
       "      <td>02:53:22</td>\n",
       "      <td>1698.0</td>\n",
       "      <td>02:55:28</td>\n",
       "      <td>1698.0</td>\n",
       "      <td>1508.00000</td>\n",
       "    </tr>\n",
       "    <tr>\n",
       "      <th>10360</th>\n",
       "      <td>23:59:22</td>\n",
       "      <td>1537.0</td>\n",
       "      <td>00:05:38</td>\n",
       "      <td>1542.0</td>\n",
       "      <td>00:06:08</td>\n",
       "      <td>1699.0</td>\n",
       "      <td>1540.00000</td>\n",
       "    </tr>\n",
       "    <tr>\n",
       "      <th>11439</th>\n",
       "      <td>08:33:56</td>\n",
       "      <td>1516.0</td>\n",
       "      <td>08:41:53</td>\n",
       "      <td>1516.0</td>\n",
       "      <td>08:42:28</td>\n",
       "      <td>1699.0</td>\n",
       "      <td>1512.00000</td>\n",
       "    </tr>\n",
       "    <tr>\n",
       "      <th>12029</th>\n",
       "      <td>14:36:49</td>\n",
       "      <td>1698.0</td>\n",
       "      <td>14:38:19</td>\n",
       "      <td>1528.0</td>\n",
       "      <td>14:41:45</td>\n",
       "      <td>1526.0</td>\n",
       "      <td>1524.00000</td>\n",
       "    </tr>\n",
       "    <tr>\n",
       "      <th>12116</th>\n",
       "      <td>14:23:09</td>\n",
       "      <td>1505.0</td>\n",
       "      <td>14:23:39</td>\n",
       "      <td>1699.0</td>\n",
       "      <td>14:25:04</td>\n",
       "      <td>1515.0</td>\n",
       "      <td>1510.14999</td>\n",
       "    </tr>\n",
       "    <tr>\n",
       "      <th>12136</th>\n",
       "      <td>09:19:25</td>\n",
       "      <td>1521.0</td>\n",
       "      <td>09:24:21</td>\n",
       "      <td>1529.0</td>\n",
       "      <td>09:33:58</td>\n",
       "      <td>1536.0</td>\n",
       "      <td>1698.00000</td>\n",
       "    </tr>\n",
       "    <tr>\n",
       "      <th>13096</th>\n",
       "      <td>22:57:42</td>\n",
       "      <td>1517.0</td>\n",
       "      <td>23:06:43</td>\n",
       "      <td>1700.0</td>\n",
       "      <td>23:09:34</td>\n",
       "      <td>1510.0</td>\n",
       "      <td>1515.00000</td>\n",
       "    </tr>\n",
       "    <tr>\n",
       "      <th>13200</th>\n",
       "      <td>10:22:01</td>\n",
       "      <td>1539.0</td>\n",
       "      <td>10:30:33</td>\n",
       "      <td>1539.0</td>\n",
       "      <td>10:43:03</td>\n",
       "      <td>1552.0</td>\n",
       "      <td>1698.00000</td>\n",
       "    </tr>\n",
       "    <tr>\n",
       "      <th>14956</th>\n",
       "      <td>11:41:46</td>\n",
       "      <td>1521.0</td>\n",
       "      <td>11:42:26</td>\n",
       "      <td>1650.0</td>\n",
       "      <td>11:42:41</td>\n",
       "      <td>1500.0</td>\n",
       "      <td>1533.00000</td>\n",
       "    </tr>\n",
       "    <tr>\n",
       "      <th>15556</th>\n",
       "      <td>17:17:11</td>\n",
       "      <td>1554.0</td>\n",
       "      <td>17:17:37</td>\n",
       "      <td>1554.0</td>\n",
       "      <td>17:21:07</td>\n",
       "      <td>1699.0</td>\n",
       "      <td>1525.00000</td>\n",
       "    </tr>\n",
       "    <tr>\n",
       "      <th>18197</th>\n",
       "      <td>22:11:08</td>\n",
       "      <td>1546.0</td>\n",
       "      <td>22:24:56</td>\n",
       "      <td>1541.0</td>\n",
       "      <td>22:40:50</td>\n",
       "      <td>1544.0</td>\n",
       "      <td>1640.00000</td>\n",
       "    </tr>\n",
       "    <tr>\n",
       "      <th>22397</th>\n",
       "      <td>14:49:28</td>\n",
       "      <td>1545.0</td>\n",
       "      <td>15:06:43</td>\n",
       "      <td>1544.0</td>\n",
       "      <td>15:18:36</td>\n",
       "      <td>1542.0</td>\n",
       "      <td>1650.00000</td>\n",
       "    </tr>\n",
       "    <tr>\n",
       "      <th>27610</th>\n",
       "      <td>23:20:50</td>\n",
       "      <td>1551.0</td>\n",
       "      <td>23:29:25</td>\n",
       "      <td>1699.0</td>\n",
       "      <td>23:32:35</td>\n",
       "      <td>1554.0</td>\n",
       "      <td>1554.00000</td>\n",
       "    </tr>\n",
       "    <tr>\n",
       "      <th>28633</th>\n",
       "      <td>22:11:08</td>\n",
       "      <td>1546.0</td>\n",
       "      <td>22:24:56</td>\n",
       "      <td>1541.0</td>\n",
       "      <td>22:40:50</td>\n",
       "      <td>1544.0</td>\n",
       "      <td>1640.00000</td>\n",
       "    </tr>\n",
       "    <tr>\n",
       "      <th>31485</th>\n",
       "      <td>13:06:42</td>\n",
       "      <td>1700.0</td>\n",
       "      <td>13:12:24</td>\n",
       "      <td>1546.0</td>\n",
       "      <td>13:23:26</td>\n",
       "      <td>1546.0</td>\n",
       "      <td>1540.14999</td>\n",
       "    </tr>\n",
       "  </tbody>\n",
       "</table>\n",
       "</div>"
      ],
      "text/plain": [
       "          time1   temp1     time2   temp2     time3   temp3   last_temp\n",
       "876    04:14:57  1546.0  04:32:20  1546.0  04:56:00  1698.0  1550.00000\n",
       "2309   02:51:33  1649.0  02:54:19  1546.0  03:04:56  1536.0  1544.00000\n",
       "2844   19:26:15  1698.0  19:26:30  1578.0  19:29:46  1512.0  1508.00000\n",
       "5260   02:48:51  1529.0  03:03:51  1529.0  03:11:52  1526.0  -273.00000\n",
       "6645   02:10:30  1532.0  02:12:21  1532.0  02:13:01  1548.0  1649.00000\n",
       "6646   03:24:54  1649.0  03:25:14  1532.0  03:31:00  1544.0  1538.00000\n",
       "9816   02:53:07  1698.0  02:53:22  1698.0  02:55:28  1698.0  1508.00000\n",
       "9816   02:53:07  1698.0  02:53:22  1698.0  02:55:28  1698.0  1508.00000\n",
       "9816   02:53:07  1698.0  02:53:22  1698.0  02:55:28  1698.0  1508.00000\n",
       "10360  23:59:22  1537.0  00:05:38  1542.0  00:06:08  1699.0  1540.00000\n",
       "11439  08:33:56  1516.0  08:41:53  1516.0  08:42:28  1699.0  1512.00000\n",
       "12029  14:36:49  1698.0  14:38:19  1528.0  14:41:45  1526.0  1524.00000\n",
       "12116  14:23:09  1505.0  14:23:39  1699.0  14:25:04  1515.0  1510.14999\n",
       "12136  09:19:25  1521.0  09:24:21  1529.0  09:33:58  1536.0  1698.00000\n",
       "13096  22:57:42  1517.0  23:06:43  1700.0  23:09:34  1510.0  1515.00000\n",
       "13200  10:22:01  1539.0  10:30:33  1539.0  10:43:03  1552.0  1698.00000\n",
       "14956  11:41:46  1521.0  11:42:26  1650.0  11:42:41  1500.0  1533.00000\n",
       "15556  17:17:11  1554.0  17:17:37  1554.0  17:21:07  1699.0  1525.00000\n",
       "18197  22:11:08  1546.0  22:24:56  1541.0  22:40:50  1544.0  1640.00000\n",
       "22397  14:49:28  1545.0  15:06:43  1544.0  15:18:36  1542.0  1650.00000\n",
       "27610  23:20:50  1551.0  23:29:25  1699.0  23:32:35  1554.0  1554.00000\n",
       "28633  22:11:08  1546.0  22:24:56  1541.0  22:40:50  1544.0  1640.00000\n",
       "31485  13:06:42  1700.0  13:12:24  1546.0  13:23:26  1546.0  1540.14999"
      ]
     },
     "execution_count": 40,
     "metadata": {},
     "output_type": "execute_result"
    }
   ],
   "source": [
    "z = np.abs(stats.zscore(df[['temp1', 'temp2', 'temp3', 'last_temp']]))\n",
    "outliers = pandas.DataFrame(columns=list(df))\n",
    "out_rows = pandas.DataFrame(columns=list(mnlz))\n",
    "for i in np.argwhere(z>1):\n",
    "    if 0 not in df.loc[[i[0]]].values:\n",
    "        outliers = pandas.concat([outliers, df.loc[[i[0]]] ])\n",
    "        out_rows = pandas.concat([out_rows, mnlz.loc[[i[0]]] ])\n",
    "outliers"
   ]
  },
  {
   "cell_type": "code",
   "execution_count": null,
   "metadata": {},
   "outputs": [],
   "source": [
    "pandas.set_option('display.max_columns', 500)\n",
    "pandas.set_option('display.max_rows', 8)\n",
    "out_rows"
   ]
  },
  {
   "cell_type": "code",
   "execution_count": null,
   "metadata": {},
   "outputs": [],
   "source": [
    "x_stnd = StandardScaler().fit_transform(x)\n",
    "x_stnd.shape"
   ]
  },
  {
   "cell_type": "code",
   "execution_count": null,
   "metadata": {},
   "outputs": [],
   "source": [
    "pca = PCA(40)\n",
    "principalComponents = pca.fit_transform(x_stnd)"
   ]
  },
  {
   "cell_type": "code",
   "execution_count": null,
   "metadata": {},
   "outputs": [],
   "source": [
    "pca.explained_variance_ratio_.cumsum()"
   ]
  },
  {
   "cell_type": "code",
   "execution_count": null,
   "metadata": {},
   "outputs": [],
   "source": [
    "plt.hist(principalComponents[:,0], color = 'blue', edgecolor = 'black',bins = int(180/5))\n",
    "plt.show()"
   ]
  },
  {
   "cell_type": "code",
   "execution_count": null,
   "metadata": {},
   "outputs": [],
   "source": [
    "sns.heatmap(pca.get_covariance())"
   ]
  },
  {
   "cell_type": "code",
   "execution_count": null,
   "metadata": {},
   "outputs": [],
   "source": [
    "z = np.abs(stats.zscore(principalComponents))\n",
    "print(len(np.where(z > 10)[0]))\n",
    "print(z.shape)"
   ]
  },
  {
   "cell_type": "code",
   "execution_count": null,
   "metadata": {},
   "outputs": [],
   "source": [
    "new_feature_names = {}\n",
    "for name in list(mnlz):\n",
    "    for i in range(1, 6):\n",
    "        if ('Руч' + str(i)  in name or 'Ручей' + str(i) in name) :\n",
    "            if i in new_feature_names.keys():\n",
    "                new_feature_names[i].append(name)\n",
    "            else:\n",
    "                new_feature_names[i] = [name]"
   ]
  },
  {
   "cell_type": "code",
   "execution_count": null,
   "metadata": {},
   "outputs": [],
   "source": [
    "new_mnlz = mnlz.loc[:, new_feature_names[1]]\n",
    "for i in range(2, 6):\n",
    "    new_mnlz = pandas.concat([new_mnlz, mnlz.loc[:, new_feature_names[1]]])"
   ]
  },
  {
   "cell_type": "code",
   "execution_count": null,
   "metadata": {},
   "outputs": [],
   "source": [
    "for column_name in new_mnlz.select_dtypes(include=['int64', 'float64']):\n",
    "    print(column_name)\n",
    "    print(new_mnlz[column_name].max())\n",
    "    print(new_mnlz[column_name].min())"
   ]
  },
  {
   "cell_type": "code",
   "execution_count": null,
   "metadata": {},
   "outputs": [],
   "source": [
    "feature_names = {}\n",
    "for name in list(mnlz):\n",
    "    for i in range(1, 6):\n",
    "        if ('Руч' + str(i)  in name or 'Ручей' + str(i) in name):\n",
    "            if i in feature_names.keys():\n",
    "                feature_names[i].append(name)\n",
    "            else:\n",
    "                feature_names[i] = [name]\n",
    "first = mnlz.loc[:, feature_names[1]]\n",
    "first.loc[first['Ручей1_Брак_загот.шт-вес'] != 0, 'Ручей1_Брак_загот.шт-вес'] = 1\n",
    "first['Ручей1_Брак_загот.шт-вес'] = pandas.to_numeric(first['Ручей1_Брак_загот.шт-вес'])\n",
    "correlation_matrix = first.corr()\n",
    "with pandas.option_context('display.max_rows', None, 'display.max_columns', None):\n",
    "    print(correlation_matrix['Ручей1_Брак_загот.шт-вес'])"
   ]
  },
  {
   "cell_type": "code",
   "execution_count": null,
   "metadata": {
    "scrolled": true
   },
   "outputs": [],
   "source": [
    "selector = VarianceThreshold(0.5)\n",
    "selector.fit(mnlz.select_dtypes(include=['int64', 'float64']))\n",
    "new_mnlz = mnlz[mnlz.columns[selector.get_support(indices=True)]]"
   ]
  },
  {
   "cell_type": "code",
   "execution_count": null,
   "metadata": {},
   "outputs": [],
   "source": [
    "clf = IsolationForest( behaviour = 'new', max_samples=32804, contamination= 'auto')\n",
    "preds = clf.fit_predict(mnlz.select_dtypes(include=['int64', 'float64']))"
   ]
  },
  {
   "cell_type": "code",
   "execution_count": null,
   "metadata": {},
   "outputs": [],
   "source": [
    "list(preds).count(-1)"
   ]
  },
  {
   "cell_type": "code",
   "execution_count": 40,
   "metadata": {},
   "outputs": [],
   "source": [
    "data = pandas.read_csv(os.path.abspath(os.getcwd()) + '\\\\mnlz\\\\mnlz_temperatures.csv', encoding = \"UTF-16LE\", low_memory=False)\n",
    "mnlz_temperatures = data\n",
    "mnlz_temperatures = mnlz_temperatures.fillna(0)\n",
    "mnlz_temperatures = mnlz_temperatures.loc[:, (mnlz_temperatures != 0).any(axis=0)]"
   ]
  },
  {
   "cell_type": "code",
   "execution_count": 45,
   "metadata": {
    "scrolled": true
   },
   "outputs": [
    {
     "data": {
      "text/html": [
       "<div>\n",
       "<style scoped>\n",
       "    .dataframe tbody tr th:only-of-type {\n",
       "        vertical-align: middle;\n",
       "    }\n",
       "\n",
       "    .dataframe tbody tr th {\n",
       "        vertical-align: top;\n",
       "    }\n",
       "\n",
       "    .dataframe thead th {\n",
       "        text-align: right;\n",
       "    }\n",
       "</style>\n",
       "<table border=\"1\" class=\"dataframe\">\n",
       "  <thead>\n",
       "    <tr style=\"text-align: right;\">\n",
       "      <th></th>\n",
       "      <th>AREA_ID</th>\n",
       "      <th>HEAT_ID</th>\n",
       "      <th>MEASURE_DATE</th>\n",
       "      <th>MEASURE_NO</th>\n",
       "      <th>ROUND(T.TEMPERATURE-273)</th>\n",
       "      <th>TEMPERATURE</th>\n",
       "      <th>Unnamed: 0</th>\n",
       "      <th>VISIT_NO</th>\n",
       "    </tr>\n",
       "  </thead>\n",
       "  <tbody>\n",
       "    <tr>\n",
       "      <th>0</th>\n",
       "      <td>CCM 2</td>\n",
       "      <td>6F6481</td>\n",
       "      <td>2016-10-06 06:58:00</td>\n",
       "      <td>2</td>\n",
       "      <td>1543</td>\n",
       "      <td>1816.0</td>\n",
       "      <td>0.0</td>\n",
       "      <td>1</td>\n",
       "    </tr>\n",
       "    <tr>\n",
       "      <th>1</th>\n",
       "      <td>CCM 2</td>\n",
       "      <td>6F6481</td>\n",
       "      <td>2016-10-06 06:53:54</td>\n",
       "      <td>1</td>\n",
       "      <td>1543</td>\n",
       "      <td>1816.0</td>\n",
       "      <td>0.0</td>\n",
       "      <td>1</td>\n",
       "    </tr>\n",
       "    <tr>\n",
       "      <th>2</th>\n",
       "      <td>CCM 2</td>\n",
       "      <td>6F6481</td>\n",
       "      <td>2016-10-06 07:02:21</td>\n",
       "      <td>3</td>\n",
       "      <td>1534</td>\n",
       "      <td>1807.0</td>\n",
       "      <td>0.0</td>\n",
       "      <td>1</td>\n",
       "    </tr>\n",
       "    <tr>\n",
       "      <th>3</th>\n",
       "      <td>CCM 2</td>\n",
       "      <td>6F6481</td>\n",
       "      <td>2016-10-06 07:14:38</td>\n",
       "      <td>5</td>\n",
       "      <td>1544</td>\n",
       "      <td>1817.0</td>\n",
       "      <td>0.0</td>\n",
       "      <td>1</td>\n",
       "    </tr>\n",
       "    <tr>\n",
       "      <th>4</th>\n",
       "      <td>CCM 2</td>\n",
       "      <td>6F6481</td>\n",
       "      <td>2016-10-06 07:03:06</td>\n",
       "      <td>4</td>\n",
       "      <td>1547</td>\n",
       "      <td>1820.0</td>\n",
       "      <td>0.0</td>\n",
       "      <td>1</td>\n",
       "    </tr>\n",
       "    <tr>\n",
       "      <th>5</th>\n",
       "      <td>CCM 2</td>\n",
       "      <td>6F6481</td>\n",
       "      <td>2016-10-06 07:48:50</td>\n",
       "      <td>9</td>\n",
       "      <td>1534</td>\n",
       "      <td>1807.0</td>\n",
       "      <td>0.0</td>\n",
       "      <td>1</td>\n",
       "    </tr>\n",
       "    <tr>\n",
       "      <th>6</th>\n",
       "      <td>CCM 2</td>\n",
       "      <td>6F6481</td>\n",
       "      <td>2016-10-06 07:54:31</td>\n",
       "      <td>10</td>\n",
       "      <td>1532</td>\n",
       "      <td>1805.0</td>\n",
       "      <td>0.0</td>\n",
       "      <td>1</td>\n",
       "    </tr>\n",
       "    <tr>\n",
       "      <th>7</th>\n",
       "      <td>CCM 2</td>\n",
       "      <td>6F6481</td>\n",
       "      <td>2016-10-06 07:40:53</td>\n",
       "      <td>8</td>\n",
       "      <td>1537</td>\n",
       "      <td>1810.0</td>\n",
       "      <td>0.0</td>\n",
       "      <td>1</td>\n",
       "    </tr>\n",
       "    <tr>\n",
       "      <th>8</th>\n",
       "      <td>CCM 2</td>\n",
       "      <td>6F6481</td>\n",
       "      <td>2016-10-06 07:24:00</td>\n",
       "      <td>6</td>\n",
       "      <td>1544</td>\n",
       "      <td>1817.0</td>\n",
       "      <td>0.0</td>\n",
       "      <td>1</td>\n",
       "    </tr>\n",
       "    <tr>\n",
       "      <th>9</th>\n",
       "      <td>CCM 2</td>\n",
       "      <td>6F6481</td>\n",
       "      <td>2016-10-06 07:31:41</td>\n",
       "      <td>7</td>\n",
       "      <td>1541</td>\n",
       "      <td>1814.0</td>\n",
       "      <td>0.0</td>\n",
       "      <td>1</td>\n",
       "    </tr>\n",
       "  </tbody>\n",
       "</table>\n",
       "</div>"
      ],
      "text/plain": [
       "  AREA_ID HEAT_ID         MEASURE_DATE  MEASURE_NO  ROUND(T.TEMPERATURE-273)  \\\n",
       "0   CCM 2  6F6481  2016-10-06 06:58:00           2                      1543   \n",
       "1   CCM 2  6F6481  2016-10-06 06:53:54           1                      1543   \n",
       "2   CCM 2  6F6481  2016-10-06 07:02:21           3                      1534   \n",
       "3   CCM 2  6F6481  2016-10-06 07:14:38           5                      1544   \n",
       "4   CCM 2  6F6481  2016-10-06 07:03:06           4                      1547   \n",
       "5   CCM 2  6F6481  2016-10-06 07:48:50           9                      1534   \n",
       "6   CCM 2  6F6481  2016-10-06 07:54:31          10                      1532   \n",
       "7   CCM 2  6F6481  2016-10-06 07:40:53           8                      1537   \n",
       "8   CCM 2  6F6481  2016-10-06 07:24:00           6                      1544   \n",
       "9   CCM 2  6F6481  2016-10-06 07:31:41           7                      1541   \n",
       "\n",
       "   TEMPERATURE  Unnamed: 0  VISIT_NO  \n",
       "0       1816.0         0.0         1  \n",
       "1       1816.0         0.0         1  \n",
       "2       1807.0         0.0         1  \n",
       "3       1817.0         0.0         1  \n",
       "4       1820.0         0.0         1  \n",
       "5       1807.0         0.0         1  \n",
       "6       1805.0         0.0         1  \n",
       "7       1810.0         0.0         1  \n",
       "8       1817.0         0.0         1  \n",
       "9       1814.0         0.0         1  "
      ]
     },
     "execution_count": 45,
     "metadata": {},
     "output_type": "execute_result"
    }
   ],
   "source": [
    "mnlz_temperatures.head(10)"
   ]
  },
  {
   "cell_type": "code",
   "execution_count": 46,
   "metadata": {},
   "outputs": [
    {
     "data": {
      "text/plain": [
       "(210328, 8)"
      ]
     },
     "execution_count": 46,
     "metadata": {},
     "output_type": "execute_result"
    },
    {
     "data": {
      "image/png": "[encoded data removed]",
      "text/plain": [
       "<Figure size 432x288 with 1 Axes>"
      ]
     },
     "metadata": {
      "needs_background": "light"
     },
     "output_type": "display_data"
    }
   ],
   "source": [
    "mnlz_temperatures[['TEMPERATURE']].plot.kde()\n",
    "mnlz_temperatures.shape"
   ]
  }
 ],
 "metadata": {
  "kernelspec": {
   "display_name": "Python 3",
   "language": "python",
   "name": "python3"
  },
  "language_info": {
   "codemirror_mode": {
    "name": "ipython",
    "version": 3
   },
   "file_extension": ".py",
   "mimetype": "text/x-python",
   "name": "python",
   "nbconvert_exporter": "python",
   "pygments_lexer": "ipython3",
   "version": "3.7.4"
  }
 },
 "nbformat": 4,
 "nbformat_minor": 4
}
