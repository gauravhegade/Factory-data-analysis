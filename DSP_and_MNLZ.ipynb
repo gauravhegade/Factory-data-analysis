{
 "cells": [
  {
   "cell_type": "code",
   "execution_count": 1,
   "metadata": {},
   "outputs": [],
   "source": [
    "import pandas as pd\n",
    "import numpy as np\n",
    "import os"
   ]
  },
  {
   "cell_type": "code",
   "execution_count": 2,
   "metadata": {},
   "outputs": [
    {
     "data": {
      "text/plain": [
       "(29201, 48)"
      ]
     },
     "execution_count": 2,
     "metadata": {},
     "output_type": "execute_result"
    }
   ],
   "source": [
    "dsp_data = pd.read_csv(os.path.abspath(os.getcwd()) + '\\\\dsp\\\\concatenated\\\\main.csv', encoding = \"UTF-16LE\", low_memory=False)\n",
    "dsp_data.shape"
   ]
  },
  {
   "cell_type": "code",
   "execution_count": 3,
   "metadata": {},
   "outputs": [
    {
     "data": {
      "text/plain": [
       "(32804, 568)"
      ]
     },
     "execution_count": 3,
     "metadata": {},
     "output_type": "execute_result"
    }
   ],
   "source": [
    "mnlz_data = pd.read_csv(os.path.abspath(os.getcwd()) + '\\\\mnlz\\\\mnlz.csv', encoding = \"UTF-16LE\", low_memory=False)\n",
    "mnlz_data.shape"
   ]
  },
  {
   "cell_type": "code",
   "execution_count": 4,
   "metadata": {},
   "outputs": [
    {
     "data": {
      "text/plain": [
       "(28412, 616)"
      ]
     },
     "execution_count": 4,
     "metadata": {},
     "output_type": "execute_result"
    }
   ],
   "source": [
    "dsp_data = dsp_data.drop_duplicates(subset=['HEATCUST'])\n",
    "mnlz_data = mnlz_data.drop_duplicates(subset=['HEAT_ID'])\n",
    "data = pd.merge(dsp_data, mnlz_data,  left_on='HEATCUST', right_on='HEAT_ID', how='inner')\n",
    "data.shape"
   ]
  },
  {
   "cell_type": "code",
   "execution_count": 5,
   "metadata": {},
   "outputs": [],
   "source": [
    "data[['time1', 'temp1']] = data['Температура_1'].str.split(expand=True)\n",
    "data[['time2', 'temp2']] = data['Температура_2'].str.split(expand=True)\n",
    "data[['time3', 'temp3']] = data['Температура_3'].str.split(expand=True)\n",
    "data['last_temp'] = data['последняя_температура']\n",
    "\n",
    "data[['temp1', 'temp2', 'temp3', 'last_temp']] =  data[['temp1', 'temp2', 'temp3', 'last_temp']].astype('float32')\n",
    "\n",
    "data['time1'] = pd.to_datetime(data['time1'], format='%H:%M:%S')\n",
    "data['time2'] = pd.to_datetime(data['time2'], format='%H:%M:%S')\n",
    "data['time3'] = pd.to_datetime(data['time3'], format='%H:%M:%S')"
   ]
  },
  {
   "cell_type": "code",
   "execution_count": 6,
   "metadata": {},
   "outputs": [
    {
     "name": "stdout",
     "output_type": "stream",
     "text": [
      "(28412, 623)\n",
      "(28412, 619)\n"
     ]
    }
   ],
   "source": [
    "print(data.shape)\n",
    "data = data.drop(['Температура_1', 'Температура_2', 'Температура_3', 'последняя_температура'], 1)\n",
    "data = data.fillna(0)\n",
    "print(data.shape)"
   ]
  },
  {
   "cell_type": "code",
   "execution_count": 7,
   "metadata": {},
   "outputs": [],
   "source": [
    "data.loc[data['Ручей1_Брак_загот.шт-вес'] != 0, 'Ручей1_Брак_загот.шт-вес'] = 1\n",
    "data.loc[data['Ручей1_Брак_загот.шт-вес'] == 0, 'Ручей1_Брак_загот.шт-вес'] = 0\n",
    "data['Ручей1_Брак_загот.шт-вес'] = pd.to_numeric(data['Ручей1_Брак_загот.шт-вес'])\n",
    "\n",
    "data.loc[data['Ручей2_Брак_загот.шт-вес'] != 0, 'Ручей2_Брак_загот.шт-вес'] = 1\n",
    "data.loc[data['Ручей2_Брак_загот.шт-вес'] == 0, 'Ручей2_Брак_загот.шт-вес'] = 0\n",
    "data['Ручей2_Брак_загот.шт-вес'] = pd.to_numeric(data['Ручей2_Брак_загот.шт-вес'])\n",
    "\n",
    "data.loc[data['Ручей3_Брак_загот.шт-вес'] != 0, 'Ручей3_Брак_загот.шт-вес'] = 1\n",
    "data.loc[data['Ручей3_Брак_загот.шт-вес'] == 0, 'Ручей3_Брак_загот.шт-вес'] = 0\n",
    "data['Ручей3_Брак_загот.шт-вес'] = pd.to_numeric(data['Ручей3_Брак_загот.шт-вес'])\n",
    "\n",
    "\n",
    "data.loc[data['Ручей4_Брак_загот.шт-вес'] != 0, 'Ручей4_Брак_загот.шт-вес'] = 1\n",
    "data.loc[data['Ручей4_Брак_загот.шт-вес'] == 0, 'Ручей4_Брак_загот.шт-вес'] = 0\n",
    "data['Ручей4_Брак_загот.шт-вес'] = pd.to_numeric(data['Ручей4_Брак_загот.шт-вес'])\n",
    "\n",
    "\n",
    "data.loc[data['Ручей5_Брак_загот.шт-вес'] != 0, 'Ручей5_Брак_загот.шт-вес'] = 1\n",
    "data.loc[data['Ручей5_Брак_загот.шт-вес'] == 0, 'Ручей5_Брак_загот.шт-вес'] = 0\n",
    "data['Ручей5_Брак_загот.шт-вес'] = pd.to_numeric(data['Ручей5_Брак_загот.шт-вес'])"
   ]
  },
  {
   "cell_type": "code",
   "execution_count": 8,
   "metadata": {},
   "outputs": [
    {
     "name": "stdout",
     "output_type": "stream",
     "text": [
      "509 5\n"
     ]
    }
   ],
   "source": [
    "numerics = ['int16', 'int32', 'int64', 'float16', 'float32', 'float64']\n",
    "data_for_learning = data.select_dtypes(include=numerics)\n",
    "features = [s for s in list(data_for_learning.columns) if 'Брак' not in s]\n",
    "features = [s for s in features if 'качество' not in s]\n",
    "features = [s for s in features if 'Годные_загот' not in s]\n",
    "\n",
    "target_columns = [s for s in list(data_for_learning.columns) if '_Брак_' in s]\n",
    "print(len(features), len(target_columns))"
   ]
  },
  {
   "cell_type": "code",
   "execution_count": 9,
   "metadata": {},
   "outputs": [],
   "source": [
    "from sklearn.ensemble import RandomForestClassifier\n",
    "from sklearn.model_selection import train_test_split\n",
    "from sklearn.metrics import f1_score, accuracy_score, log_loss, plot_roc_curve\n",
    "from sklearn.metrics import classification_report\n",
    "from imblearn.under_sampling import RandomUnderSampler\n",
    "\n",
    "import matplotlib.pyplot as plt"
   ]
  },
  {
   "cell_type": "code",
   "execution_count": 10,
   "metadata": {},
   "outputs": [
    {
     "name": "stdout",
     "output_type": "stream",
     "text": [
      "(22729, 521)\n",
      "(5683, 521)\n"
     ]
    }
   ],
   "source": [
    "train, test = train_test_split(data_for_learning, test_size=0.2)\n",
    "\n",
    "print(train.shape)\n",
    "print(test.shape)"
   ]
  },
  {
   "cell_type": "code",
   "execution_count": 65,
   "metadata": {},
   "outputs": [
    {
     "name": "stdout",
     "output_type": "stream",
     "text": [
      "1\n",
      "10\n",
      "20\n",
      "30\n",
      "40\n",
      "50\n",
      "60\n",
      "70\n",
      "80\n",
      "90\n",
      "100\n"
     ]
    }
   ],
   "source": [
    "number_of_trees = np.linspace(1, 100, num=11, dtype='int')\n",
    "f_scores = []\n",
    "accuraciy_values = []\n",
    "loss_values = []\n",
    "for n in number_of_trees:\n",
    "    print(n)\n",
    "    clf = RandomForestClassifier(n_estimators=n, n_jobs=-1)\n",
    "    clf.fit(train[features], train[target_columns])\n",
    "    y_predicted = clf.predict(test[features])\n",
    "    f_scores.append(f1_score(test[target_columns], y_predicted, average='micro'))\n",
    "    accuraciy_values.append(accuracy_score(test[target_columns], y_predicted))\n",
    "    loss_values.append(log_loss(test[target_columns], y_predicted))"
   ]
  },
  {
   "cell_type": "code",
   "execution_count": 66,
   "metadata": {},
   "outputs": [
    {
     "data": {
      "image/png": "[encoded data removed]",
      "text/plain": [
       "<Figure size 432x288 with 1 Axes>"
      ]
     },
     "metadata": {
      "needs_background": "light"
     },
     "output_type": "display_data"
    },
    {
     "data": {
      "image/png": "[encoded data removed]",
      "text/plain": [
       "<Figure size 432x288 with 1 Axes>"
      ]
     },
     "metadata": {
      "needs_background": "light"
     },
     "output_type": "display_data"
    },
    {
     "data": {
      "image/png": "[encoded data removed]",
      "text/plain": [
       "<Figure size 432x288 with 1 Axes>"
      ]
     },
     "metadata": {
      "needs_background": "light"
     },
     "output_type": "display_data"
    }
   ],
   "source": [
    "plt.plot(number_of_trees, accuraciy_values)\n",
    "plt.show()\n",
    "\n",
    "plt.plot(number_of_trees, f_scores)\n",
    "plt.title('F score')\n",
    "plt.show()\n",
    "\n",
    "\n",
    "plt.plot(number_of_trees, loss_values)\n",
    "plt.title('Loss')\n",
    "plt.show()"
   ]
  },
  {
   "cell_type": "code",
   "execution_count": 13,
   "metadata": {},
   "outputs": [
    {
     "name": "stdout",
     "output_type": "stream",
     "text": [
      "              precision    recall  f1-score   support\n",
      "\n",
      "           0       1.00      0.43      0.60        42\n",
      "           1       0.92      0.23      0.37        47\n",
      "           2       1.00      0.39      0.57        38\n",
      "           3       1.00      0.06      0.12        31\n",
      "           4       1.00      0.06      0.11        17\n",
      "\n",
      "   micro avg       0.98      0.27      0.42       175\n",
      "   macro avg       0.98      0.24      0.35       175\n",
      "weighted avg       0.98      0.27      0.40       175\n",
      " samples avg       0.00      0.00      0.00       175\n",
      "\n"
     ]
    },
    {
     "name": "stderr",
     "output_type": "stream",
     "text": [
      "c:\\programdata\\anaconda3\\lib\\site-packages\\sklearn\\metrics\\_classification.py:1272: UndefinedMetricWarning: Precision and F-score are ill-defined and being set to 0.0 in samples with no predicted labels. Use `zero_division` parameter to control this behavior.\n",
      "  _warn_prf(average, modifier, msg_start, len(result))\n",
      "c:\\programdata\\anaconda3\\lib\\site-packages\\sklearn\\metrics\\_classification.py:1272: UndefinedMetricWarning: Recall and F-score are ill-defined and being set to 0.0 in samples with no true labels. Use `zero_division` parameter to control this behavior.\n",
      "  _warn_prf(average, modifier, msg_start, len(result))\n"
     ]
    }
   ],
   "source": [
    "print(classification_report(test[target_columns], y_predicted))"
   ]
  },
  {
   "cell_type": "code",
   "execution_count": 14,
   "metadata": {},
   "outputs": [
    {
     "data": {
      "text/plain": [
       "[('Заготовки_на_осмотр', 0.11316109574939676),\n",
       " ('Ручей2-крист-ор_плавки', 0.008865170218221988),\n",
       " ('Ручей1-гильза_крист-ра', 0.007985745608032417),\n",
       " ('Мин.знач.Скор.разл.Руч3', 0.007585515594911377),\n",
       " ('Мин.значПоз.стер.стоп.Руч4', 0.007327958859832209),\n",
       " ('Ручей5-длинна_хвоста', 0.007210982937341529),\n",
       " ('Тов.длин5-длинна', 0.0071626859544961455),\n",
       " ('FURNACE_DELTAAGE', 0.006947938234413319),\n",
       " ('Ручей3-гильза_крист-ра', 0.0069415152078083),\n",
       " ('Мин.знач.Ур.в.крист.Руч3', 0.006825679122215173),\n",
       " ('Мин.значПоз.стер.стоп.Руч1', 0.006792729843399081),\n",
       " ('Мин.значПоз.стер.стоп.Руч2', 0.0066959694205799124),\n",
       " ('Мин.знач.Скор.разл.Руч1', 0.006423356501548409),\n",
       " ('Ручей3-крист-ор_плавки', 0.0063465032918651465),\n",
       " ('Тов.длин2-вес', 0.006253055036758388),\n",
       " ('Мин.значПоз.стер.стоп.Руч5', 0.006180524847261555),\n",
       " ('Ручей2-длинна_хвоста', 0.0060944292788503605),\n",
       " ('Мин.знач.Ур.в.крист.Руч1', 0.005870003784732181),\n",
       " ('FURNACE_WALLAGE', 0.005767583364175382),\n",
       " ('Мин.значПоз.стер.стоп.Руч3', 0.005541337074023751),\n",
       " ('FURNACE_SHELLAGE', 0.005246060529181081),\n",
       " ('Мин.значениеВесвпром.ковшеРуч3', 0.0051703138710833514),\n",
       " ('Ручей1-крист-ор_плавки', 0.005028996042624816),\n",
       " ('Мин.знач.Ур.в.крист.Руч4', 0.005000644174460392),\n",
       " ('Мин.знач.Скор.разл.Руч2', 0.004987105638350932),\n",
       " ('FURNACE_TAPHOLEAGE', 0.004923430074610688),\n",
       " ('Мин.зн.Зон1.расх.Руч3', 0.0049165440873725555),\n",
       " ('Ручей3-Tube_heats', 0.004828407015035998),\n",
       " ('Ручей2-вес_хвоста', 0.004681196927673399),\n",
       " ('ПОСЛ', 0.004466358153486085),\n",
       " ('Мин.знач.Ур.в.крист.Руч2', 0.004430803987915707),\n",
       " ('Тов.длин1-вес', 0.004343325403601575),\n",
       " ('Мин.зн.Зон1.дав.Руч4', 0.004303079695533884),\n",
       " ('Мак.зн.Рас.накр.Руч2', 0.004168130714312197),\n",
       " ('Мин.зн.Зон1.дав.Руч2', 0.004137842137899905),\n",
       " ('Мин.значениеВесвпром.ковшеРуч2', 0.0040603033248180695),\n",
       " ('FURNACE_BOTTOMAGE', 0.003987105344649975),\n",
       " ('SPECGAS', 0.003980108183449273),\n",
       " ('Макс.знач.Скор.разл.Руч3', 0.003966324753876653),\n",
       " ('Мин.зн.Зон1.расх.Руч4', 0.003924143512789902),\n",
       " ('Мин.зн.Зон1.расх.Руч2', 0.003870648354146461),\n",
       " ('Ручей2-гильза_крист-ра', 0.0038050502161150364),\n",
       " ('SPECADDITIONS', 0.003775885806386544),\n",
       " ('Тов.длин4-длинна', 0.0037610489120098577),\n",
       " ('Мин.зн.Зон1.дав.Руч1', 0.0036988294028862867),\n",
       " ('Мин.значениеВесвпром.ковшеРуч1', 0.0036940951738259516),\n",
       " ('Кон.вес_в_п/к(т)', 0.00369275234494103),\n",
       " ('Ручей1-вес_хвоста', 0.0036837577699712827),\n",
       " ('Ручей1-длинна_хвоста', 0.0036519927086126965),\n",
       " ('Ручей4-длинна_хвоста', 0.003585656933942463),\n",
       " ('Ср.зн.Рас.на.кр.Руч3', 0.003578333481637231),\n",
       " ('Тов.длин2-длинна', 0.0035639465934172816),\n",
       " ('Ср.знач.Де.t.кр.Руч3', 0.00349861562349894),\n",
       " ('FURNACE_ROOFAGE', 0.0034531095240974497),\n",
       " ('Тов.длин5-вес', 0.003447849371036227),\n",
       " ('Ср.зн.Напр.рол4.Руч4', 0.003438703997088853),\n",
       " ('Мак.зн.Зон1.дав.Руч3', 0.0034366909233077003),\n",
       " ('Ср.зн.Напр.рол1.Руч1', 0.0034020027678219366),\n",
       " ('Тов.длин3-длинна', 0.003386066283487401),\n",
       " ('Ср.знач.MouldTemp.Руч4', 0.003355233515113977),\n",
       " ('Тов.длин1-длинна', 0.003280016010755086),\n",
       " ('Мин.зн.Зон1.дав.Руч5', 0.003263463022107862),\n",
       " ('Мин.зн.Напр.рол1.Руч2', 0.003195666290018013),\n",
       " ('Ср.зн.Напр.рол2.Руч3', 0.003182886016715332),\n",
       " ('Мин.знач.MouldTemp.Руч4', 0.0031690819674187643),\n",
       " ('Мин.знач.Скор.разл.Руч4', 0.0031214727829185947),\n",
       " ('Мак.зн.Зон3.расх.Руч3', 0.0030628559761342144),\n",
       " ('Ср.зн.Зон1.дав.Руч2', 0.0030393444405018215),\n",
       " ('Тов.длин3-вес', 0.00303800227187395),\n",
       " ('Мин.зн.Зон2.расх.Руч1', 0.0030010600526777374),\n",
       " ('Мин.зн.Рас.накр.Руч3', 0.0029853542720082323),\n",
       " ('Макс.знач.Де.t.кр.Руч1', 0.002964606151097183),\n",
       " ('Мак.зн.Зон1.дав.Руч2', 0.0029538915576518216),\n",
       " ('Тов.длин1-счет', 0.002948477348805237),\n",
       " ('Ср.знач.Ур.в.крист.Руч1', 0.002947930416412692),\n",
       " ('Мин.зн.Зон1.дав.Руч3', 0.0029392938525331504),\n",
       " ('Макс.значПоз.стер.стоп.Руч3', 0.002933436440235532),\n",
       " ('Мин.зн.Зон1.расх.Руч1', 0.0029296956467455702),\n",
       " ('Ручей3-вес_хвоста', 0.0029203837208651795),\n",
       " ('Ср.зн.Напр.рол2.Руч2', 0.0029194193055076065),\n",
       " ('Мин.зн.Рас.накр.Руч1', 0.002915867017856403),\n",
       " ('Мин.значениеВесвпром.ковшеРуч4', 0.002886011604578451),\n",
       " ('Тов.длин2-счет', 0.002872718424181947),\n",
       " ('Мин.зн.Зон3.расх.Руч1', 0.0028482721979868476),\n",
       " ('Ср.зн.Напр.рол2.Руч1', 0.0028387918511066975),\n",
       " ('Мак.зн.Рас.накр.Руч4', 0.0028387511800876688),\n",
       " ('Мак.зн.Напр.рол1.Руч2', 0.002816016570474284),\n",
       " ('Макс.значПоз.стер.стоп.Руч1', 0.0028084326905495876),\n",
       " ('Макс.значПоз.стер.стоп.Руч5', 0.0028041155189881314),\n",
       " ('Ручей3-длинна_хвоста', 0.0028040577304840786),\n",
       " ('Ср.зн.Напр.рол1.Руч2', 0.0028039987522715227),\n",
       " ('Мин.знач.Ур.в.крист.Руч5', 0.002797020178456121),\n",
       " ('Ср.знач.Скор.разл.Руч2', 0.0027952297277787485),\n",
       " ('Мин.зн.Зон2.расх.Руч3', 0.002793289893661486),\n",
       " ('Мин.зн.Зон1.расх.Руч5', 0.002783672089021252),\n",
       " ('год', 0.0027444485917272176),\n",
       " ('Ср.зн.Напр.рол4.Руч2', 0.0027062656820405263),\n",
       " ('Тов.длин4-вес', 0.0027014241267437605),\n",
       " ('Мин.знач.Де.t.кр.Руч3', 0.0026915267706550815),\n",
       " ('Ср.зн.Зон2.расх.Руч1', 0.002691478056551403),\n",
       " ('Ср.значениеПоз.стер.стоп.Руч3', 0.0026820892364650627),\n",
       " ('Ручей5-вес_хвоста', 0.002664682365000224),\n",
       " ('Мак.зн.Рас.накр.Руч3', 0.002663966644277147),\n",
       " ('Мин.зн.Зон2.расх.Руч2', 0.002658751402768226),\n",
       " ('Мак.зн.Зон2.расх.Руч3', 0.002657353528044344),\n",
       " ('Мин.зн.Зон3.расх.Руч2', 0.0026529206387134437),\n",
       " ('Ср.зн.Зон2.дав.Руч1', 0.002648275186866022),\n",
       " ('Мин.значениеВесвпром.ковшеРуч5', 0.0026459158393849526),\n",
       " ('Ср.зн.Зон3.дав.Руч1', 0.0026392881599770174),\n",
       " ('Ср.знач.Кач.крист.Руч3', 0.0026364900545314198),\n",
       " ('Макс.знач.MouldTemp.Руч5', 0.0026141936983568553),\n",
       " ('Ср.зн.Зон3.расх.Руч3', 0.0026022735232016213),\n",
       " ('Макс.знач.Вес в пром.ковшеРуч1', 0.0025868042201507785),\n",
       " ('Макс.знач.Скор.разл.Руч2', 0.002566565245470296),\n",
       " ('Нач.вес_в_с/к(т)', 0.002561844039237165),\n",
       " ('Макс.знач.MouldTemp.Руч2', 0.00253954516782348),\n",
       " ('Макс.значПоз.стер.стоп.Руч2', 0.0025389575963028228),\n",
       " ('Ср.зн.Напр.рол3.Руч2', 0.0025339003741231964),\n",
       " ('Ср.знач.Скор.разл.Руч5', 0.0025296271700804896),\n",
       " ('Ср.значениеВесв пром.ковшеРуч2', 0.0024951682441785015),\n",
       " ('Ср.знач.Скор.разл.Руч3', 0.002489548556199452),\n",
       " ('Ср.знач.Ур.в.крист.Руч2', 0.00248595529181399),\n",
       " ('Мак.зн.Зон1.расх.Руч2', 0.002470891859017731),\n",
       " ('Ср.зн.Напр.рол4.Руч3', 0.0024566017793555862),\n",
       " ('Ср.знач.MouldTemp.Руч5', 0.0024540850572900234),\n",
       " ('Мак.зн.Зон2.дав.Руч3', 0.0024470850541165345),\n",
       " ('Макс.знач.Вес в пром.ковшеРуч2', 0.0024346985317309153),\n",
       " ('Макс.значПоз.стер.стоп.Руч4', 0.0024160123224072298),\n",
       " ('Мак.зн.Зон3.расх.Руч1', 0.0024129233282164197),\n",
       " ('Мак.зн.Зон2.дав.Руч1', 0.0024071400077563055),\n",
       " ('Макс.знач.MouldTemp.Руч4', 0.002399882930208993),\n",
       " ('Ср.зн.Зон3.дав.Руч2', 0.0023772419773948877),\n",
       " ('Мак.зн.Напр.рол2.Руч1', 0.0023771346414598496),\n",
       " ('Мак.зн.Зон2.расх.Руч1', 0.00237480998313656),\n",
       " ('Ср.зн.Напр.рол4.Руч5', 0.002360541290191102),\n",
       " ('Мак.зн.Зон1.дав.Руч4', 0.002350487981499428),\n",
       " ('Ср.зн.Зон3.дав.Руч3', 0.0023443389202039587),\n",
       " ('Ср.зн.Напр.рол3.Руч3', 0.0023432369551153022),\n",
       " ('Всего_заготовок', 0.002335281113879123),\n",
       " ('Ср.зн.Рас.на.кр.Руч4', 0.002332722171561672),\n",
       " ('Ср.зн.Рас.на.кр.Руч2', 0.002329214835260039),\n",
       " ('Мак.зн.Зон1.расх.Руч3', 0.0023242565630073606),\n",
       " ('Мин.знач.MouldTemp.Руч5', 0.002323267519463306),\n",
       " ('SPECENERGY', 0.0023121092132834535),\n",
       " ('temp3', 0.002304587423839705),\n",
       " ('Макс.знач.Скор.разл.Руч1', 0.002301633638175019),\n",
       " ('Ср.зн.Напр.рол3.Руч1', 0.002283317438995992),\n",
       " ('Ручей3-Потери_при_резе', 0.0022700745162123072),\n",
       " ('Ср.зн.Зон3.расх.Руч1', 0.0022375481164190383),\n",
       " ('Ср.зн.Зон2.расх.Руч2', 0.002228226131893789),\n",
       " ('Мин.зн.Рас.накр.Руч2', 0.0022256193463490127),\n",
       " ('Макс.знач.Де.t.кр.Руч3', 0.002204164036635774),\n",
       " ('Ср.зн.Зон1.расх.Руч4', 0.0022034710491639735),\n",
       " ('Ср.зн.Зон2.дав.Руч2', 0.0021968858542300023),\n",
       " ('Тов.длин5-счет', 0.0021922008033099373),\n",
       " ('Мин.зн.Зон3.расх.Руч3', 0.0021893236490315394),\n",
       " ('Мин.зн.Зон2.расх.Руч4', 0.0021878673965426993),\n",
       " ('Мин.зн.Зон3.дав.Руч3', 0.0021838740231681715),\n",
       " ('Производительность_МНЛЗ', 0.0021792138214798296),\n",
       " ('Ср.зн.Зон1.дав.Руч1', 0.0021689695891482837),\n",
       " ('Мак.зн.Зон3.дав.Руч2', 0.002158084805750416),\n",
       " ('Ручей2-Tube_heats', 0.002153114933811307),\n",
       " ('Ср.знач.Де.t.кр.Руч1', 0.0021423795066757264),\n",
       " ('Мин.знач.Де.t.кр.Руч1', 0.0021413034471276606),\n",
       " ('Мак.зн.Зон2.расх.Руч2', 0.002135303073817393),\n",
       " ('Мин.зн.Рас.накр.Руч4', 0.002133579610050217),\n",
       " ('Ручей5-крист-ор_плавки', 0.002122293827963272),\n",
       " ('Тов.длин3-счет', 0.0021199282025728826),\n",
       " ('last_temp', 0.002103312488012741),\n",
       " ('Ср.знач.Ур.в.крист.Руч3', 0.002097793378044432),\n",
       " ('Ср.значениеВесв пром.ковшеРуч1', 0.002092745097413888),\n",
       " ('Ср.зн.Напр.рол1.Руч4', 0.0020913763466222195),\n",
       " ('Макс.знач.Ур.в.крист.Руч3', 0.002073944704783731),\n",
       " ('Ср.зн.Зон1.дав.Руч3', 0.002068547173312334),\n",
       " ('Мак.зн.Зон1.дав.Руч1', 0.002067599814010021),\n",
       " ('Макс.знач.Вес в пром.ковшеРуч3', 0.002064526246477165),\n",
       " ('Мин.зн.Зон3.расх.Руч5', 0.002062687445323102),\n",
       " ('Мин.зн.Напр.рол1.Руч1', 0.002035954751076457),\n",
       " ('Мин.зн.Рас.накр.Руч5', 0.0020355987255776865),\n",
       " ('Ср.зн.Зон2.расх.Руч3', 0.0020248420396618175),\n",
       " ('Ручей1-Потери_при_резе', 0.002022757824360551),\n",
       " ('Ср.значениеПоз.стер.стоп.Руч4', 0.0020212408514138974),\n",
       " ('Ср.значениеПоз.стер.стоп.Руч1', 0.002021132048514321),\n",
       " ('Мин.зн.Зон2.дав.Руч3', 0.0020149731480070005),\n",
       " ('Ср.знач.Част.ЭМП-К.Руч2', 0.002009655169754968),\n",
       " ('Ср.значениеПоз.стер.стоп.Руч5', 0.0020025378724362413),\n",
       " ('Ручей4-крист-ор_плавки', 0.0019969545047771437),\n",
       " ('Макс.знач.Кач.крист.Руч1', 0.001995831947526626),\n",
       " ('Мин.зн.Напр.рол1.Руч3', 0.0019935466461147716),\n",
       " ('Мак.зн.Зон2.дав.Руч4', 0.0019909675556092836),\n",
       " ('Макс.знач.Де.t.кр.Руч2', 0.0019791894081679206),\n",
       " ('Мин.зн.Напр.рол4.Руч4', 0.0019745051626061673),\n",
       " ('Мак.зн.Зон1.расх.Руч1', 0.001970673285971207),\n",
       " ('Ср.зн.Зон2.дав.Руч3', 0.0019692272336256107),\n",
       " ('Мак.зн.Напр.рол4.Руч5', 0.0019597959493575577),\n",
       " ('Ср.знач.Де.t.кр.Руч2', 0.0019595929111068276),\n",
       " ('Ручей1-Tube_heats', 0.0019587604624434294),\n",
       " ('Ср.знач.MouldTemp.Руч3', 0.001957163728372689),\n",
       " ('Мин.знач.MouldTemp.Руч3', 0.0019504494285749413),\n",
       " ('Мин.знач.MouldTemp.Руч2', 0.0019460877831415447),\n",
       " ('Макс.знач.Вес в пром.ковшеРуч4', 0.0019365562390167867),\n",
       " ('Мин.зн.Напр.рол4.Руч2', 0.0019320729261033396),\n",
       " ('Ср.знач.MouldTemp.Руч1', 0.0019271744940661964),\n",
       " ('стартовая_температура', 0.001923326140078615),\n",
       " ('Ручей2-Потери_при_резе', 0.0019215091819108695),\n",
       " ('Ручей4-вес_хвоста', 0.0019178304036468565),\n",
       " ('Мин.зн.Зон2.дав.Руч4', 0.0019104071652757972),\n",
       " ('Ср.значениеВесв пром.ковшеРуч3', 0.0019041533423560044),\n",
       " ('Макс.знач.MouldTemp.Руч3', 0.0019034637910693758),\n",
       " ('Ср.зн.Зон1.дав.Руч4', 0.0018974462474484156),\n",
       " ('Ср.значениеПоз.стер.стоп.Руч2', 0.001896736211216938),\n",
       " ('Кон.вес_стальковша(т)', 0.0018926808223657643),\n",
       " ('Мин.знач.Де.t.кр.Руч2', 0.001885816834464635),\n",
       " ('Мак.зн.Напр.рол2.Руч3', 0.0018833858353329233),\n",
       " ('Ср.зн.Напр.рол1.Руч3', 0.0018775987558736404),\n",
       " ('Мак.зн.Напр.рол1.Руч1', 0.0018732239942850376),\n",
       " ('Мак.зн.Напр.рол2.Руч4', 0.0018653454419860491),\n",
       " ('Мин.зн.Зон3.дав.Руч2', 0.0018638246156770385),\n",
       " ('Ср.зн.Напр.рол1.Руч5', 0.0018629548529631558),\n",
       " ('Ср.зн.Напр.рол2.Руч5', 0.0018536800071492021),\n",
       " ('Ср.зн.Напр.рол3.Руч4', 0.0018526490340350296),\n",
       " ('Макс.знач.Ур.в.крист.Руч1', 0.0018486334340123253),\n",
       " ('Макс.знач.Вес в пром.ковшеРуч5', 0.0018475048753899708),\n",
       " ('Тов.длин4-счет', 0.0018464497192683027),\n",
       " ('Ср.зн.Зон1.расх.Руч1', 0.0018292052642628544),\n",
       " ('temp1', 0.0018256858280684177),\n",
       " ('Мак.зн.Зон3.расх.Руч2', 0.0018135309512603342),\n",
       " ('Мак.зн.Зон3.расх.Руч5', 0.001809404074780382),\n",
       " ('Ср.зн.Напр.рол4.Руч1', 0.00179793934764177),\n",
       " ('Мин.зн.Зон2.расх.Руч5', 0.0017943921030361273),\n",
       " ('Ср.знач.Скор.разл.Руч1', 0.0017938469072729419),\n",
       " ('Мак.зн.Зон1.дав.Руч5', 0.001787228024694634),\n",
       " ('Мин.зн.Зон2.дав.Руч5', 0.001775559065431071),\n",
       " ('Мин.знач.Кач.крист.Руч5', 0.0017670132620633786),\n",
       " ('Ср.значениеВесв пром.ковшеРуч4', 0.0017572885720507163),\n",
       " ('Ср.зн.Напр.рол3.Руч5', 0.0017571756940952849),\n",
       " ('Мак.зн.Напр.рол3.Руч3', 0.0017557911282994165),\n",
       " ('расhет_темп', 0.0017518064436355364),\n",
       " ('Мин.знач.Кач.крист.Руч3', 0.0017178873841200433),\n",
       " ('Мак.зн.Зон1.расх.Руч4', 0.0017109430218156863),\n",
       " ('Мак.зн.Рас.накр.Руч5', 0.0017102394668203288),\n",
       " ('Мак.зн.Напр.рол2.Руч5', 0.0017080899355951449),\n",
       " ('Ср.зн.Зон1.дав.Руч5', 0.001703685636272679),\n",
       " ('Мин.знач.MouldTemp.Руч1', 0.0016996874040873142),\n",
       " ('Ср.знач.Скор.разл.Руч4', 0.0016953369743923337),\n",
       " ('Мин.зн.Зон2.дав.Руч2', 0.0016838860492800459),\n",
       " ('Мин.зн.Напр.рол2.Руч3', 0.0016656782060645856),\n",
       " ('Ср.зн.Зон3.расх.Руч5', 0.0016599575040035129),\n",
       " ('Мин.зн.Напр.рол2.Руч1', 0.0016591603747866074),\n",
       " ('Ср.знач.Ток.ЭМП-К.Руч4', 0.0016569105424913222),\n",
       " ('Ср.зн.Рас.на.кр.Руч1', 0.0016550299695880398),\n",
       " ('Ср.знач.MouldTemp.Руч2', 0.0016547671368204592),\n",
       " ('Мин.знач.Скор.разл.Руч5', 0.0016476517817858888),\n",
       " ('Мак.зн.Зон2.дав.Руч5', 0.0016473837635326706),\n",
       " ('Макс.знач.Кач.крист.Руч2', 0.0016456694122552941),\n",
       " ('Ср.зн.Зон3.дав.Руч4', 0.0016416232008385073),\n",
       " ('Ср.значениеВесв пром.ковшеРуч5', 0.0016191408345760632),\n",
       " ('Производительность_плавки', 0.0016093003019473388),\n",
       " ('Мак.зн.Зон3.дав.Руч1', 0.001603418548931266),\n",
       " ('Мак.зн.Зон2.расх.Руч5', 0.0016016800137834272),\n",
       " ('Мак.зн.Зон3.расх.Руч4', 0.0015964815543125738),\n",
       " ('Макс.знач.Ур.в.крист.Руч2', 0.001591895127873887),\n",
       " ('temp2', 0.0015847747102336952),\n",
       " ('Макс.знач.MouldTemp.Руч1', 0.0015796652076441242),\n",
       " ('Ср.зн.Зон1.расх.Руч5', 0.00157395751954389),\n",
       " ('Мин.знач.Кач.крист.Руч2', 0.0015642573208288415),\n",
       " ('Мин.зн.Зон3.расх.Руч4', 0.0015622758626755492),\n",
       " ('Макс.знач.Скор.разл.Руч4', 0.0015538565072573305),\n",
       " ('SPECCARBON', 0.0015537385163090606),\n",
       " ('Мин.зн.Зон3.дав.Руч4', 0.0015451899787675208),\n",
       " ('Ручей4-длинна_куска', 0.0015283383631604977),\n",
       " ('Ср.зн.Зон1.расх.Руч2', 0.001527704736659031),\n",
       " ('Макс.знач.Скор.разл.Руч5', 0.0015264530403699158),\n",
       " ('Ср.зн.Зон1.расх.Руч3', 0.0015235339584958754),\n",
       " ('Нач.вес_в_п/к(т)', 0.0015196111393091264),\n",
       " ('Мак.зн.Напр.рол2.Руч2', 0.0015160888364354978),\n",
       " ('Мин.зн.Зон2.дав.Руч1', 0.0015133592018223624),\n",
       " ('Макс.знач.Де.t.кр.Руч4', 0.001497436477202031),\n",
       " ('Ср.зн.Зон2.дав.Руч5', 0.0014958079927476203),\n",
       " ('Мак.зн.Рас.накр.Руч1', 0.00149188036823409),\n",
       " ('Ср.зн.Напр.рол2.Руч4', 0.001475854576384732),\n",
       " ('Ср.зн.Зон2.расх.Руч4', 0.00145505487527765),\n",
       " ('Мин.зн.Зон3.дав.Руч1', 0.0014434286606879484),\n",
       " ('Мин.зн.Напр.рол1.Руч4', 0.001439498268410933),\n",
       " ('TAREWEIGHT', 0.0014281471122902895),\n",
       " ('Мак.зн.Напр.рол1.Руч3', 0.001427358133018075),\n",
       " ('Ср.знач.Ур.в.крист.Руч4', 0.0014239711555528427),\n",
       " ('Ручей4-Потери_при_резе', 0.0014229833035228681),\n",
       " ('SPECLADLEADDITION', 0.0014149789153351138),\n",
       " ('Ср.зн.Зон2.дав.Руч4', 0.0014044023513292954),\n",
       " ('Мак.зн.Напр.рол4.Руч2', 0.0013778708056733243),\n",
       " ('Ср.зн.Зон3.расх.Руч4', 0.001365856751697945),\n",
       " ('Ср.зн.Зон3.расх.Руч2', 0.0013648459337978864),\n",
       " ('Макс.знач.Кач.крист.Руч3', 0.0013557590277089423),\n",
       " ('Ср.знач.Де.t.кр.Руч5', 0.001346693659760735),\n",
       " ('Мин.зн.Напр.рол3.Руч1', 0.0013425308351449569),\n",
       " ('Мак.зн.Напр.рол3.Руч4', 0.0013417666889120302),\n",
       " ('Ср.знач.Кач.крист.Руч1', 0.0013408424460415757),\n",
       " ('Мак.зн.Зон2.расх.Руч4', 0.0013352359505069866),\n",
       " ('Мак.зн.Зон2.дав.Руч2', 0.0013343516926339635),\n",
       " ('Ср.зн.Рас.на.кр.Руч5', 0.001303446724135615),\n",
       " ('Макс.знач.Ур.в.крист.Руч5', 0.0012952684963565392),\n",
       " ('Ср.зн.Зон2.расх.Руч5', 0.0012944484716076198),\n",
       " ('Ручей5-Потери_при_резе', 0.0012500950867784116),\n",
       " ('Ср.знач.Кач.крист.Руч4', 0.0012453932935506927),\n",
       " ('Мин.зн.Напр.рол4.Руч5', 0.0012291848549652934),\n",
       " ('Мак.зн.Напр.рол1.Руч4', 0.001221337381813728),\n",
       " ('Мин.знач.Кач.крист.Руч1', 0.001218666276807667),\n",
       " ('LADLE_LIFE', 0.0011905608985915712),\n",
       " ('Ручей4-вес_куска', 0.0011894580489676956),\n",
       " ('Мин.знач.Де.t.кр.Руч4', 0.0011626663925578121),\n",
       " ('Мин.знач.Част.ЭМП-К.Руч4', 0.0011580131414997785),\n",
       " ('SPECSLAGFORM', 0.0011496491684330336),\n",
       " ('Ср.зн.Напр.рол5.Руч1', 0.0011465087390151688),\n",
       " ('Мин.зн.Напр.рол4.Руч3', 0.0011275021926732169),\n",
       " ('Ср.знач.Ур.в.крист.Руч5', 0.0011187816684143398),\n",
       " ('Мин.зн.Напр.рол4.Руч1', 0.001116705312050717),\n",
       " ('Макс.знач.Част.ЭМП-К.Руч2', 0.001102942234434052),\n",
       " ('Мак.зн.Напр.рол4.Руч3', 0.0010737091718122289),\n",
       " ('Ср.зн.Зон3.дав.Руч5', 0.0010716339603172706),\n",
       " ('Ср.знач.Ток.ЭМП-К.Руч2', 0.0010614162379317263),\n",
       " ('Ручей5-Tube_heats', 0.0010562975194587222),\n",
       " ('Ручей5-вес_куска', 0.0010550121700366125),\n",
       " ('Мин.зн.Зон3.дав.Руч5', 0.0010531899419390415),\n",
       " ('Ср.зн.Напр.рол5.Руч3', 0.001051369263481939),\n",
       " ('Макс.знач.Ток.ЭМП-К.Руч2', 0.0010510092293484915),\n",
       " ('Мак.зн.Напр.рол4.Руч1', 0.0010385549121972146),\n",
       " ('Мак.зн.Напр.рол5.Руч2', 0.0010352286634956582),\n",
       " ('Мак.зн.Зон1.расх.Руч5', 0.0010314222085346225),\n",
       " ('Ручей4-Tube_heats', 0.0010306558380783126),\n",
       " ('Ср.знач.Кач.крист.Руч2', 0.0010130415851303573),\n",
       " ('Мак.зн.Зон3.дав.Руч3', 0.0010058881707370403)]"
      ]
     },
     "execution_count": 14,
     "metadata": {},
     "output_type": "execute_result"
    }
   ],
   "source": [
    "out = []\n",
    "for i, imp in enumerate(clf.feature_importances_):\n",
    "    if imp > 0.001:\n",
    "        out.append((features[i], imp))\n",
    "sorted(out, key=lambda tup: tup[1], reverse=True)"
   ]
  },
  {
   "cell_type": "code",
   "execution_count": 15,
   "metadata": {},
   "outputs": [],
   "source": [
    "rus = RandomUnderSampler()\n",
    "X_resampled1, y_resampled1 = rus.fit_resample(data, data_for_learning[target_columns[0]])\n",
    "X_resampled2, y_resampled2 = rus.fit_resample(data, data_for_learning[target_columns[1]])\n",
    "X_resampled3, y_resampled3 = rus.fit_resample(data, data_for_learning[target_columns[2]])\n",
    "X_resampled4, y_resampled4 = rus.fit_resample(data, data_for_learning[target_columns[3]])\n",
    "X_resampled5, y_resampled5 = rus.fit_resample(data, data_for_learning[target_columns[4]])"
   ]
  },
  {
   "cell_type": "code",
   "execution_count": 16,
   "metadata": {},
   "outputs": [],
   "source": [
    "frames = [X_resampled1, X_resampled2, X_resampled3, X_resampled4, X_resampled5]\n",
    "rus_X = pd.concat(frames, join='outer', verify_integrity=False)"
   ]
  },
  {
   "cell_type": "code",
   "execution_count": 17,
   "metadata": {},
   "outputs": [
    {
     "name": "stdout",
     "output_type": "stream",
     "text": [
      "509 5\n"
     ]
    }
   ],
   "source": [
    "numerics = ['int16', 'int32', 'int64', 'float16', 'float32', 'float64']\n",
    "rus_data = rus_X.select_dtypes(include=numerics)\n",
    "features = [s for s in list(rus_data.columns) if 'Брак' not in s]\n",
    "features = [s for s in features if 'качество' not in s]\n",
    "features = [s for s in features if 'Годные_загот' not in s]\n",
    "\n",
    "target_columns = [s for s in list(rus_data.columns) if '_Брак_' in s]\n",
    "print(len(features), len(target_columns))"
   ]
  },
  {
   "cell_type": "code",
   "execution_count": 18,
   "metadata": {},
   "outputs": [
    {
     "name": "stdout",
     "output_type": "stream",
     "text": [
      "(1633, 521)\n",
      "(409, 521)\n"
     ]
    }
   ],
   "source": [
    "rus_train, rus_test = train_test_split(rus_data, test_size=0.2)\n",
    "\n",
    "print(rus_train.shape)\n",
    "print(rus_test.shape)"
   ]
  },
  {
   "cell_type": "code",
   "execution_count": 67,
   "metadata": {},
   "outputs": [],
   "source": [
    "number_of_trees = np.linspace(1, 100, num=11, dtype='int')\n",
    "f_scores = []\n",
    "accuraciy_values = []\n",
    "loss_values = []\n",
    "for n in number_of_trees:\n",
    "    clf = RandomForestClassifier(n_estimators=n, n_jobs=-1)\n",
    "    clf.fit(rus_train[features], rus_train[target_columns])\n",
    "    rus_y_predicted = clf.predict(rus_test[features])\n",
    "    f_scores.append(f1_score(rus_test[target_columns], rus_y_predicted, average='micro'))\n",
    "    accuraciy_values.append(accuracy_score(rus_test[target_columns], rus_y_predicted))\n",
    "    loss_values.append(log_loss(rus_test[target_columns], rus_y_predicted))"
   ]
  },
  {
   "cell_type": "code",
   "execution_count": 68,
   "metadata": {},
   "outputs": [
    {
     "data": {
      "image/png": "[encoded data removed]",
      "text/plain": [
       "<Figure size 432x288 with 1 Axes>"
      ]
     },
     "metadata": {
      "needs_background": "light"
     },
     "output_type": "display_data"
    },
    {
     "data": {
      "image/png": "[encoded data removed]",
      "text/plain": [
       "<Figure size 432x288 with 1 Axes>"
      ]
     },
     "metadata": {
      "needs_background": "light"
     },
     "output_type": "display_data"
    },
    {
     "data": {
      "image/png": "[encoded data removed]",
      "text/plain": [
       "<Figure size 432x288 with 1 Axes>"
      ]
     },
     "metadata": {
      "needs_background": "light"
     },
     "output_type": "display_data"
    }
   ],
   "source": [
    "plt.plot(number_of_trees, accuraciy_values)\n",
    "plt.show()\n",
    "\n",
    "plt.plot(number_of_trees, f_scores)\n",
    "plt.title('F score')\n",
    "plt.show()\n",
    "\n",
    "\n",
    "plt.plot(number_of_trees, loss_values)\n",
    "plt.title('Loss')\n",
    "plt.show()"
   ]
  },
  {
   "cell_type": "code",
   "execution_count": 21,
   "metadata": {},
   "outputs": [
    {
     "name": "stdout",
     "output_type": "stream",
     "text": [
      "              precision    recall  f1-score   support\n",
      "\n",
      "           0       0.95      0.98      0.97       127\n",
      "           1       0.98      0.93      0.95       131\n",
      "           2       0.98      0.98      0.98       127\n",
      "           3       0.93      0.95      0.94        88\n",
      "           4       0.97      0.96      0.97        77\n",
      "\n",
      "   micro avg       0.96      0.96      0.96       550\n",
      "   macro avg       0.96      0.96      0.96       550\n",
      "weighted avg       0.96      0.96      0.96       550\n",
      " samples avg       0.45      0.45      0.45       550\n",
      "\n"
     ]
    },
    {
     "name": "stderr",
     "output_type": "stream",
     "text": [
      "c:\\programdata\\anaconda3\\lib\\site-packages\\sklearn\\metrics\\_classification.py:1272: UndefinedMetricWarning: Precision and F-score are ill-defined and being set to 0.0 in samples with no predicted labels. Use `zero_division` parameter to control this behavior.\n",
      "  _warn_prf(average, modifier, msg_start, len(result))\n",
      "c:\\programdata\\anaconda3\\lib\\site-packages\\sklearn\\metrics\\_classification.py:1272: UndefinedMetricWarning: Recall and F-score are ill-defined and being set to 0.0 in samples with no true labels. Use `zero_division` parameter to control this behavior.\n",
      "  _warn_prf(average, modifier, msg_start, len(result))\n"
     ]
    }
   ],
   "source": [
    "print(classification_report(rus_test[target_columns], rus_y_predicted))"
   ]
  },
  {
   "cell_type": "code",
   "execution_count": 22,
   "metadata": {},
   "outputs": [
    {
     "data": {
      "text/plain": [
       "[('Заготовки_на_осмотр', 0.057808425969519676),\n",
       " ('Мин.знач.Скор.разл.Руч3', 0.02069514139905071),\n",
       " ('Мин.знач.Ур.в.крист.Руч1', 0.02056818771605621),\n",
       " ('Мин.знач.Скор.разл.Руч1', 0.019904152298579374),\n",
       " ('Мин.знач.Ур.в.крист.Руч3', 0.018853207330612954),\n",
       " ('Мин.знач.Ур.в.крист.Руч2', 0.01875309207592692),\n",
       " ('Мин.значениеВесвпром.ковшеРуч2', 0.017644933324134852),\n",
       " ('Мин.значениеВесвпром.ковшеРуч3', 0.015612973989777934),\n",
       " ('Мин.значПоз.стер.стоп.Руч1', 0.013340060098933517),\n",
       " ('Мин.знач.Скор.разл.Руч4', 0.012928249043142643),\n",
       " ('Кон.вес_в_п/к(т)', 0.011677972757653095),\n",
       " ('Мин.знач.Скор.разл.Руч2', 0.011437936066773563),\n",
       " ('Ручей1-вес_хвоста', 0.011216219807990067),\n",
       " ('Мин.знач.Скор.разл.Руч5', 0.010189451882354523),\n",
       " ('Мин.зн.Зон1.расх.Руч4', 0.010079765295039822),\n",
       " ('Ручей2-вес_хвоста', 0.009588524225604803),\n",
       " ('Мин.значПоз.стер.стоп.Руч5', 0.008761300782604576),\n",
       " ('Мин.зн.Зон1.дав.Руч1', 0.008614603786787236),\n",
       " ('Ручей5-длинна_хвоста', 0.008310193478746015),\n",
       " ('Мин.зн.Зон1.дав.Руч4', 0.008102078783091195),\n",
       " ('Мин.знач.Ур.в.крист.Руч4', 0.007740123620838073),\n",
       " ('Мин.значПоз.стер.стоп.Руч2', 0.007584559233193907),\n",
       " ('Ручей5-вес_хвоста', 0.007437020395708254),\n",
       " ('Мин.значениеВесвпром.ковшеРуч4', 0.007350010067717817),\n",
       " ('Мин.значениеВесвпром.ковшеРуч1', 0.007309151971740355),\n",
       " ('Мин.зн.Зон1.расх.Руч1', 0.0067310706154252095),\n",
       " ('Мин.значПоз.стер.стоп.Руч3', 0.0063790503303134145),\n",
       " ('Мин.знач.Ур.в.крист.Руч5', 0.006379006049312513),\n",
       " ('Мин.зн.Зон1.расх.Руч3', 0.006213687516169246),\n",
       " ('Ручей3-крист-ор_плавки', 0.00620818873759776),\n",
       " ('Мин.значПоз.стер.стоп.Руч4', 0.006061580744394176),\n",
       " ('Мин.зн.Зон2.расх.Руч1', 0.006014102967999563),\n",
       " ('Мин.зн.Зон1.расх.Руч2', 0.005914436285736978),\n",
       " ('Ручей1-длинна_хвоста', 0.005708495377318844),\n",
       " ('Мин.зн.Зон1.дав.Руч3', 0.005374952052320101),\n",
       " ('Ручей1-гильза_крист-ра', 0.005370803749320496),\n",
       " ('Макс.знач.Скор.разл.Руч1', 0.005154571375141163),\n",
       " ('Мин.зн.Зон2.дав.Руч3', 0.004948618295145918),\n",
       " ('Мин.зн.Зон1.дав.Руч5', 0.004559389267042946),\n",
       " ('Мин.знач.MouldTemp.Руч4', 0.004477805679728337),\n",
       " ('Мин.зн.Зон2.расх.Руч3', 0.004459833885281253),\n",
       " ('Мин.зн.Зон2.дав.Руч4', 0.004444168946949135),\n",
       " ('Ручей2-крист-ор_плавки', 0.004387019784760183),\n",
       " ('Мин.зн.Зон2.расх.Руч2', 0.0043298402747749725),\n",
       " ('Мин.зн.Зон1.расх.Руч5', 0.00422491881363805),\n",
       " ('Мин.зн.Зон1.дав.Руч2', 0.004176670782774614),\n",
       " ('Ручей2-гильза_крист-ра', 0.004138791600961891),\n",
       " ('Мин.зн.Зон2.расх.Руч4', 0.004038498642544499),\n",
       " ('Ручей3-вес_хвоста', 0.003941612856487873),\n",
       " ('ПОСЛ', 0.003860241863731168),\n",
       " ('Ручей3-гильза_крист-ра', 0.003793502102558062),\n",
       " ('Мин.зн.Зон3.расх.Руч1', 0.0037030404330091146),\n",
       " ('Ручей2-длинна_хвоста', 0.0036824413480915225),\n",
       " ('Ср.знач.Скор.разл.Руч3', 0.003637741611243608),\n",
       " ('Мак.зн.Зон2.расх.Руч3', 0.003623667445300514),\n",
       " ('Ручей4-длинна_хвоста', 0.0036085279404123208),\n",
       " ('Мин.зн.Напр.рол3.Руч4', 0.003598714905464178),\n",
       " ('Мин.знач.Кач.крист.Руч1', 0.003572024835691377),\n",
       " ('Мак.зн.Зон2.расх.Руч2', 0.0035474675727949117),\n",
       " ('SPECADDITIONS', 0.0035433352120531614),\n",
       " ('Мин.зн.Зон3.расх.Руч2', 0.0035190671573429757),\n",
       " ('Мин.зн.Зон3.расх.Руч3', 0.0033795246689741),\n",
       " ('Макс.знач.Кач.крист.Руч2', 0.00323328930829564),\n",
       " ('Ср.зн.Зон1.дав.Руч4', 0.0032244711693904973),\n",
       " ('Ср.зн.Напр.рол3.Руч4', 0.0031255169299912416),\n",
       " ('Мак.зн.Зон1.дав.Руч4', 0.003123179671074281),\n",
       " ('Мин.знач.Кач.крист.Руч3', 0.0030773549355193083),\n",
       " ('Мин.знач.Кач.крист.Руч4', 0.0030291465220004753),\n",
       " ('Ср.значениеВесв пром.ковшеРуч3', 0.0029887049342300007),\n",
       " ('Макс.знач.Де.t.кр.Руч5', 0.002972050310960565),\n",
       " ('FURNACE_BOTTOMAGE', 0.002955536150920409),\n",
       " ('Ср.зн.Рас.на.кр.Руч2', 0.002927453000812906),\n",
       " ('FURNACE_WALLAGE', 0.0028923596923419947),\n",
       " ('Ручей4-вес_хвоста', 0.0028289045726781104),\n",
       " ('Ср.зн.Напр.рол1.Руч2', 0.0028254256381935587),\n",
       " ('Ср.значениеВесв пром.ковшеРуч5', 0.0028057704582231872),\n",
       " ('Макс.знач.Кач.крист.Руч1', 0.0027979583184173),\n",
       " ('Ср.знач.Ур.в.крист.Руч2', 0.002779897732593129),\n",
       " ('Мин.значениеВесвпром.ковшеРуч5', 0.0027696282580134896),\n",
       " ('Ручей1-крист-ор_плавки', 0.002748548407676595),\n",
       " ('Ср.знач.Скор.разл.Руч2', 0.0027030334634305917),\n",
       " ('Мин.знач.Кач.крист.Руч2', 0.0026758727796151404),\n",
       " ('Ср.зн.Напр.рол4.Руч4', 0.0026636263542244945),\n",
       " ('FURNACE_TAPHOLEAGE', 0.002654471847736812),\n",
       " ('Ср.знач.Ур.в.крист.Руч3', 0.0026260703135416235),\n",
       " ('Мин.зн.Зон2.дав.Руч1', 0.0026130541953123224),\n",
       " ('Ср.зн.Напр.рол4.Руч1', 0.002602481760238594),\n",
       " ('Мин.зн.Напр.рол2.Руч4', 0.0026016656585029167),\n",
       " ('Ср.зн.Зон2.расх.Руч2', 0.0025997052224987203),\n",
       " ('Ср.знач.Скор.разл.Руч4', 0.002577141818379184),\n",
       " ('Макс.знач.Де.t.кр.Руч1', 0.002562996400500076),\n",
       " ('Мин.зн.Напр.рол2.Руч5', 0.002546610128213035),\n",
       " ('Ср.знач.Де.t.кр.Руч5', 0.0025443312715540825),\n",
       " ('Мин.зн.Рас.накр.Руч2', 0.002524983962131929),\n",
       " ('Мак.зн.Зон3.расх.Руч5', 0.002512460709599669),\n",
       " ('Макс.знач.Де.t.кр.Руч4', 0.0024961760695299162),\n",
       " ('Макс.знач.MouldTemp.Руч4', 0.0024727902915187747),\n",
       " ('Макс.знач.Скор.разл.Руч3', 0.002471634199262583),\n",
       " ('Мак.зн.Зон1.расх.Руч4', 0.002457877431915621),\n",
       " ('Ср.знач.MouldTemp.Руч5', 0.002444374577356262),\n",
       " ('Макс.знач.Вес в пром.ковшеРуч2', 0.002433534887771694),\n",
       " ('Ручей4-Потери_при_резе', 0.002414727942865099),\n",
       " ('Мак.зн.Зон2.дав.Руч4', 0.0023698759612949577),\n",
       " ('Мин.зн.Зон3.расх.Руч4', 0.0023655352712677125),\n",
       " ('Мин.зн.Зон2.расх.Руч5', 0.0023609090850938833),\n",
       " ('Ср.зн.Зон3.дав.Руч4', 0.0023532177380654654),\n",
       " ('Мак.зн.Зон2.дав.Руч3', 0.00227593370635044),\n",
       " ('Ср.зн.Зон2.дав.Руч3', 0.0022694203158751466),\n",
       " ('Тов.длин2-длинна', 0.002263541357093856),\n",
       " ('FURNACE_SHELLAGE', 0.0022543522204330657),\n",
       " ('Тов.длин1-вес', 0.002229975681861486),\n",
       " ('Ср.зн.Напр.рол1.Руч1', 0.002226880920844042),\n",
       " ('Ср.знач.Кач.крист.Руч2', 0.002226169731094838),\n",
       " ('Макс.знач.Скор.разл.Руч4', 0.0022104471992661122),\n",
       " ('Мин.зн.Зон3.дав.Руч1', 0.0021980784329842097),\n",
       " ('Мин.знач.Де.t.кр.Руч4', 0.0021939581261446197),\n",
       " ('Мин.зн.Напр.рол4.Руч4', 0.0021900840994199347),\n",
       " ('Мак.зн.Напр.рол4.Руч5', 0.002175998441859906),\n",
       " ('Тов.длин2-вес', 0.002169458291298459),\n",
       " ('Ср.знач.Де.t.кр.Руч3', 0.0021485529696284194),\n",
       " ('Ср.знач.MouldTemp.Руч4', 0.0021452038073433793),\n",
       " ('Макс.знач.Част.ЭМП-К.Руч1', 0.002118601314673814),\n",
       " ('Макс.знач.Де.t.кр.Руч3', 0.002117948244407362),\n",
       " ('Ср.знач.Ур.в.крист.Руч1', 0.0020992341258583725),\n",
       " ('FURNACE_DELTAAGE', 0.002098323525095231),\n",
       " ('Ср.зн.Зон3.дав.Руч3', 0.0020918953467067973),\n",
       " ('Мин.зн.Рас.накр.Руч3', 0.00206348298119659),\n",
       " ('Мин.знач.Де.t.кр.Руч5', 0.0020539948477500693),\n",
       " ('Ср.знач.Де.t.кр.Руч1', 0.0020321951233457313),\n",
       " ('Мак.зн.Зон1.расх.Руч1', 0.0020121645556571894),\n",
       " ('Мак.зн.Зон3.расх.Руч1', 0.001995579649422487),\n",
       " ('Мак.зн.Напр.рол3.Руч3', 0.001984293217681789),\n",
       " ('Мин.зн.Зон3.дав.Руч3', 0.0019800324280087513),\n",
       " ('Ср.знач.Кач.крист.Руч3', 0.0019797636288205614),\n",
       " ('Мак.зн.Зон1.дав.Руч3', 0.001977239829928559),\n",
       " ('Мин.знач.Де.t.кр.Руч3', 0.001958270819147611),\n",
       " ('Мак.зн.Зон1.дав.Руч2', 0.0019483550311661167),\n",
       " ('Ср.значениеВесв пром.ковшеРуч2', 0.0019481998596587388),\n",
       " ('Макс.значПоз.стер.стоп.Руч1', 0.0019437275939188478),\n",
       " ('Мин.знач.Де.t.кр.Руч2', 0.0019434105028343074),\n",
       " ('Макс.знач.Скор.разл.Руч2', 0.0019343228618706406),\n",
       " ('FURNACE_ROOFAGE', 0.001903224346046193),\n",
       " ('Ср.зн.Зон2.дав.Руч5', 0.001888149869877387),\n",
       " ('Ср.зн.Напр.рол4.Руч2', 0.0018819413663119105),\n",
       " ('Мак.зн.Рас.накр.Руч3', 0.0018806111590959455),\n",
       " ('Ср.зн.Зон1.дав.Руч3', 0.0018790345253854998),\n",
       " ('Ср.зн.Зон3.дав.Руч5', 0.0018719940610733511),\n",
       " ('Мак.зн.Зон1.расх.Руч5', 0.0018713928516058491),\n",
       " ('Тов.длин5-счет', 0.0018647274572335735),\n",
       " ('Ср.зн.Рас.на.кр.Руч3', 0.001863181436033223),\n",
       " ('Ср.зн.Напр.рол3.Руч2', 0.0018619152509671904),\n",
       " ('Ср.значениеВесв пром.ковшеРуч1', 0.0018610136713876457),\n",
       " ('Тов.длин2-счет', 0.0018536007120543631),\n",
       " ('Ср.зн.Зон1.дав.Руч5', 0.0018483657175786836),\n",
       " ('Ср.зн.Зон1.дав.Руч1', 0.0018469377663609082),\n",
       " ('Ср.зн.Напр.рол4.Руч5', 0.001841862458538017),\n",
       " ('Мак.зн.Зон3.расх.Руч3', 0.001839768545649091),\n",
       " ('Мин.зн.Рас.накр.Руч1', 0.00183459364665362),\n",
       " ('Ручей4-крист-ор_плавки', 0.00182650893875015),\n",
       " ('Ср.зн.Зон3.расх.Руч3', 0.0018246170607433031),\n",
       " ('Мак.зн.Рас.накр.Руч2', 0.0018118235402335527),\n",
       " ('Макс.знач.Вес в пром.ковшеРуч4', 0.001808030548624299),\n",
       " ('Мин.зн.Зон3.дав.Руч2', 0.0017949234167185973),\n",
       " ('Ср.зн.Напр.рол1.Руч3', 0.0017945052882947592),\n",
       " ('Мак.зн.Зон2.расх.Руч1', 0.0017931715439918308),\n",
       " ('Ср.зн.Зон2.дав.Руч2', 0.0017827192367164196),\n",
       " ('Ручей5-крист-ор_плавки', 0.0017806945605429202),\n",
       " ('Тов.длин5-длинна', 0.001778887743885068),\n",
       " ('Ср.значениеПоз.стер.стоп.Руч1', 0.0017743894062051402),\n",
       " ('Мак.зн.Зон2.дав.Руч2', 0.001768517213834741),\n",
       " ('Мак.зн.Зон1.расх.Руч3', 0.0017635843891530777),\n",
       " ('Мак.зн.Рас.накр.Руч4', 0.0017590621601695476),\n",
       " ('Макс.знач.Кач.крист.Руч3', 0.0017540471924097094),\n",
       " ('Ручей1-Tube_heats', 0.0017507840443875525),\n",
       " ('Мак.зн.Зон3.дав.Руч3', 0.0017436156971134239),\n",
       " ('Ср.знач.Скор.разл.Руч5', 0.001695005993797551),\n",
       " ('Макс.знач.Вес в пром.ковшеРуч1', 0.0016887676150100337),\n",
       " ('Ср.знач.MouldTemp.Руч2', 0.0016713368080870298),\n",
       " ('Ручей3-Потери_при_резе', 0.0016623990061805421),\n",
       " ('Тов.длин1-длинна', 0.001648381824939898),\n",
       " ('Мак.зн.Зон3.расх.Руч2', 0.0016436453092189497),\n",
       " ('Ср.зн.Напр.рол2.Руч3', 0.0016391493162591288),\n",
       " ('Макс.знач.MouldTemp.Руч3', 0.0016269721943707946),\n",
       " ('Мак.зн.Зон1.дав.Руч1', 0.0016195322679179002),\n",
       " ('Ср.знач.Кач.крист.Руч1', 0.0016123239926404583),\n",
       " ('Макс.знач.Ур.в.крист.Руч4', 0.0016053690022507082),\n",
       " ('Макс.знач.MouldTemp.Руч1', 0.001591977429795871),\n",
       " ('Ср.зн.Напр.рол4.Руч3', 0.0015908000755287244),\n",
       " ('Ср.зн.Напр.рол3.Руч3', 0.0015712991442342272),\n",
       " ('Ср.знач.MouldTemp.Руч1', 0.0015652150370514513),\n",
       " ('Ср.знач.Скор.разл.Руч1', 0.0015605179562299522),\n",
       " ('Ср.зн.Зон1.дав.Руч2', 0.0015587226405843098),\n",
       " ('Ручей2-Потери_при_резе', 0.001558332513411227),\n",
       " ('Ручей3-Tube_heats', 0.001554596785286507),\n",
       " ('Ср.зн.Зон1.расх.Руч1', 0.0015544527298055031),\n",
       " ('Мин.зн.Зон3.дав.Руч4', 0.0015512705427509095),\n",
       " ('Ср.знач.Ток.ЭМП-К.Руч1', 0.0015478646522624792),\n",
       " ('Макс.знач.Ур.в.крист.Руч1', 0.0015285743962056189),\n",
       " ('Ручей3-длинна_хвоста', 0.0015236002646392658),\n",
       " ('Макс.знач.Ур.в.крист.Руч2', 0.0015219293801660436),\n",
       " ('Ср.зн.Напр.рол1.Руч4', 0.0014991895488387433),\n",
       " ('Ср.зн.Зон1.расх.Руч4', 0.0014901668912972307),\n",
       " ('Мак.зн.Зон2.дав.Руч1', 0.001482575874167703),\n",
       " ('Тов.длин5-вес', 0.0014819453201002683),\n",
       " ('Ср.зн.Зон2.дав.Руч1', 0.0014818563610803903),\n",
       " ('Ср.знач.Кач.крист.Руч5', 0.0014744186057203347),\n",
       " ('Мин.зн.Напр.рол1.Руч3', 0.001473750291484833),\n",
       " ('Ср.зн.Зон3.расх.Руч4', 0.0014728338211500054),\n",
       " ('Мак.зн.Напр.рол3.Руч2', 0.001463922746489504),\n",
       " ('Мин.знач.MouldTemp.Руч2', 0.0014623354057845045),\n",
       " ('Макс.знач.Де.t.кр.Руч2', 0.0014614208513288411),\n",
       " ('Ср.значениеПоз.стер.стоп.Руч3', 0.001461403285912765),\n",
       " ('Мак.зн.Зон3.дав.Руч2', 0.001453473318393858),\n",
       " ('Ср.зн.Зон3.расх.Руч5', 0.001443199417680876),\n",
       " ('Мин.знач.MouldTemp.Руч3', 0.0014399259114475376),\n",
       " ('Мак.зн.Напр.рол2.Руч1', 0.001438180489921367),\n",
       " ('Макс.знач.Скор.разл.Руч5', 0.0014344441381436166),\n",
       " ('Тов.длин4-длинна', 0.0014247647900186339),\n",
       " ('Производительность_МНЛЗ', 0.0014190084428526949),\n",
       " ('Ср.значениеПоз.стер.стоп.Руч4', 0.0014165636360677393),\n",
       " ('temp1', 0.0014165491925974354),\n",
       " ('Ср.знач.Кач.крист.Руч4', 0.0014114254789937715),\n",
       " ('Ручей2-окалина', 0.0014070870009573941),\n",
       " ('Макс.значПоз.стер.стоп.Руч2', 0.0013939990523389536),\n",
       " ('Макс.знач.Вес в пром.ковшеРуч3', 0.001387503281535818),\n",
       " ('Ср.значениеПоз.стер.стоп.Руч5', 0.001387056847557176),\n",
       " ('Ср.зн.Зон3.дав.Руч1', 0.0013781622552141133),\n",
       " ('Макс.значПоз.стер.стоп.Руч4', 0.0013780147887516784),\n",
       " ('Мин.зн.Зон2.дав.Руч2', 0.0013775103593749154),\n",
       " ('Ср.зн.Зон2.расх.Руч1', 0.0013765848652404031),\n",
       " ('Ср.зн.Напр.рол2.Руч5', 0.001365609225562379),\n",
       " ('Мин.зн.Зон2.дав.Руч5', 0.00136456314995138),\n",
       " ('Мин.зн.Зон3.расх.Руч5', 0.0013644276335371816),\n",
       " ('Макс.значПоз.стер.стоп.Руч3', 0.0013634071661896934),\n",
       " ('Ср.зн.Напр.рол2.Руч2', 0.001353440316754657),\n",
       " ('SPECENERGY', 0.0013505571199287953),\n",
       " ('Мак.зн.Напр.рол4.Руч3', 0.0013458630805662328),\n",
       " ('Макс.знач.Част.ЭМП-К.Руч3', 0.0013429432143868894),\n",
       " ('Мак.зн.Зон1.расх.Руч2', 0.001338052554741677),\n",
       " ('Мак.зн.Зон2.расх.Руч5', 0.0013204125613467798),\n",
       " ('Ср.зн.Напр.рол2.Руч1', 0.0013182639182917795),\n",
       " ('Ср.знач.MouldTemp.Руч3', 0.001317121185823434),\n",
       " ('Ср.знач.Де.t.кр.Руч2', 0.001315259288551605),\n",
       " ('Мак.зн.Напр.рол2.Руч3', 0.0013097848237201466),\n",
       " ('Ср.значениеПоз.стер.стоп.Руч2', 0.0013010575925673487),\n",
       " ('Мин.зн.Напр.рол2.Руч2', 0.0012880292657703168),\n",
       " ('Ср.зн.Рас.на.кр.Руч1', 0.0012873601102908949),\n",
       " ('Ср.зн.Зон1.расх.Руч3', 0.0012864945568405043),\n",
       " ('Ручей1-Потери_при_резе', 0.0012766166503510295),\n",
       " ('Мак.зн.Напр.рол3.Руч4', 0.0012765470257100338),\n",
       " ('SPECLADLEADDITION', 0.0012742866232644816),\n",
       " ('Мин.зн.Напр.рол2.Руч3', 0.0012656312559317967),\n",
       " ('Ручей5-Потери_при_резе', 0.0012535865579726144),\n",
       " ('Мак.зн.Зон3.дав.Руч1', 0.0012524419828246682),\n",
       " ('Ср.зн.Напр.рол3.Руч1', 0.0012493719867689244),\n",
       " ('temp2', 0.0012442029400051013),\n",
       " ('Мин.зн.Рас.накр.Руч5', 0.0012416108961311545),\n",
       " ('Мак.зн.Напр.рол1.Руч2', 0.001228222026904196),\n",
       " ('Макс.знач.Вес в пром.ковшеРуч5', 0.0012274465973825574),\n",
       " ('Ср.зн.Напр.рол2.Руч4', 0.0012250107452653463),\n",
       " ('Мин.знач.Кач.крист.Руч5', 0.0012160536606091762),\n",
       " ('Тов.длин3-вес', 0.0012070566065879162),\n",
       " ('Нач.вес_в_п/к(т)', 0.0011975788662768147),\n",
       " ('Ср.зн.Зон3.дав.Руч2', 0.0011884754900198067),\n",
       " ('Мин.знач.Де.t.кр.Руч1', 0.0011871009158151244),\n",
       " ('Макс.знач.Ур.в.крист.Руч3', 0.0011754789150189003),\n",
       " ('расhет_темп', 0.0011740332510508493),\n",
       " ('Мак.зн.Зон2.расх.Руч4', 0.0011693252383575866),\n",
       " ('Мин.знач.MouldTemp.Руч5', 0.0011660402313131875),\n",
       " ('Ср.зн.Зон2.дав.Руч4', 0.001164693307600023),\n",
       " ('Ср.зн.Зон3.расх.Руч2', 0.001163345491057969),\n",
       " ('Мин.зн.Напр.рол1.Руч2', 0.0011612251373196024),\n",
       " ('Ср.знач.Ур.в.крист.Руч4', 0.0011533425332046854),\n",
       " ('Нач.вес_в_с/к(т)', 0.0011447623425379994),\n",
       " ('Ср.зн.Зон1.расх.Руч2', 0.0011380261597746188),\n",
       " ('Ср.зн.Зон3.расх.Руч1', 0.0011358843865303015),\n",
       " ('Тов.длин4-вес', 0.0011355076782740081),\n",
       " ('Тов.длин4-счет', 0.001122635976012354),\n",
       " ('Мак.зн.Рас.накр.Руч5', 0.0011199228767289915),\n",
       " ('год', 0.0011030450651172358),\n",
       " ('Ср.зн.Зон2.расх.Руч3', 0.0011022927724941884),\n",
       " ('Всего_заготовок', 0.0010980686769095404),\n",
       " ('Тов.длин3-длинна', 0.0010935841224001509),\n",
       " ('last_temp', 0.0010897794201762795),\n",
       " ('Ср.зн.Зон2.расх.Руч5', 0.0010766584514520729),\n",
       " ('Мин.зн.Напр.рол2.Руч1', 0.0010754246334279138),\n",
       " ('temp3', 0.0010753133059581237),\n",
       " ('Мин.зн.Зон3.дав.Руч5', 0.0010691391021363566),\n",
       " ('Мак.зн.Рас.накр.Руч1', 0.0010653023368084498),\n",
       " ('Ручей4-окалина', 0.0010568934857683276),\n",
       " ('Тов.длин1-счет', 0.001052803099112485),\n",
       " ('Ср.зн.Рас.на.кр.Руч4', 0.001049399459094057),\n",
       " ('Производительность_плавки', 0.001047240609862261),\n",
       " ('Мин.зн.Напр.рол4.Руч5', 0.001024959869895186)]"
      ]
     },
     "execution_count": 22,
     "metadata": {},
     "output_type": "execute_result"
    }
   ],
   "source": [
    "out = []\n",
    "for i, imp in enumerate(clf.feature_importances_):\n",
    "    if imp > 0.001:\n",
    "        out.append((features[i], imp))\n",
    "sorted(out, key=lambda tup: tup[1], reverse=True)"
   ]
  },
  {
   "cell_type": "code",
   "execution_count": 79,
   "metadata": {},
   "outputs": [
    {
     "name": "stdout",
     "output_type": "stream",
     "text": [
      "                          Ручей1_Брак_загот.шт-вес  Мин.знач.Скор.разл.Руч1  \\\n",
      "Ручей1_Брак_загот.шт-вес                  1.000000                 0.148724   \n",
      "Мин.знач.Скор.разл.Руч1                   0.148724                 1.000000   \n",
      "Мин.знач.Ур.в.крист.Руч1                  0.252803                 0.435420   \n",
      "Ручей1-длинна_хвоста                      0.060072                 0.110035   \n",
      "Кон.вес_в_п/к(т)                          0.128263                 0.329498   \n",
      "\n",
      "                          Мин.знач.Ур.в.крист.Руч1  Ручей1-длинна_хвоста  \\\n",
      "Ручей1_Брак_загот.шт-вес                  0.252803              0.060072   \n",
      "Мин.знач.Скор.разл.Руч1                   0.435420              0.110035   \n",
      "Мин.знач.Ур.в.крист.Руч1                  1.000000              0.117509   \n",
      "Ручей1-длинна_хвоста                      0.117509              1.000000   \n",
      "Кон.вес_в_п/к(т)                          0.196283              0.142423   \n",
      "\n",
      "                          Кон.вес_в_п/к(т)  \n",
      "Ручей1_Брак_загот.шт-вес          0.128263  \n",
      "Мин.знач.Скор.разл.Руч1           0.329498  \n",
      "Мин.знач.Ур.в.крист.Руч1          0.196283  \n",
      "Ручей1-длинна_хвоста              0.142423  \n",
      "Кон.вес_в_п/к(т)                  1.000000  \n"
     ]
    },
    {
     "data": {
      "image/png": "[encoded data removed]",
      "text/plain": [
       "<Figure size 720x720 with 2 Axes>"
      ]
     },
     "metadata": {
      "needs_background": "light"
     },
     "output_type": "display_data"
    }
   ],
   "source": [
    "df = data[['Ручей1_Брак_загот.шт-вес','Мин.знач.Скор.разл.Руч1' , 'Мин.знач.Ур.в.крист.Руч1', 'Ручей1-длинна_хвоста', 'Кон.вес_в_п/к(т)']]\n",
    "print(df.corr().abs())\n",
    "f = plt.figure(figsize=(10, 10))\n",
    "plt.matshow(df.corr(), fignum=f.number)\n",
    "plt.xticks(range(df.shape[1]), df.columns, fontsize=14, rotation=45)\n",
    "plt.yticks(range(df.shape[1]), df.columns, fontsize=14)\n",
    "cb = plt.colorbar()\n",
    "cb.ax.tick_params(labelsize=14)\n",
    "plt.title('Correlation Matrix', fontsize=16);"
   ]
  },
  {
   "cell_type": "code",
   "execution_count": 27,
   "metadata": {},
   "outputs": [
    {
     "data": {
      "text/plain": [
       "<matplotlib.axes._subplots.AxesSubplot at 0x20add872808>"
      ]
     },
     "execution_count": 27,
     "metadata": {},
     "output_type": "execute_result"
    },
    {
     "data": {
      "image/png": "[encoded data removed]",
      "text/plain": [
       "<Figure size 432x288 with 1 Axes>"
      ]
     },
     "metadata": {
      "needs_background": "light"
     },
     "output_type": "display_data"
    }
   ],
   "source": [
    "data['Мин.знач.Скор.разл.Руч1'].plot.density()"
   ]
  },
  {
   "cell_type": "code",
   "execution_count": 28,
   "metadata": {},
   "outputs": [],
   "source": [
    "from scipy import interpolate"
   ]
  },
  {
   "cell_type": "code",
   "execution_count": 49,
   "metadata": {},
   "outputs": [
    {
     "name": "stdout",
     "output_type": "stream",
     "text": [
      "(28412, 2)\n"
     ]
    },
    {
     "data": {
      "image/png": "[encoded data removed]",
      "text/plain": [
       "<Figure size 432x288 with 1 Axes>"
      ]
     },
     "metadata": {
      "needs_background": "light"
     },
     "output_type": "display_data"
    }
   ],
   "source": [
    "df = pd.DataFrame()\n",
    "df[['Мин.знач.Ур.в.крист.Руч', 'Ручей_Брак_загот.шт-вес']] = data[['Мин.знач.Ур.в.крист.Руч1', 'Ручей1_Брак_загот.шт-вес']]\n",
    "print(df.shape)\n",
    "for i in range(2, 6):\n",
    "    new_df = pd.DataFrame()\n",
    "    new_df[['Мин.знач.Ур.в.крист.Руч', 'Ручей_Брак_загот.шт-вес']] = data[[f'Мин.знач.Ур.в.крист.Руч{str(i)}',f'Ручей{str(i)}_Брак_загот.шт-вес']]\n",
    "    df = pd.concat((df, new_df), ignore_index=True)\n",
    "df = df.fillna(0)\n",
    "df = df[['Мин.знач.Ур.в.крист.Руч', 'Ручей_Брак_загот.шт-вес']].groupby('Мин.знач.Ур.в.крист.Руч', as_index=False).mean()\n",
    "mold_values = df['Мин.знач.Ур.в.крист.Руч'].values\n",
    "defect_values = df['Ручей_Брак_загот.шт-вес'].values\n",
    "xnew = np.linspace(mold_values.min(), mold_values.max(), 300) \n",
    "spl = interpolate.make_interp_spline(mold_values, defect_values) \n",
    "y_smooth = spl(xnew)\n",
    "y_smooth = np.where(y_smooth<0, 0, y_smooth)\n",
    "y_smooth = np.where(y_smooth>1, 1, y_smooth)\n",
    "plt.plot(xnew, y_smooth)\n",
    "plt.xlabel('Мин.знач.Ур.в.крист.Руч')\n",
    "plt.ylabel('Ручей_Брак_загот.шт-вес')\n",
    "plt.show()"
   ]
  },
  {
   "cell_type": "code",
   "execution_count": 52,
   "metadata": {},
   "outputs": [
    {
     "data": {
      "image/png": "[encoded data removed]",
      "text/plain": [
       "<Figure size 432x288 with 1 Axes>"
      ]
     },
     "metadata": {
      "needs_background": "light"
     },
     "output_type": "display_data"
    }
   ],
   "source": [
    "df = pd.DataFrame()\n",
    "df[['Мин.знач.Скор.разл.Руч', 'Ручей_Брак_загот.шт-вес']] = data[['Мин.знач.Скор.разл.Руч1', 'Ручей1_Брак_загот.шт-вес']]\n",
    "for i in range(2, 6):\n",
    "    new_df = pd.DataFrame()\n",
    "    new_df[['Мин.знач.Скор.разл.Руч', 'Ручей_Брак_загот.шт-вес']] = data[[f'Мин.знач.Скор.разл.Руч{str(i)}',\n",
    "                                                                          f'Ручей{str(i)}_Брак_загот.шт-вес']]\n",
    "    df = pd.concat((df, new_df), ignore_index=True)\n",
    "df = df.fillna(0)\n",
    "df = df[['Мин.знач.Скор.разл.Руч', 'Ручей_Брак_загот.шт-вес']].groupby('Мин.знач.Скор.разл.Руч', as_index=False).mean()\n",
    "speed_values = df['Мин.знач.Скор.разл.Руч'].values\n",
    "defect_values = df['Ручей_Брак_загот.шт-вес'].values\n",
    "xnew = np.linspace(speed_values.min(), speed_values.max(), 300) \n",
    "spl = interpolate.make_interp_spline(speed_values, defect_values) \n",
    "y_smooth = spl(xnew)\n",
    "y_smooth = np.where(y_smooth<0, 0, y_smooth)\n",
    "y_smooth = np.where(y_smooth>1, 1, y_smooth)\n",
    "plt.plot(xnew, y_smooth)\n",
    "plt.xlabel('Мин.знач.Скор.разл.Руч')\n",
    "plt.ylabel('Ручей_Брак_загот.шт-вес')\n",
    "plt.show()"
   ]
  },
  {
   "cell_type": "code",
   "execution_count": 56,
   "metadata": {},
   "outputs": [
    {
     "name": "stdout",
     "output_type": "stream",
     "text": [
      "float64\n"
     ]
    },
    {
     "data": {
      "text/plain": [
       "{0.0: 71, 1.0: 28155, 2.0: 186}"
      ]
     },
     "execution_count": 56,
     "metadata": {},
     "output_type": "execute_result"
    }
   ],
   "source": [
    "print(data['Тов.длин1-качество'].dtype)\n",
    "unique, counts = np.unique(data['Тов.длин1-качество'].values, return_counts=True)\n",
    "count = dict(zip(unique, counts))\n",
    "count"
   ]
  },
  {
   "cell_type": "code",
   "execution_count": 59,
   "metadata": {},
   "outputs": [
    {
     "data": {
      "text/html": [
       "<div>\n",
       "<style scoped>\n",
       "    .dataframe tbody tr th:only-of-type {\n",
       "        vertical-align: middle;\n",
       "    }\n",
       "\n",
       "    .dataframe tbody tr th {\n",
       "        vertical-align: top;\n",
       "    }\n",
       "\n",
       "    .dataframe thead th {\n",
       "        text-align: right;\n",
       "    }\n",
       "</style>\n",
       "<table border=\"1\" class=\"dataframe\">\n",
       "  <thead>\n",
       "    <tr style=\"text-align: right;\">\n",
       "      <th></th>\n",
       "      <th>Тов.длин1-качество</th>\n",
       "      <th>Мин.знач.Скор.разл.Руч1</th>\n",
       "      <th>Мин.знач.Ур.в.крист.Руч1</th>\n",
       "      <th>Ручей1-длинна_хвоста</th>\n",
       "      <th>Кон.вес_в_п/к(т)</th>\n",
       "    </tr>\n",
       "  </thead>\n",
       "  <tbody>\n",
       "    <tr>\n",
       "      <th>Тов.длин1-качество</th>\n",
       "      <td>1.000000</td>\n",
       "      <td>-0.046866</td>\n",
       "      <td>-0.019017</td>\n",
       "      <td>0.029777</td>\n",
       "      <td>-0.039504</td>\n",
       "    </tr>\n",
       "    <tr>\n",
       "      <th>Мин.знач.Скор.разл.Руч1</th>\n",
       "      <td>-0.046866</td>\n",
       "      <td>1.000000</td>\n",
       "      <td>0.435420</td>\n",
       "      <td>-0.110035</td>\n",
       "      <td>0.329498</td>\n",
       "    </tr>\n",
       "    <tr>\n",
       "      <th>Мин.знач.Ур.в.крист.Руч1</th>\n",
       "      <td>-0.019017</td>\n",
       "      <td>0.435420</td>\n",
       "      <td>1.000000</td>\n",
       "      <td>-0.117509</td>\n",
       "      <td>0.196283</td>\n",
       "    </tr>\n",
       "    <tr>\n",
       "      <th>Ручей1-длинна_хвоста</th>\n",
       "      <td>0.029777</td>\n",
       "      <td>-0.110035</td>\n",
       "      <td>-0.117509</td>\n",
       "      <td>1.000000</td>\n",
       "      <td>-0.142423</td>\n",
       "    </tr>\n",
       "    <tr>\n",
       "      <th>Кон.вес_в_п/к(т)</th>\n",
       "      <td>-0.039504</td>\n",
       "      <td>0.329498</td>\n",
       "      <td>0.196283</td>\n",
       "      <td>-0.142423</td>\n",
       "      <td>1.000000</td>\n",
       "    </tr>\n",
       "  </tbody>\n",
       "</table>\n",
       "</div>"
      ],
      "text/plain": [
       "                          Тов.длин1-качество  Мин.знач.Скор.разл.Руч1  \\\n",
       "Тов.длин1-качество                  1.000000                -0.046866   \n",
       "Мин.знач.Скор.разл.Руч1            -0.046866                 1.000000   \n",
       "Мин.знач.Ур.в.крист.Руч1           -0.019017                 0.435420   \n",
       "Ручей1-длинна_хвоста                0.029777                -0.110035   \n",
       "Кон.вес_в_п/к(т)                   -0.039504                 0.329498   \n",
       "\n",
       "                          Мин.знач.Ур.в.крист.Руч1  Ручей1-длинна_хвоста  \\\n",
       "Тов.длин1-качество                       -0.019017              0.029777   \n",
       "Мин.знач.Скор.разл.Руч1                   0.435420             -0.110035   \n",
       "Мин.знач.Ур.в.крист.Руч1                  1.000000             -0.117509   \n",
       "Ручей1-длинна_хвоста                     -0.117509              1.000000   \n",
       "Кон.вес_в_п/к(т)                          0.196283             -0.142423   \n",
       "\n",
       "                          Кон.вес_в_п/к(т)  \n",
       "Тов.длин1-качество               -0.039504  \n",
       "Мин.знач.Скор.разл.Руч1           0.329498  \n",
       "Мин.знач.Ур.в.крист.Руч1          0.196283  \n",
       "Ручей1-длинна_хвоста             -0.142423  \n",
       "Кон.вес_в_п/к(т)                  1.000000  "
      ]
     },
     "execution_count": 59,
     "metadata": {},
     "output_type": "execute_result"
    }
   ],
   "source": [
    "df = data[['Тов.длин1-качество','Мин.знач.Скор.разл.Руч1' , 'Мин.знач.Ур.в.крист.Руч1', 'Ручей1-длинна_хвоста', 'Кон.вес_в_п/к(т)']]\n",
    "df.corr()"
   ]
  },
  {
   "cell_type": "code",
   "execution_count": 62,
   "metadata": {},
   "outputs": [
    {
     "data": {
      "image/png": "[encoded data removed]",
      "text/plain": [
       "<Figure size 432x288 with 1 Axes>"
      ]
     },
     "metadata": {
      "needs_background": "light"
     },
     "output_type": "display_data"
    }
   ],
   "source": [
    "df = pd.DataFrame()\n",
    "df[['Мин.знач.Ур.в.крист.Руч', 'Тов.длин-качество']] = data[['Мин.знач.Ур.в.крист.Руч1', 'Тов.длин1-качество']]\n",
    "for i in range(2, 6):\n",
    "    new_df = pd.DataFrame()\n",
    "    new_df[['Мин.знач.Ур.в.крист.Руч', 'Тов.длин-качество']] = data[[f'Мин.знач.Ур.в.крист.Руч{str(i)}',f'Тов.длин{str(i)}-качество']]\n",
    "    df = pd.concat((df, new_df), ignore_index=True)\n",
    "df = df.fillna(0)\n",
    "df = df[['Мин.знач.Ур.в.крист.Руч', 'Тов.длин-качество']].groupby('Мин.знач.Ур.в.крист.Руч', as_index=False).mean()\n",
    "mold_values = df['Мин.знач.Ур.в.крист.Руч'].values\n",
    "quality_values = df['Тов.длин-качество'].values\n",
    "plt.plot(mold_values, quality_values)\n",
    "plt.xlabel('Мин.знач.Ур.в.крист.Руч')\n",
    "plt.ylabel('Тов.длин-качество')\n",
    "plt.show()"
   ]
  }
 ],
 "metadata": {
  "kernelspec": {
   "display_name": "Python 3",
   "language": "python",
   "name": "python3"
  },
  "language_info": {
   "codemirror_mode": {
    "name": "ipython",
    "version": 3
   },
   "file_extension": ".py",
   "mimetype": "text/x-python",
   "name": "python",
   "nbconvert_exporter": "python",
   "pygments_lexer": "ipython3",
   "version": "3.7.4"
  }
 },
 "nbformat": 4,
 "nbformat_minor": 4
}
