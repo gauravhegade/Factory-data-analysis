{
 "cells": [
  {
   "cell_type": "code",
   "execution_count": 38,
   "metadata": {},
   "outputs": [],
   "source": [
    "import pandas as pd\n",
    "import numpy as np\n",
    "import os"
   ]
  },
  {
   "cell_type": "code",
   "execution_count": 39,
   "metadata": {},
   "outputs": [
    {
     "data": {
      "text/plain": [
       "(13513, 462)"
      ]
     },
     "execution_count": 39,
     "metadata": {},
     "output_type": "execute_result"
    }
   ],
   "source": [
    "dsp_data = pd.read_csv(os.path.abspath(os.getcwd()) + '\\\\merged\\\\dsp_merged_delays.csv', encoding = \"UTF-16LE\", low_memory=False)\n",
    "dsp_data = dsp_data.fillna(0)\n",
    "dsp_data.shape"
   ]
  },
  {
   "cell_type": "code",
   "execution_count": 40,
   "metadata": {},
   "outputs": [
    {
     "data": {
      "text/plain": [
       "['MATERIAL_ID',\n",
       " 'QUANTITY',\n",
       " 'HEATCUST',\n",
       " 'TREATCUST',\n",
       " 'PROD_ID',\n",
       " 'PROD_DATE',\n",
       " 'AIM_GRADE',\n",
       " 'ACT_GRADE',\n",
       " 'AIM_WEIGHT',\n",
       " 'ACT_WEIGHT',\n",
       " 'AIM_TEMP',\n",
       " 'ACT_TEMP',\n",
       " 'ENERGY',\n",
       " 'SPECENERGY',\n",
       " 'ROUTE',\n",
       " 'BASKETS',\n",
       " 'SHIFT',\n",
       " 'CREW',\n",
       " 'MELTER',\n",
       " 'SUPERVISOR',\n",
       " 'TAP_TO_TAP',\n",
       " 'BURNER_TOTALOXY',\n",
       " 'BURNER_TOTALLANCEOXY',\n",
       " 'BURNER_TOTALGAS',\n",
       " 'SPECGAS',\n",
       " 'INJ_CARBON',\n",
       " 'SPECCARBON',\n",
       " 'FURNACE_ADDITIONS',\n",
       " 'FURNACE_SLAGFORMER',\n",
       " 'SPECADDITIONS',\n",
       " 'SPECSLAGFORM',\n",
       " 'LADLE_ADDITIONS',\n",
       " 'LADLE_SLAGFORMER',\n",
       " 'SPECLADLEADDITION',\n",
       " 'SPECLADLEFORMER',\n",
       " 'LADLE_NO',\n",
       " 'TAREWEIGHT',\n",
       " 'THERMAL_DESC',\n",
       " 'LADLE_LIFE',\n",
       " 'FURNACE_DELTAAGE',\n",
       " 'FURNACE_SHELLAGE',\n",
       " 'FURNACE_TAPHOLEAGE',\n",
       " 'FURNACE_ROOFAGE',\n",
       " 'FURNACE_BOTTOMAGE',\n",
       " 'FURNACE_WALLAGE',\n",
       " 'PRODPRAC_ELEC',\n",
       " 'PRODPRAC_BURNER',\n",
       " 'PRODPRAC_INJECTION',\n",
       " 'PRODPRAC_BASKET',\n",
       " 'PRODPRAC_MATERIAL',\n",
       " 'HEATID_CUST_x',\n",
       " 'PREPARATION_END-PREPARATION_START(сек)',\n",
       " 'HEAT_END-HEAT_START(сек)',\n",
       " 'MELT_BASKET1_END-MELT_BASKET1_START(сек)',\n",
       " 'MELT_BASKET2_END-MELT_BASKET2_START(сек)',\n",
       " 'REFINING_END-REFINING_START(сек)',\n",
       " 'TAPPING_END-TAPPING_START(сек)',\n",
       " 'TOTAL_P_OFF',\n",
       " 'TOTAL_P_ON',\n",
       " 'MELT_BASKET1_KWH',\n",
       " 'MELT_BASKET1_DURATION',\n",
       " 'MELT_BASKET2_KWH',\n",
       " 'MELT_BASKET2_DURATION',\n",
       " 'MELT_BASKET3_START',\n",
       " 'MELT_BASKET3_END',\n",
       " 'MELT_BASKET3_KWH',\n",
       " 'MELT_BASKET3_DURATION',\n",
       " 'REFINING_KWH',\n",
       " 'REFINING_DURATION',\n",
       " 'TAPPING_KWH',\n",
       " 'TAPPING_DURATION',\n",
       " 'TOTAL_P_OFF.1',\n",
       " 'TOTAL_P_ON.1',\n",
       " 'HEATID_x',\n",
       " 'HEATID_CUST_y',\n",
       " 'LABEL',\n",
       " 'PLANT_x',\n",
       " 'POSITIONROW_x',\n",
       " 'SAMPDATE',\n",
       " 'SAMPLID',\n",
       " 'TREATID_x',\n",
       " 'VALAL',\n",
       " 'VALAS',\n",
       " 'VALC',\n",
       " 'VALCR',\n",
       " 'VALCU',\n",
       " 'VALFE_x',\n",
       " 'VALMN',\n",
       " 'VALMO',\n",
       " 'VALN',\n",
       " 'VALNB',\n",
       " 'VALNI',\n",
       " 'VALP',\n",
       " 'VALS_x',\n",
       " 'VALSI',\n",
       " 'VALSN',\n",
       " 'VALTI',\n",
       " 'VALV',\n",
       " 'VALZN',\n",
       " 'CHEM_MEAS_COUNT',\n",
       " 'HEATID_CUST_x.1',\n",
       " 'TEMP',\n",
       " 'VALO2_PPM',\n",
       " 'TEMP_TIME',\n",
       " 'ELECMOMENT',\n",
       " 'TEMP_MEAS_COUNT',\n",
       " 'HEATID_CUST_y.1',\n",
       " 'FeSi65-4_CHARGE_AMOUNT_ZAVALKA',\n",
       " 'MnSi17А_CHARGE_AMOUNT_ZAVALKA',\n",
       " 'Антрацит_CHARGE_AMOUNT_ZAVALKA',\n",
       " 'Брикет УСМ 40-50мм_CHARGE_AMOUNT_ZAVALKA',\n",
       " 'Графит искусственный 0,1-2,5 мм_CHARGE_AMOUNT_ZAVALKA',\n",
       " 'Доломит_CHARGE_AMOUNT_ZAVALKA',\n",
       " 'Известь_CHARGE_AMOUNT_ZAVALKA',\n",
       " 'Известь собственного производства_CHARGE_AMOUNT_ZAVALKA',\n",
       " 'Кокс 10-30 мм_CHARGE_AMOUNT_ZAVALKA',\n",
       " 'Магма_CHARGE_AMOUNT_ZAVALKA',\n",
       " 'Магма-П_CHARGE_AMOUNT_ZAVALKA',\n",
       " 'Материал ФГМ_CHARGE_AMOUNT_ZAVALKA',\n",
       " 'УСМ 03-10мм_CHARGE_AMOUNT_ZAVALKA',\n",
       " 'УСМ 10-60 мм_CHARGE_AMOUNT_ZAVALKA',\n",
       " 'УСМ 3-10мм_CHARGE_AMOUNT_ZAVALKA',\n",
       " 'УСМ 3-15 мм_CHARGE_AMOUNT_ZAVALKA',\n",
       " 'ФОМИ_CHARGE_AMOUNT_ZAVALKA',\n",
       " 'ФОМИ Б2_CHARGE_AMOUNT_ZAVALKA',\n",
       " 'ФС 45_CHARGE_AMOUNT_ZAVALKA',\n",
       " 'Флюс ФИМ_CHARGE_AMOUNT_ZAVALKA',\n",
       " 'Флюс ФМ-2-1_CHARGE_AMOUNT_ZAVALKA',\n",
       " 'Флюс ФМИ-2_CHARGE_AMOUNT_ZAVALKA',\n",
       " 'Флюс магнезиальный 5-60_CHARGE_AMOUNT_ZAVALKA',\n",
       " 'брикет БМК-60_CHARGE_AMOUNT_ZAVALKA',\n",
       " 'известь_CHARGE_AMOUNT_ZAVALKA',\n",
       " 'FeSi65-4_ACT_EGY_ZAVALKA',\n",
       " 'MnSi17А_ACT_EGY_ZAVALKA',\n",
       " 'Антрацит_ACT_EGY_ZAVALKA',\n",
       " 'Брикет УСМ 40-50мм_ACT_EGY_ZAVALKA',\n",
       " 'Графит искусственный 0,1-2,5 мм_ACT_EGY_ZAVALKA',\n",
       " 'Доломит_ACT_EGY_ZAVALKA',\n",
       " 'Известь_ACT_EGY_ZAVALKA',\n",
       " 'Известь собственного производства_ACT_EGY_ZAVALKA',\n",
       " 'Кокс 10-30 мм_ACT_EGY_ZAVALKA',\n",
       " 'Магма_ACT_EGY_ZAVALKA',\n",
       " 'Магма-П_ACT_EGY_ZAVALKA',\n",
       " 'Материал ФГМ_ACT_EGY_ZAVALKA',\n",
       " 'УСМ 03-10мм_ACT_EGY_ZAVALKA',\n",
       " 'УСМ 10-60 мм_ACT_EGY_ZAVALKA',\n",
       " 'УСМ 3-10мм_ACT_EGY_ZAVALKA',\n",
       " 'УСМ 3-15 мм_ACT_EGY_ZAVALKA',\n",
       " 'ФОМИ_ACT_EGY_ZAVALKA',\n",
       " 'ФОМИ Б2_ACT_EGY_ZAVALKA',\n",
       " 'ФС 45_ACT_EGY_ZAVALKA',\n",
       " 'Флюс ФИМ_ACT_EGY_ZAVALKA',\n",
       " 'Флюс ФМ-2-1_ACT_EGY_ZAVALKA',\n",
       " 'Флюс ФМИ-2_ACT_EGY_ZAVALKA',\n",
       " 'Флюс магнезиальный 5-60_ACT_EGY_ZAVALKA',\n",
       " 'брикет БМК-60_ACT_EGY_ZAVALKA',\n",
       " 'известь_ACT_EGY_ZAVALKA',\n",
       " '25A_CHARGE_AMOUNT_PODVALKA1',\n",
       " '3AЧ_CHARGE_AMOUNT_PODVALKA1',\n",
       " 'FeCr 850А_CHARGE_AMOUNT_PODVALKA1',\n",
       " 'FeSi65-4_CHARGE_AMOUNT_PODVALKA1',\n",
       " 'MnSi17А_CHARGE_AMOUNT_PODVALKA1',\n",
       " 'Антрацит_CHARGE_AMOUNT_PODVALKA1',\n",
       " 'Брикет Алюминиевый_CHARGE_AMOUNT_PODVALKA1',\n",
       " 'Брикет УСМ 40-50мм_CHARGE_AMOUNT_PODVALKA1',\n",
       " 'Гранулят Мо_CHARGE_AMOUNT_PODVALKA1',\n",
       " 'Графит искусственный 0,1-2,5 мм_CHARGE_AMOUNT_PODVALKA1',\n",
       " 'Доломит_CHARGE_AMOUNT_PODVALKA1',\n",
       " 'Железо горячебрекетированное_CHARGE_AMOUNT_PODVALKA1',\n",
       " 'Жидкий скрап_CHARGE_AMOUNT_PODVALKA1',\n",
       " 'Известь_CHARGE_AMOUNT_PODVALKA1',\n",
       " 'Известь собственного производства_CHARGE_AMOUNT_PODVALKA1',\n",
       " 'КРС-65 брикеты_CHARGE_AMOUNT_PODVALKA1',\n",
       " 'КШУ 75_CHARGE_AMOUNT_PODVALKA1',\n",
       " 'Катализатор КВ-1, 10-20%_CHARGE_AMOUNT_PODVALKA1',\n",
       " 'Кокс 10-30 мм_CHARGE_AMOUNT_PODVALKA1',\n",
       " 'Лом черных металлов 6A_CHARGE_AMOUNT_PODVALKA1',\n",
       " 'Магма_CHARGE_AMOUNT_PODVALKA1',\n",
       " 'Магма-П_CHARGE_AMOUNT_PODVALKA1',\n",
       " 'Материал ФГМ_CHARGE_AMOUNT_PODVALKA1',\n",
       " 'СИМП-РМ_CHARGE_AMOUNT_PODVALKA1',\n",
       " 'Скрап Г/Б 25А_CHARGE_AMOUNT_PODVALKA1',\n",
       " 'Скрап Г/Б 25АС_CHARGE_AMOUNT_PODVALKA1',\n",
       " 'Скрап стальной Г/Б 25А_CHARGE_AMOUNT_PODVALKA1',\n",
       " 'УСМ 03-10мм_CHARGE_AMOUNT_PODVALKA1',\n",
       " 'УСМ 10-60 мм_CHARGE_AMOUNT_PODVALKA1',\n",
       " 'УСМ 3-10мм_CHARGE_AMOUNT_PODVALKA1',\n",
       " 'УСМ 3-15 мм_CHARGE_AMOUNT_PODVALKA1',\n",
       " 'ФОМИ_CHARGE_AMOUNT_PODVALKA1',\n",
       " 'ФОМИ Б2_CHARGE_AMOUNT_PODVALKA1',\n",
       " 'ФС 45_CHARGE_AMOUNT_PODVALKA1',\n",
       " 'ФС55А20_CHARGE_AMOUNT_PODVALKA1',\n",
       " 'ФСХ 40_CHARGE_AMOUNT_PODVALKA1',\n",
       " 'ФХ025_CHARGE_AMOUNT_PODVALKA1',\n",
       " 'Флюс ФИМ_CHARGE_AMOUNT_PODVALKA1',\n",
       " 'Флюс ФМ-2-1_CHARGE_AMOUNT_PODVALKA1',\n",
       " 'Флюс ФМИ-2_CHARGE_AMOUNT_PODVALKA1',\n",
       " 'Флюс магнезиальный 5-60_CHARGE_AMOUNT_PODVALKA1',\n",
       " 'алюминий вторичный АВ 87_CHARGE_AMOUNT_PODVALKA1',\n",
       " 'брикет БМК-60_CHARGE_AMOUNT_PODVALKA1',\n",
       " 'известь_CHARGE_AMOUNT_PODVALKA1',\n",
       " 'отходы 3A от сепарации_CHARGE_AMOUNT_PODVALKA1',\n",
       " '25A_ACT_EGY_PODVALKA1',\n",
       " '3AЧ_ACT_EGY_PODVALKA1',\n",
       " 'FeCr 850А_ACT_EGY_PODVALKA1',\n",
       " 'FeSi65-4_ACT_EGY_PODVALKA1',\n",
       " 'MnSi17А_ACT_EGY_PODVALKA1',\n",
       " 'Антрацит_ACT_EGY_PODVALKA1',\n",
       " 'Брикет Алюминиевый_ACT_EGY_PODVALKA1',\n",
       " 'Брикет УСМ 40-50мм_ACT_EGY_PODVALKA1',\n",
       " 'Гранулят Мо_ACT_EGY_PODVALKA1',\n",
       " 'Графит искусственный 0,1-2,5 мм_ACT_EGY_PODVALKA1',\n",
       " 'Доломит_ACT_EGY_PODVALKA1',\n",
       " 'Железо горячебрекетированное_ACT_EGY_PODVALKA1',\n",
       " 'Жидкий скрап_ACT_EGY_PODVALKA1',\n",
       " 'Известь_ACT_EGY_PODVALKA1',\n",
       " 'Известь собственного производства_ACT_EGY_PODVALKA1',\n",
       " 'КРС-65 брикеты_ACT_EGY_PODVALKA1',\n",
       " 'КШУ 75_ACT_EGY_PODVALKA1',\n",
       " 'Катализатор КВ-1, 10-20%_ACT_EGY_PODVALKA1',\n",
       " 'Кокс 10-30 мм_ACT_EGY_PODVALKA1',\n",
       " 'Лом черных металлов 6A_ACT_EGY_PODVALKA1',\n",
       " 'Магма_ACT_EGY_PODVALKA1',\n",
       " 'Магма-П_ACT_EGY_PODVALKA1',\n",
       " 'Материал ФГМ_ACT_EGY_PODVALKA1',\n",
       " 'СИМП-РМ_ACT_EGY_PODVALKA1',\n",
       " 'Скрап Г/Б 25А_ACT_EGY_PODVALKA1',\n",
       " 'Скрап Г/Б 25АС_ACT_EGY_PODVALKA1',\n",
       " 'Скрап стальной Г/Б 25А_ACT_EGY_PODVALKA1',\n",
       " 'УСМ 03-10мм_ACT_EGY_PODVALKA1',\n",
       " 'УСМ 10-60 мм_ACT_EGY_PODVALKA1',\n",
       " 'УСМ 3-10мм_ACT_EGY_PODVALKA1',\n",
       " 'УСМ 3-15 мм_ACT_EGY_PODVALKA1',\n",
       " 'ФОМИ_ACT_EGY_PODVALKA1',\n",
       " 'ФОМИ Б2_ACT_EGY_PODVALKA1',\n",
       " 'ФС 45_ACT_EGY_PODVALKA1',\n",
       " 'ФС55А20_ACT_EGY_PODVALKA1',\n",
       " 'ФСХ 40_ACT_EGY_PODVALKA1',\n",
       " 'ФХ025_ACT_EGY_PODVALKA1',\n",
       " 'Флюс ФИМ_ACT_EGY_PODVALKA1',\n",
       " 'Флюс ФМ-2-1_ACT_EGY_PODVALKA1',\n",
       " 'Флюс ФМИ-2_ACT_EGY_PODVALKA1',\n",
       " 'Флюс магнезиальный 5-60_ACT_EGY_PODVALKA1',\n",
       " 'алюминий вторичный АВ 87_ACT_EGY_PODVALKA1',\n",
       " 'брикет БМК-60_ACT_EGY_PODVALKA1',\n",
       " 'известь_ACT_EGY_PODVALKA1',\n",
       " 'отходы 3A от сепарации_ACT_EGY_PODVALKA1',\n",
       " 'HEATID_CUST_x.2',\n",
       " '25A_CHARGE_AMOUNT',\n",
       " '25A1_CHARGE_AMOUNT',\n",
       " '3AЧ_CHARGE_AMOUNT',\n",
       " 'C 0,5-2,5 mm_CHARGE_AMOUNT',\n",
       " 'CaC2_CHARGE_AMOUNT',\n",
       " 'CaF2-92_CHARGE_AMOUNT',\n",
       " 'FeCr 850А_CHARGE_AMOUNT',\n",
       " 'FeCr Х70_CHARGE_AMOUNT',\n",
       " 'FeSi65-4_CHARGE_AMOUNT',\n",
       " 'FeSi75_CHARGE_AMOUNT',\n",
       " 'MnSi17А_CHARGE_AMOUNT',\n",
       " 'glutin sp/m-10b_CHARGE_AMOUNT',\n",
       " 'АТФ-75_CHARGE_AMOUNT',\n",
       " 'АТФ-75Б_CHARGE_AMOUNT',\n",
       " 'АТФ-A_CHARGE_AMOUNT',\n",
       " 'Алюминий АВ-87 пирамидки_CHARGE_AMOUNT',\n",
       " 'Алюминий втор АВК-65Ф_CHARGE_AMOUNT',\n",
       " 'Антрацит_CHARGE_AMOUNT',\n",
       " 'Б11_CHARGE_AMOUNT',\n",
       " 'БЖМК_CHARGE_AMOUNT',\n",
       " 'БКК-85 брикет карбида кремния_CHARGE_AMOUNT',\n",
       " 'Брикет Алюминиевый_CHARGE_AMOUNT',\n",
       " 'Брикет УСМ 40-50мм_CHARGE_AMOUNT',\n",
       " 'Гранулы АВ-87_CHARGE_AMOUNT',\n",
       " 'Гранулы АГВ_CHARGE_AMOUNT',\n",
       " 'Гранулят Мо_CHARGE_AMOUNT',\n",
       " 'Графит искусственный 0,1-2,5 мм_CHARGE_AMOUNT',\n",
       " 'Доломит_CHARGE_AMOUNT',\n",
       " 'Железо горячебрекетированное_CHARGE_AMOUNT',\n",
       " 'Известь_CHARGE_AMOUNT',\n",
       " 'Известь собственного производства_CHARGE_AMOUNT',\n",
       " 'КРС универсальный_CHARGE_AMOUNT',\n",
       " 'КРС-65_CHARGE_AMOUNT',\n",
       " 'КРС-65 брикеты_CHARGE_AMOUNT',\n",
       " 'КШУ 75_CHARGE_AMOUNT',\n",
       " 'Катализатор КВ-1, 10-20%_CHARGE_AMOUNT',\n",
       " 'Кокс 10-30 мм_CHARGE_AMOUNT',\n",
       " 'Концентрат ванадиевый ВКПЛ-10_CHARGE_AMOUNT',\n",
       " 'Лом от сепарации_CHARGE_AMOUNT',\n",
       " 'Лом угл 2АМ_CHARGE_AMOUNT',\n",
       " 'Лом угл. мелкий 3АМ_CHARGE_AMOUNT',\n",
       " 'Лом черных металлов 6A_CHARGE_AMOUNT',\n",
       " 'Лом чугунный_CHARGE_AMOUNT',\n",
       " 'Магма_CHARGE_AMOUNT',\n",
       " 'Магма-П_CHARGE_AMOUNT',\n",
       " 'Марш-75_CHARGE_AMOUNT',\n",
       " 'Материал Mo брикет_CHARGE_AMOUNT',\n",
       " 'Материал ФГМ_CHARGE_AMOUNT',\n",
       " 'Никель катод Н1_CHARGE_AMOUNT',\n",
       " 'СИМП-РМ_CHARGE_AMOUNT',\n",
       " 'Скрап Г/Б 25А_CHARGE_AMOUNT',\n",
       " 'Скрап Г/Б 25АС_CHARGE_AMOUNT',\n",
       " 'Скрап стальной Г/Б 25А_CHARGE_AMOUNT',\n",
       " 'УСМ 03-10мм_CHARGE_AMOUNT',\n",
       " 'УСМ 10-60 мм_CHARGE_AMOUNT',\n",
       " 'УСМ 3-10мм_CHARGE_AMOUNT',\n",
       " 'УСМ 3-15 мм_CHARGE_AMOUNT',\n",
       " 'ФМН 78 ГОСТ4755-91 класс 4_CHARGE_AMOUNT',\n",
       " 'ФОМИ_CHARGE_AMOUNT',\n",
       " 'ФОМИ Б2_CHARGE_AMOUNT',\n",
       " 'ФС 45_CHARGE_AMOUNT',\n",
       " 'ФС55А20_CHARGE_AMOUNT',\n",
       " 'ФС75_CHARGE_AMOUNT',\n",
       " 'ФСХ 40_CHARGE_AMOUNT',\n",
       " 'ФХ025_CHARGE_AMOUNT',\n",
       " 'Ферромолибден 20_CHARGE_AMOUNT',\n",
       " 'Ферромолибден 30_CHARGE_AMOUNT',\n",
       " 'Феррохром 850 брикет_CHARGE_AMOUNT',\n",
       " 'Флюс ФИМ_CHARGE_AMOUNT',\n",
       " 'Флюс ФМ-2-1_CHARGE_AMOUNT',\n",
       " 'Флюс ФМИ-2_CHARGE_AMOUNT',\n",
       " 'Флюс глиноземистый_CHARGE_AMOUNT',\n",
       " 'Флюс магнезиальный 5-60_CHARGE_AMOUNT',\n",
       " 'Чугун передельный_CHARGE_AMOUNT',\n",
       " 'алюминий вторичный АВ 87_CHARGE_AMOUNT',\n",
       " 'брикет БМК-60_CHARGE_AMOUNT',\n",
       " 'известь 2 сорт_CHARGE_AMOUNT',\n",
       " 'отходы 3A от сепарации_CHARGE_AMOUNT',\n",
       " 'серная проволока_CHARGE_AMOUNT',\n",
       " 'флюс МВП_CHARGE_AMOUNT',\n",
       " 'HEATID_CUST_y.2',\n",
       " 'Известь_ZAVALKA_BASKET',\n",
       " 'Известь_PODVALKA_BASKET',\n",
       " '3A_ZAVALKA_BASKET',\n",
       " '3A_PODVALKA_BASKET',\n",
       " 'Скрап Г/Б 25А_ZAVALKA_BASKET',\n",
       " 'Скрап Г/Б 25А_PODVALKA_BASKET',\n",
       " '3AЧ_ZAVALKA_BASKET',\n",
       " '3AЧ_PODVALKA_BASKET',\n",
       " '16A_ZAVALKA_BASKET',\n",
       " '16A_PODVALKA_BASKET',\n",
       " '25A_ZAVALKA_BASKET',\n",
       " '25A_PODVALKA_BASKET',\n",
       " 'Б11_ZAVALKA_BASKET',\n",
       " 'Б11_PODVALKA_BASKET',\n",
       " 'алюминий вторичный АВ 87_ZAVALKA_BASKET',\n",
       " 'алюминий вторичный АВ 87_PODVALKA_BASKET',\n",
       " 'Лом чугунный_ZAVALKA_BASKET',\n",
       " 'Лом чугунный_PODVALKA_BASKET',\n",
       " 'MnSi17А_ZAVALKA_BASKET',\n",
       " 'MnSi17А_PODVALKA_BASKET',\n",
       " 'Жидкий скрап_ZAVALKA_BASKET',\n",
       " 'Жидкий скрап_PODVALKA_BASKET',\n",
       " 'Скрап стальной Г/Б 25А_ZAVALKA_BASKET',\n",
       " 'Скрап стальной Г/Б 25А_PODVALKA_BASKET',\n",
       " 'Лом Б23_ZAVALKA_BASKET',\n",
       " 'Лом Б23_PODVALKA_BASKET',\n",
       " 'отходы 3A от сепарации_ZAVALKA_BASKET',\n",
       " 'отходы 3A от сепарации_PODVALKA_BASKET',\n",
       " 'Лом от сепарации_ZAVALKA_BASKET',\n",
       " 'Лом от сепарации_PODVALKA_BASKET',\n",
       " 'Скрап Г/Б 25АС_ZAVALKA_BASKET',\n",
       " 'Скрап Г/Б 25АС_PODVALKA_BASKET',\n",
       " 'Гранулят Мо_ZAVALKA_BASKET',\n",
       " 'Гранулят Мо_PODVALKA_BASKET',\n",
       " 'Флюс ФИМ_ZAVALKA_BASKET',\n",
       " 'Флюс ФИМ_PODVALKA_BASKET',\n",
       " 'Кокс 10-30 мм_ZAVALKA_BASKET',\n",
       " 'Кокс 10-30 мм_PODVALKA_BASKET',\n",
       " 'Магма-П_ZAVALKA_BASKET',\n",
       " 'Магма-П_PODVALKA_BASKET',\n",
       " 'ФС 45_ZAVALKA_BASKET',\n",
       " 'ФС 45_PODVALKA_BASKET',\n",
       " 'Железо горячебрекетированное_ZAVALKA_BASKET',\n",
       " 'Железо горячебрекетированное_PODVALKA_BASKET',\n",
       " 'Лом угл. мелкий 3АМ_ZAVALKA_BASKET',\n",
       " 'Лом угл. мелкий 3АМ_PODVALKA_BASKET',\n",
       " 'Брикеты  6А_ZAVALKA_BASKET',\n",
       " 'Брикеты  6А_PODVALKA_BASKET',\n",
       " 'Лом угл 2АМ_ZAVALKA_BASKET',\n",
       " 'Лом угл 2АМ_PODVALKA_BASKET',\n",
       " '3A (отходы труб цехов)_ZAVALKA_BASKET',\n",
       " '3A (отходы труб цехов)_PODVALKA_BASKET',\n",
       " 'СИМП-РМ_ZAVALKA_BASKET',\n",
       " 'СИМП-РМ_PODVALKA_BASKET',\n",
       " 'УСМ 3-10мм_ZAVALKA_BASKET',\n",
       " 'УСМ 3-10мм_PODVALKA_BASKET',\n",
       " 'Лом 2АШ_ZAVALKA_BASKET',\n",
       " 'Лом 2АШ_PODVALKA_BASKET',\n",
       " 'Лом черных металлов 6A_ZAVALKA_BASKET',\n",
       " 'Лом черных металлов 6A_PODVALKA_BASKET',\n",
       " 'УСМ 3-15 мм_ZAVALKA_BASKET',\n",
       " 'УСМ 3-15 мм_PODVALKA_BASKET',\n",
       " 'Алюминий АВ-87 пирамидки_ZAVALKA_BASKET',\n",
       " 'Алюминий АВ-87 пирамидки_PODVALKA_BASKET',\n",
       " 'Лом 25А2А_ZAVALKA_BASKET',\n",
       " 'Лом 25А2А_PODVALKA_BASKET',\n",
       " 'брикет БМУ-6-1_ZAVALKA_BASKET',\n",
       " 'брикет БМУ-6-1_PODVALKA_BASKET',\n",
       " 'Известь собственного производства_ZAVALKA_BASKET',\n",
       " 'Известь собственного производства_PODVALKA_BASKET',\n",
       " '25A1_ZAVALKA_BASKET',\n",
       " '25A1_PODVALKA_BASKET',\n",
       " 'Чугун передельный_ZAVALKA_BASKET',\n",
       " 'Чугун передельный_PODVALKA_BASKET',\n",
       " 'Брикет Алюминиевый_ZAVALKA_BASKET',\n",
       " 'Брикет Алюминиевый_PODVALKA_BASKET',\n",
       " 'Материал Mo брикет_ZAVALKA_BASKET',\n",
       " 'Материал Mo брикет_PODVALKA_BASKET',\n",
       " '3Б23_ZAVALKA_BASKET',\n",
       " '3Б23_PODVALKA_BASKET',\n",
       " 'Магма_ZAVALKA_BASKET',\n",
       " 'Магма_PODVALKA_BASKET',\n",
       " 'Графит искусственный 0,1-2,5 мм_ZAVALKA_BASKET',\n",
       " 'Графит искусственный 0,1-2,5 мм_PODVALKA_BASKET',\n",
       " 'Антрацит_ZAVALKA_BASKET',\n",
       " 'Антрацит_PODVALKA_BASKET',\n",
       " 'ФХ025_ZAVALKA_BASKET',\n",
       " 'ФХ025_PODVALKA_BASKET',\n",
       " 'FeSi65-4_ZAVALKA_BASKET',\n",
       " 'FeSi65-4_PODVALKA_BASKET',\n",
       " 'HEATID_CUST_x.3',\n",
       " 'HEATID_y',\n",
       " 'TREATID_y',\n",
       " 'PLANT_y',\n",
       " 'TYPEROW',\n",
       " 'POSITIONROW_y',\n",
       " 'SAMPLE_NO',\n",
       " 'SAMPLE_DATE',\n",
       " 'VALBASICITY',\n",
       " 'VALCAO',\n",
       " 'VALSIO2',\n",
       " 'VALP2O5',\n",
       " 'VALFEO',\n",
       " 'VALS_y',\n",
       " 'VALAL2O3',\n",
       " 'VALMGO',\n",
       " 'VALMNO',\n",
       " 'VALCAF2',\n",
       " 'VALFE_y',\n",
       " 'HEATID_CUST_y.3',\n",
       " 'CODE',\n",
       " 'DELAYSTART',\n",
       " 'DELAYEND',\n",
       " 'DELAY_DUR',\n",
       " 'HEATID_CUST',\n",
       " '1',\n",
       " '2',\n",
       " '3',\n",
       " '4',\n",
       " '5',\n",
       " '6',\n",
       " '7',\n",
       " '8',\n",
       " '9',\n",
       " '10',\n",
       " '11',\n",
       " '12',\n",
       " '13',\n",
       " '14',\n",
       " '15',\n",
       " '16',\n",
       " '17',\n",
       " '18']"
      ]
     },
     "execution_count": 40,
     "metadata": {},
     "output_type": "execute_result"
    }
   ],
   "source": [
    "list(dsp_data)"
   ]
  },
  {
   "cell_type": "code",
   "execution_count": 42,
   "metadata": {},
   "outputs": [
    {
     "data": {
      "text/plain": [
       "TEMP_MEAS_COUNT                             0.143822\n",
       "13                                          0.144486\n",
       "10                                          0.151616\n",
       "SPECADDITIONS                               0.157565\n",
       "REFINING_DURATION                           0.171978\n",
       "REFINING_END-REFINING_START(сек)            0.173067\n",
       "Кокс 10-30 мм_ACT_EGY_PODVALKA1             0.173676\n",
       "TAPPING_END-TAPPING_START(сек)              0.237385\n",
       "SPECCARBON                                  0.243944\n",
       "TAPPING_DURATION                            0.247097\n",
       "7                                           0.272953\n",
       "ELECMOMENT                                  0.273906\n",
       "MELT_BASKET1_DURATION                       0.319216\n",
       "MELT_BASKET1_END-MELT_BASKET1_START(сек)    0.369516\n",
       "HEAT_END-HEAT_START(сек)                    0.403855\n",
       "SPECENERGY                                  0.596768\n",
       "TAPPING_KWH                                 0.777910\n",
       "TOTAL_P_ON                                  0.801614\n",
       "TOTAL_P_ON.1                                0.801614\n",
       "QUANTITY                                    1.000000\n",
       "Name: QUANTITY, dtype: float64"
      ]
     },
     "execution_count": 42,
     "metadata": {},
     "output_type": "execute_result"
    }
   ],
   "source": [
    "cor = dsp_data.corr().fillna(0).sort_values('QUANTITY')['QUANTITY']\n",
    "cor[-20:]"
   ]
  },
  {
   "cell_type": "code",
   "execution_count": 43,
   "metadata": {},
   "outputs": [],
   "source": [
    "dsp_data['ACT_WEIGHT'] = dsp_data['ACT_WEIGHT'].str.replace(',', '.').astype(float)"
   ]
  },
  {
   "cell_type": "code",
   "execution_count": 45,
   "metadata": {},
   "outputs": [
    {
     "name": "stdout",
     "output_type": "stream",
     "text": [
      "['ДБ' '37Г2Ф' '09Г2С-12' '30Г2-8' '30Г2' 'Д' '38Г2С-4' '13ХФА' '20' '32Г2'\n",
      " '12Х1МФ' '20котельна' '45-1' '38Г2С' '09Г2С' '30ХГСА' '10-6' '20кот'\n",
      " '20A-1' '35ХГСА' '40Х' '35' '18ХМФБ' '10' '30ХГМА-1' '13ХФА-2' '18Х3МФБ'\n",
      " '30ХГМА-4' '32ХА' 'S355J2H' '17Г1С' '20ФА' 'ST 52.0' '37G2F-3' '38Г2С-3'\n",
      " '15Х1М1Ф' '45' '15ГС' '38Г2С-9' '20ХМФА' 'ST 52' '20-2' '14Г' '20ХГ2БМ'\n",
      " '09ГСФ' '45GB' 'P265GH' '37G2F-4' '18ХМФБ-2' 'S355J2H-2' '37G2F-2'\n",
      " '09Г2С-8У' '18ХМФБ-3' 0 '09Г2С-10' '38Г2С-7' 'S355J2H-3' '20ХФА-1'\n",
      " '09Г2С-11' '32Г2-М' '38Г2С-10' '30Г2-9' '09Г2С-16' '25ХГБ' '20A-2'\n",
      " '13GFA' '10G2' '12ФА-SS' '09GFB-2' '55' '17Г1СФБ']\n"
     ]
    }
   ],
   "source": [
    "print(dsp_data['AIM_GRADE'].unique())"
   ]
  },
  {
   "cell_type": "code",
   "execution_count": 46,
   "metadata": {},
   "outputs": [],
   "source": [
    "dsp_data['VALC'] = dsp_data['VALC'].str.replace(',', '.').astype(float)\n",
    "dsp_data['VALSI'] = dsp_data['VALSI'].str.replace(',', '.').astype(float)\n",
    "dsp_data['VALMN'] = dsp_data['VALMN'].str.replace(',', '.').astype(float)\n",
    "dsp_data['VALP'] = dsp_data['VALP'].str.replace(',', '.').astype(float)\n",
    "dsp_data['VALS_x'] = dsp_data['VALS_x'].str.replace(',', '.').astype(float)\n",
    "dsp_data['VALCU'] = dsp_data['VALCU'].str.replace(',', '.').astype(float)\n",
    "dsp_data['VALMO'] = dsp_data['VALMO'].str.replace(',', '.').astype(float)\n",
    "dsp_data['VALNI'] = dsp_data['VALNI'].str.replace(',', '.').astype(float)\n",
    "dsp_data['VALAS'] = dsp_data['VALAS'].str.replace(',', '.').astype(float)\n",
    "dsp_data['VALSN'] = dsp_data['VALSN'].str.replace(',', '.').astype(float)\n",
    "dsp_data['VALN'] = dsp_data['VALN'].str.replace(',', '.').astype(float)\n",
    "dsp_data['VALZN'] = dsp_data['VALZN'].str.replace(',', '.').astype(float)"
   ]
  },
  {
   "cell_type": "code",
   "execution_count": 54,
   "metadata": {},
   "outputs": [
    {
     "data": {
      "text/plain": [
       "0        0.2183\n",
       "1        0.2363\n",
       "2        0.2324\n",
       "3        0.2317\n",
       "4        0.2317\n",
       "          ...  \n",
       "13508    0.1700\n",
       "13509    0.1700\n",
       "13510    0.1700\n",
       "13511    0.1700\n",
       "13512    0.1700\n",
       "Name: VALSI, Length: 13513, dtype: float64"
      ]
     },
     "execution_count": 54,
     "metadata": {},
     "output_type": "execute_result"
    }
   ],
   "source": [
    "dsp_data['VALSI']"
   ]
  },
  {
   "cell_type": "code",
   "execution_count": 47,
   "metadata": {},
   "outputs": [
    {
     "data": {
      "text/plain": [
       "(8215, 462)"
      ]
     },
     "execution_count": 47,
     "metadata": {},
     "output_type": "execute_result"
    }
   ],
   "source": [
    "dsp_data.loc[dsp_data['AIM_GRADE'] == dsp_data['ACT_GRADE']].shape"
   ]
  },
  {
   "cell_type": "code",
   "execution_count": 48,
   "metadata": {},
   "outputs": [],
   "source": [
    "dsp_data['AIM_GRADE_category'] = dsp_data['AIM_GRADE'].astype('category')\n",
    "dsp_data['AIM_GRADE_category'] = dsp_data['AIM_GRADE_category'].cat.codes\n",
    "dsp_data['AIM_GRADE_category'] = dsp_data['AIM_GRADE_category'].astype('float')"
   ]
  },
  {
   "cell_type": "code",
   "execution_count": 49,
   "metadata": {},
   "outputs": [],
   "source": [
    "dsp_data['ACT_GRADE_category'] = dsp_data['ACT_GRADE'].astype('category')\n",
    "dsp_data['ACT_GRADE_category'] = dsp_data['ACT_GRADE_category'].cat.codes\n",
    "dsp_data['ACT_GRADE_category'] = dsp_data['ACT_GRADE_category'].astype('float')"
   ]
  },
  {
   "cell_type": "code",
   "execution_count": 71,
   "metadata": {},
   "outputs": [],
   "source": [
    "cor = dsp_data.corr().fillna(0).sort_values('ACT_GRADE_category')['ACT_GRADE_category']\n"
   ]
  },
  {
   "cell_type": "code",
   "execution_count": 72,
   "metadata": {},
   "outputs": [
    {
     "name": "stdout",
     "output_type": "stream",
     "text": [
      "FeSi75_CHARGE_AMOUNT                     -0.227024\n",
      "FeSi65-4_CHARGE_AMOUNT                   -0.224468\n",
      "алюминий вторичный АВ 87_CHARGE_AMOUNT   -0.212044\n",
      "ФС 45_CHARGE_AMOUNT                      -0.206517\n",
      "VALCU                                    -0.173650\n",
      "TEMP_MEAS_COUNT                          -0.141750\n",
      "POSITIONROW_x                            -0.129064\n",
      "SPECCARBON                               -0.121037\n",
      "Известь_ACT_EGY_PODVALKA1                -0.089578\n",
      "ФС75_CHARGE_AMOUNT                       -0.074096\n",
      "Name: ACT_GRADE_category, dtype: float64\n",
      "SPECLADLEADDITION        0.149912\n",
      "QUANTITY                 0.157147\n",
      "СИМП-РМ_CHARGE_AMOUNT    0.169815\n",
      "satisfy                  0.194213\n",
      "MnSi17А_CHARGE_AMOUNT    0.224138\n",
      "SPECADDITIONS            0.246513\n",
      "VALMN                    0.317821\n",
      "VALC                     0.548074\n",
      "AIM_GRADE_category       0.554687\n",
      "ACT_GRADE_category       1.000000\n",
      "Name: ACT_GRADE_category, dtype: float64\n"
     ]
    }
   ],
   "source": [
    "print(cor[:10])\n",
    "print(cor[-10:])"
   ]
  },
  {
   "cell_type": "code",
   "execution_count": 52,
   "metadata": {},
   "outputs": [],
   "source": [
    "dsp_data['satisfy'] = dsp_data.apply(lambda row: row['AIM_GRADE'] == row['ACT_GRADE'], axis=1).astype(int)"
   ]
  },
  {
   "cell_type": "code",
   "execution_count": 69,
   "metadata": {},
   "outputs": [
    {
     "data": {
      "text/plain": [
       "17                          0.044731\n",
       "СИМП-РМ_CHARGE_AMOUNT       0.048514\n",
       "16                          0.050320\n",
       "FURNACE_TAPHOLEAGE          0.052090\n",
       "FURNACE_ROOFAGE             0.052090\n",
       "FURNACE_WALLAGE             0.052260\n",
       "FURNACE_DELTAAGE            0.052260\n",
       "FURNACE_SHELLAGE            0.052265\n",
       "FURNACE_BOTTOMAGE           0.052265\n",
       "SPECLADLEADDITION           0.054699\n",
       "ACT_WEIGHT                  0.058784\n",
       "УСМ 3-10мм_CHARGE_AMOUNT    0.062209\n",
       "REFINING_KWH                0.063781\n",
       "MELT_BASKET2_KWH            0.079904\n",
       "MnSi17А_CHARGE_AMOUNT       0.102049\n",
       "VALMN                       0.121238\n",
       "VALC                        0.126934\n",
       "AIM_GRADE_category          0.162988\n",
       "ACT_GRADE_category          0.194213\n",
       "satisfy                     1.000000\n",
       "Name: satisfy, dtype: float64"
      ]
     },
     "execution_count": 69,
     "metadata": {},
     "output_type": "execute_result"
    }
   ],
   "source": [
    "cor = dsp_data.corr().fillna(0).sort_values('satisfy')['satisfy']\n",
    "cor[-20:]"
   ]
  },
  {
   "cell_type": "code",
   "execution_count": 55,
   "metadata": {},
   "outputs": [
    {
     "data": {
      "text/plain": [
       "<matplotlib.axes._subplots.AxesSubplot at 0x21a2b3c4088>"
      ]
     },
     "execution_count": 55,
     "metadata": {},
     "output_type": "execute_result"
    },
    {
     "data": {
      "image/png": "[encoded data removed]",
      "text/plain": [
       "<Figure size 432x288 with 1 Axes>"
      ]
     },
     "metadata": {
      "needs_background": "light"
     },
     "output_type": "display_data"
    }
   ],
   "source": [
    "dsp_data['SPECENERGY'].plot.kde()"
   ]
  },
  {
   "cell_type": "code",
   "execution_count": 64,
   "metadata": {},
   "outputs": [],
   "source": [
    "cor_energy = dsp_data.corr().fillna(0).sort_values('SPECENERGY')['SPECENERGY']"
   ]
  },
  {
   "cell_type": "code",
   "execution_count": 65,
   "metadata": {},
   "outputs": [
    {
     "name": "stdout",
     "output_type": "stream",
     "text": [
      "ACT_WEIGHT           -0.572915\n",
      "TAREWEIGHT           -0.304358\n",
      "CODE                 -0.287566\n",
      "16                   -0.220350\n",
      "FURNACE_TAPHOLEAGE   -0.201825\n",
      "FURNACE_ROOFAGE      -0.201825\n",
      "FURNACE_WALLAGE      -0.197308\n",
      "FURNACE_DELTAAGE     -0.197308\n",
      "FURNACE_BOTTOMAGE    -0.197281\n",
      "FURNACE_SHELLAGE     -0.197281\n",
      "Name: SPECENERGY, dtype: float64\n",
      "MELT_BASKET1_END-MELT_BASKET1_START(сек)    0.250080\n",
      "HEAT_END-HEAT_START(сек)                    0.274177\n",
      "SPECADDITIONS                               0.305658\n",
      "SPECCARBON                                  0.406940\n",
      "SPECGAS                                     0.429670\n",
      "TAPPING_KWH                                 0.449213\n",
      "TOTAL_P_ON.1                                0.513452\n",
      "TOTAL_P_ON                                  0.513452\n",
      "QUANTITY                                    0.596768\n",
      "SPECENERGY                                  1.000000\n",
      "Name: SPECENERGY, dtype: float64\n"
     ]
    }
   ],
   "source": [
    "print(cor_energy[:10])\n",
    "print(cor_energy[-10:])"
   ]
  },
  {
   "cell_type": "code",
   "execution_count": 66,
   "metadata": {},
   "outputs": [
    {
     "data": {
      "text/plain": [
       "<matplotlib.axes._subplots.AxesSubplot at 0x21a2ad6aa88>"
      ]
     },
     "execution_count": 66,
     "metadata": {},
     "output_type": "execute_result"
    },
    {
     "data": {
      "image/png": "[encoded data removed]",
      "text/plain": [
       "<Figure size 432x288 with 1 Axes>"
      ]
     },
     "metadata": {
      "needs_background": "light"
     },
     "output_type": "display_data"
    }
   ],
   "source": [
    "dsp_data['ACT_WEIGHT'].plot.kde()"
   ]
  },
  {
   "cell_type": "code",
   "execution_count": 70,
   "metadata": {},
   "outputs": [],
   "source": [
    "weight_cor = dsp_data.corr().fillna(0).sort_values('ACT_WEIGHT')['ACT_WEIGHT']"
   ]
  },
  {
   "cell_type": "code",
   "execution_count": 68,
   "metadata": {},
   "outputs": [
    {
     "name": "stdout",
     "output_type": "stream",
     "text": [
      "SPECENERGY                -0.572915\n",
      "SPECGAS                   -0.331493\n",
      "SPECCARBON                -0.227839\n",
      "SPECADDITIONS             -0.180978\n",
      "POSITIONROW_x             -0.146876\n",
      "13                        -0.141387\n",
      "SPECLADLEADDITION         -0.136262\n",
      "Магма_ACT_EGY_PODVALKA1   -0.127312\n",
      "TEMP_MEAS_COUNT           -0.110354\n",
      "TOTAL_P_OFF               -0.094449\n",
      "Name: ACT_WEIGHT, dtype: float64\n",
      "Магма-П_ACT_EGY_PODVALKA1    0.210335\n",
      "TAREWEIGHT                   0.220311\n",
      "CODE                         0.277674\n",
      "FURNACE_BOTTOMAGE            0.287138\n",
      "FURNACE_SHELLAGE             0.287138\n",
      "FURNACE_DELTAAGE             0.287153\n",
      "FURNACE_WALLAGE              0.287153\n",
      "FURNACE_ROOFAGE              0.289543\n",
      "FURNACE_TAPHOLEAGE           0.289543\n",
      "ACT_WEIGHT                   1.000000\n",
      "Name: ACT_WEIGHT, dtype: float64\n"
     ]
    }
   ],
   "source": [
    "print(weight_cor[:10])\n",
    "print(weight_cor[-10:])"
   ]
  }
 ],
 "metadata": {
  "kernelspec": {
   "display_name": "Python 3",
   "language": "python",
   "name": "python3"
  },
  "language_info": {
   "codemirror_mode": {
    "name": "ipython",
    "version": 3
   },
   "file_extension": ".py",
   "mimetype": "text/x-python",
   "name": "python",
   "nbconvert_exporter": "python",
   "pygments_lexer": "ipython3",
   "version": "3.7.4"
  }
 },
 "nbformat": 4,
 "nbformat_minor": 4
}
